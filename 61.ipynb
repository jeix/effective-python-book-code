{
 "cells": [
  {
   "cell_type": "markdown",
   "metadata": {},
   "source": [
    "## 7. Concurrency and Parallelism"
   ]
  },
  {
   "cell_type": "markdown",
   "metadata": {},
   "source": [
    "### 61 Know How to Port Threaded I/O to `asyncio`"
   ]
  },
  {
   "cell_type": "markdown",
   "metadata": {},
   "source": [
    "> cannot run within Jupyter"
   ]
  },
  {
   "cell_type": "code",
   "execution_count": null,
   "metadata": {},
   "outputs": [],
   "source": [
    "import logging"
   ]
  },
  {
   "cell_type": "code",
   "execution_count": null,
   "metadata": {},
   "outputs": [],
   "source": [
    "class EOFError(Exception):\n",
    "    pass"
   ]
  },
  {
   "cell_type": "code",
   "execution_count": null,
   "metadata": {},
   "outputs": [],
   "source": [
    "class ConnectionBase:\n",
    "    def __init__(self, connection):\n",
    "        self.connection = connection\n",
    "        self.file = connection.makefile('rb')\n",
    "\n",
    "    def send(self, command):\n",
    "        line = command + '\\n'\n",
    "        data = line.encode()\n",
    "        self.connection.send(data)\n",
    "\n",
    "    def receive(self):\n",
    "        line = self.file.readline()\n",
    "        if not line:\n",
    "            raise EOFError('Connection closed')\n",
    "        return line[:-1].decode()"
   ]
  },
  {
   "cell_type": "code",
   "execution_count": null,
   "metadata": {},
   "outputs": [],
   "source": [
    "import random"
   ]
  },
  {
   "cell_type": "code",
   "execution_count": null,
   "metadata": {},
   "outputs": [],
   "source": [
    "WARMER = 'Warmer'\n",
    "COLDER = 'Colder'\n",
    "UNSURE = 'Unsure'\n",
    "CORRECT = 'Correct'"
   ]
  },
  {
   "cell_type": "code",
   "execution_count": null,
   "metadata": {},
   "outputs": [],
   "source": [
    "class UnknownCommandError(Exception):\n",
    "    pass"
   ]
  },
  {
   "cell_type": "code",
   "execution_count": null,
   "metadata": {},
   "outputs": [],
   "source": [
    "class Session(ConnectionBase):\n",
    "    def __init__(self, *args):\n",
    "        super().__init__(*args)\n",
    "        self._clear_state(None, None)\n",
    "\n",
    "    def _clear_state(self, lower, upper):\n",
    "        self.lower = lower\n",
    "        self.upper = upper\n",
    "        self.secret = None\n",
    "        self.guesses = []\n",
    "\n",
    "    def loop(self):\n",
    "        while command := self.receive():\n",
    "            parts = command.split(' ')\n",
    "            if parts[0] == 'PARAMS':\n",
    "                self.set_params(parts)\n",
    "            elif parts[0] == 'NUMBER':\n",
    "                self.send_number()\n",
    "            elif parts[0] == 'REPORT':\n",
    "                self.receive_report(parts)\n",
    "            else:\n",
    "                raise UnknownCommandError(command)\n",
    "\n",
    "    def set_params(self, parts):\n",
    "        assert len(parts) == 3\n",
    "        lower = int(parts[1])\n",
    "        upper = int(parts[2])\n",
    "        self._clear_state(lower, upper)\n",
    "\n",
    "    def next_guess(self):\n",
    "        if self.secret is not None:\n",
    "            return self.secret\n",
    "\n",
    "        while True:\n",
    "            guess = random.randint(self.lower, self.upper)\n",
    "            if guess not in self.guesses:\n",
    "                return guess\n",
    "\n",
    "    def send_number(self):\n",
    "        guess = self.next_guess()\n",
    "        self.guesses.append(guess)\n",
    "        self.send(format(guess))\n",
    "\n",
    "    def receive_report(self, parts):\n",
    "        assert len(parts) == 2\n",
    "        decision = parts[1]\n",
    "\n",
    "        last = self.guesses[-1]\n",
    "        if decision == CORRECT:\n",
    "            self.secret = last\n",
    "\n",
    "        print(f'Server: {last} is {decision}')"
   ]
  },
  {
   "cell_type": "code",
   "execution_count": null,
   "metadata": {},
   "outputs": [],
   "source": [
    "import contextlib"
   ]
  },
  {
   "cell_type": "code",
   "execution_count": null,
   "metadata": {},
   "outputs": [],
   "source": [
    "import math"
   ]
  },
  {
   "cell_type": "code",
   "execution_count": null,
   "metadata": {},
   "outputs": [],
   "source": [
    "class Client(ConnectionBase):\n",
    "    def __init__(self, *args):\n",
    "        super().__init__(*args)\n",
    "        self._clear_state()\n",
    "\n",
    "    def _clear_state(self):\n",
    "        self.secret = None\n",
    "        self.last_distance = None\n",
    "\n",
    "    @contextlib.contextmanager\n",
    "    def session(self, lower, upper, secret):\n",
    "        print(f'Guess a number between {lower} and {upper}!'\n",
    "              f' Shhhhh, it\\'s {secret}.')\n",
    "        self.secret = secret\n",
    "        self.send(f'PARAMS {lower} {upper}')\n",
    "        try:\n",
    "            yield\n",
    "        finally:\n",
    "            self._clear_state()\n",
    "            self.send('PARAMS 0 -1')\n",
    "\n",
    "    def request_numbers(self, count):\n",
    "        for _ in range(count):\n",
    "            self.send('NUMBER')\n",
    "            data = self.receive()\n",
    "            yield int(data)\n",
    "            if self.last_distance == 0:\n",
    "                return\n",
    "\n",
    "    def report_outcome(self, number):\n",
    "        new_distance = math.fabs(number - self.secret)\n",
    "        decision = UNSURE\n",
    "\n",
    "        if new_distance == 0:\n",
    "            decision = CORRECT\n",
    "        elif self.last_distance is None:\n",
    "            pass\n",
    "        elif new_distance < self.last_distance:\n",
    "            decision = WARMER\n",
    "        elif new_distance > self.last_distance:\n",
    "            decision = COLDER\n",
    "\n",
    "        self.last_distance = new_distance\n",
    "\n",
    "        self.send(f'REPORT {decision}')\n",
    "        return decision"
   ]
  },
  {
   "cell_type": "code",
   "execution_count": null,
   "metadata": {},
   "outputs": [],
   "source": [
    "import socket"
   ]
  },
  {
   "cell_type": "code",
   "execution_count": null,
   "metadata": {},
   "outputs": [],
   "source": [
    "from threading import Thread"
   ]
  },
  {
   "cell_type": "code",
   "execution_count": null,
   "metadata": {},
   "outputs": [],
   "source": [
    "def handle_connection(connection):\n",
    "    with connection:\n",
    "        session = Session(connection)\n",
    "        try:\n",
    "            session.loop()\n",
    "        except EOFError:\n",
    "            pass"
   ]
  },
  {
   "cell_type": "code",
   "execution_count": null,
   "metadata": {},
   "outputs": [],
   "source": [
    "def run_server(address):\n",
    "    with socket.socket() as listener:\n",
    "        # Allow the port to be reused\n",
    "        listener.setsockopt(socket.SOL_SOCKET, socket.SO_REUSEADDR, 1)\n",
    "        listener.bind(address)\n",
    "        listener.listen()\n",
    "        while True:\n",
    "            connection, _ = listener.accept()\n",
    "            thread = Thread(target=handle_connection,\n",
    "                            args=(connection,),\n",
    "                            daemon=True)\n",
    "            thread.start()"
   ]
  },
  {
   "cell_type": "code",
   "execution_count": null,
   "metadata": {},
   "outputs": [],
   "source": [
    "def run_client(address):\n",
    "    with socket.create_connection(address) as connection:\n",
    "        client = Client(connection)\n",
    "\n",
    "        with client.session(1, 5, 3):\n",
    "            results = [(x, client.report_outcome(x))\n",
    "                       for x in client.request_numbers(5)]\n",
    "\n",
    "        with client.session(10, 15, 12):\n",
    "            for number in client.request_numbers(5):\n",
    "                outcome = client.report_outcome(number)\n",
    "                results.append((number, outcome))\n",
    "\n",
    "    return results"
   ]
  },
  {
   "cell_type": "code",
   "execution_count": null,
   "metadata": {},
   "outputs": [],
   "source": [
    "def main():\n",
    "    address = ('127.0.0.1', 1234)\n",
    "    server_thread = Thread(\n",
    "        target=run_server, args=(address,), daemon=True)\n",
    "    server_thread.start()\n",
    "\n",
    "    results = run_client(address)\n",
    "    for number, outcome in results:\n",
    "        print(f'Client: {number} is {outcome}')\n",
    "\n",
    "main()"
   ]
  },
  {
   "cell_type": "code",
   "execution_count": null,
   "metadata": {},
   "outputs": [],
   "source": [
    "class AsyncConnectionBase:\n",
    "    def __init__(self, reader, writer):             # Changed\n",
    "        self.reader = reader                        # Changed\n",
    "        self.writer = writer                        # Changed\n",
    "\n",
    "    async def send(self, command):\n",
    "        line = command + '\\n'\n",
    "        data = line.encode()\n",
    "        self.writer.write(data)                     # Changed\n",
    "        await self.writer.drain()                   # Changed\n",
    "\n",
    "    async def receive(self):\n",
    "        line = await self.reader.readline()         # Changed\n",
    "        if not line:\n",
    "            raise EOFError('Connection closed')\n",
    "        return line[:-1].decode()"
   ]
  },
  {
   "cell_type": "code",
   "execution_count": null,
   "metadata": {},
   "outputs": [],
   "source": [
    "class AsyncSession(AsyncConnectionBase):            # Changed\n",
    "    def __init__(self, *args):\n",
    "        super().__init__(*args)\n",
    "        self._clear_values(None, None)\n",
    "\n",
    "    def _clear_values(self, lower, upper):\n",
    "        self.lower = lower\n",
    "        self.upper = upper\n",
    "        self.secret = None\n",
    "        self.guesses = []\n",
    "\n",
    "    async def loop(self):                           # Changed\n",
    "        while command := await self.receive():      # Changed\n",
    "            parts = command.split(' ')\n",
    "            if parts[0] == 'PARAMS':\n",
    "                self.set_params(parts)\n",
    "            elif parts[0] == 'NUMBER':\n",
    "                await self.send_number()            # Changed\n",
    "            elif parts[0] == 'REPORT':\n",
    "                self.receive_report(parts)\n",
    "            else:\n",
    "                raise UnknownCommandError(command)\n",
    "\n",
    "    def set_params(self, parts):\n",
    "        assert len(parts) == 3\n",
    "        lower = int(parts[1])\n",
    "        upper = int(parts[2])\n",
    "        self._clear_values(lower, upper)\n",
    "\n",
    "    def next_guess(self):\n",
    "        if self.secret is not None:\n",
    "            return self.secret\n",
    "\n",
    "        while True:\n",
    "            guess = random.randint(self.lower, self.upper)\n",
    "            if guess not in self.guesses:\n",
    "                return guess\n",
    "\n",
    "    async def send_number(self):                    # Changed\n",
    "        guess = self.next_guess()\n",
    "        self.guesses.append(guess)\n",
    "        await self.send(format(guess))              # Changed\n",
    "\n",
    "    def receive_report(self, parts):\n",
    "        assert len(parts) == 2\n",
    "        decision = parts[1]\n",
    "\n",
    "        last = self.guesses[-1]\n",
    "        if decision == CORRECT:\n",
    "            self.secret = last\n",
    "\n",
    "        print(f'Server: {last} is {decision}')"
   ]
  },
  {
   "cell_type": "code",
   "execution_count": null,
   "metadata": {},
   "outputs": [],
   "source": [
    "class AsyncClient(AsyncConnectionBase):             # Changed\n",
    "    def __init__(self, *args):\n",
    "        super().__init__(*args)\n",
    "        self._clear_state()\n",
    "\n",
    "    def _clear_state(self):\n",
    "        self.secret = None\n",
    "        self.last_distance = None\n",
    "\n",
    "    @contextlib.asynccontextmanager                 # Changed\n",
    "    async def session(self, lower, upper, secret):  # Changed\n",
    "        print(f'Guess a number between {lower} and {upper}!'\n",
    "              f' Shhhhh, it\\'s {secret}.')\n",
    "        self.secret = secret\n",
    "        await self.send(f'PARAMS {lower} {upper}')  # Changed\n",
    "        try:\n",
    "            yield\n",
    "        finally:\n",
    "            self._clear_state()\n",
    "            await self.send('PARAMS 0 -1')          # Changed\n",
    "\n",
    "    async def request_numbers(self, count):         # Changed\n",
    "        for _ in range(count):\n",
    "            await self.send('NUMBER')               # Changed\n",
    "            data = await self.receive()             # Changed\n",
    "            yield int(data)\n",
    "            if self.last_distance == 0:\n",
    "                return\n",
    "\n",
    "    async def report_outcome(self, number):         # Changed\n",
    "        new_distance = math.fabs(number - self.secret)\n",
    "        decision = UNSURE\n",
    "\n",
    "        if new_distance == 0:\n",
    "            decision = CORRECT\n",
    "        elif self.last_distance is None:\n",
    "            pass\n",
    "        elif new_distance < self.last_distance:\n",
    "            decision = WARMER\n",
    "        elif new_distance > self.last_distance:\n",
    "            decision = COLDER\n",
    "\n",
    "        self.last_distance = new_distance\n",
    "\n",
    "        await self.send(f'REPORT {decision}')       # Changed\n",
    "        # Make it so the output printing is in\n",
    "        # the same order as the threaded version.\n",
    "        await asyncio.sleep(0.01)\n",
    "        return decision"
   ]
  },
  {
   "cell_type": "code",
   "execution_count": null,
   "metadata": {},
   "outputs": [],
   "source": [
    "import asyncio"
   ]
  },
  {
   "cell_type": "code",
   "execution_count": null,
   "metadata": {},
   "outputs": [],
   "source": [
    "async def handle_async_connection(reader, writer):\n",
    "    session = AsyncSession(reader, writer)\n",
    "    try:\n",
    "        await session.loop()\n",
    "    except EOFError:\n",
    "        pass"
   ]
  },
  {
   "cell_type": "code",
   "execution_count": null,
   "metadata": {},
   "outputs": [],
   "source": [
    "async def run_async_server(address):\n",
    "    server = await asyncio.start_server(\n",
    "        handle_async_connection, *address)\n",
    "    async with server:\n",
    "        await server.serve_forever()"
   ]
  },
  {
   "cell_type": "code",
   "execution_count": null,
   "metadata": {},
   "outputs": [],
   "source": [
    "async def run_async_client(address):\n",
    "    # Wait for the server to listen before trying to connect\n",
    "    await asyncio.sleep(0.1)\n",
    "\n",
    "    streams = await asyncio.open_connection(*address)   # New\n",
    "    client = AsyncClient(*streams)                      # New\n",
    "\n",
    "    async with client.session(1, 5, 3):\n",
    "        results = [(x, await client.report_outcome(x))\n",
    "                   async for x in client.request_numbers(5)]\n",
    "\n",
    "    async with client.session(10, 15, 12):\n",
    "        async for number in client.request_numbers(5):\n",
    "            outcome = await client.report_outcome(number)\n",
    "            results.append((number, outcome))\n",
    "\n",
    "    _, writer = streams                                 # New\n",
    "    writer.close()                                      # New\n",
    "    await writer.wait_closed()                          # New\n",
    "\n",
    "    return results"
   ]
  },
  {
   "cell_type": "code",
   "execution_count": null,
   "metadata": {},
   "outputs": [],
   "source": [
    "async def main_async():\n",
    "    address = ('127.0.0.1', 4321)\n",
    "\n",
    "    server = run_async_server(address)\n",
    "    asyncio.create_task(server)\n",
    "\n",
    "    results = await run_async_client(address)\n",
    "    for number, outcome in results:\n",
    "        print(f'Client: {number} is {outcome}')\n",
    "\n",
    "logging.getLogger().setLevel(logging.ERROR)\n",
    "\n",
    "asyncio.run(main_async())\n",
    "\n",
    "logging.getLogger().setLevel(logging.DEBUG)"
   ]
  },
  {
   "cell_type": "markdown",
   "metadata": {},
   "source": [
    "> - 파이썬은 `for` 루프, `with` 문, 제너레이터, 컴프리헨션의 비동기 버전을 제공하고, 코루틴 안에서 기존 라이브러리 헬퍼 함수를 대신해 즉시 사용할 수 있는 대안을 제공한다.\n",
    "> - `asyncio` 내장 모듈을 사용하면 스레드와 블로킹 I/O를 사용하는 기존 코드를 코루틴과 비동기 I/O를 사용하는 코드로 쉽게 포팅할 수 있다."
   ]
  }
 ],
 "metadata": {
  "kernelspec": {
   "display_name": "Python 3",
   "language": "python",
   "name": "python3"
  },
  "language_info": {
   "codemirror_mode": {
    "name": "ipython",
    "version": 3
   },
   "file_extension": ".py",
   "mimetype": "text/x-python",
   "name": "python",
   "nbconvert_exporter": "python",
   "pygments_lexer": "ipython3",
   "version": "3.8.7"
  }
 },
 "nbformat": 4,
 "nbformat_minor": 5
}
