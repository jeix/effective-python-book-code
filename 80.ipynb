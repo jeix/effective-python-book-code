{
 "cells": [
  {
   "cell_type": "markdown",
   "metadata": {},
   "source": [
    "## 9. Testing and Debugging"
   ]
  },
  {
   "cell_type": "markdown",
   "metadata": {},
   "source": [
    "### 80 Consider Interactive Debugging with `pdb`"
   ]
  },
  {
   "cell_type": "markdown",
   "metadata": {},
   "source": [
    "```python\n",
    "# always_breakpoint.py\n",
    "\n",
    "import math\n",
    "\n",
    "def compute_rmse(observed, ideal):\n",
    "    total_err_2 = 0\n",
    "    count = 0\n",
    "    for got, wanted in zip(observed, ideal):\n",
    "        err_2 = (got - wanted) ** 2\n",
    "        breakpoint()  # Start the debugger here\n",
    "        total_err_2 += err_2\n",
    "        count += 1\n",
    "\n",
    "    mean_err = total_err_2 / count\n",
    "    rmse = math.sqrt(mean_err)\n",
    "    return rmse\n",
    "\n",
    "result = compute_rmse(\n",
    "    [1.8, 1.7, 3.2, 6],\n",
    "    [2, 1.5, 3, 5])\n",
    "print(result)\n",
    "```"
   ]
  },
  {
   "cell_type": "markdown",
   "metadata": {},
   "source": [
    "```shell\n",
    "$ python always_breakpoint.py\n",
    "> /home/jay/_doc/spike/python/effective/80/always_breakpoint.py(25)compute_rmse()\n",
    "-> total_err_2 += err_2\n",
    "(Pdb) where\n",
    "  /home/jay/_doc/spike/python/effective/80/always_breakpoint.py(32)<module>()\n",
    "-> result = compute_rmse(\n",
    "> /home/jay/_doc/spike/python/effective/80/always_breakpoint.py(25)compute_rmse()\n",
    "-> total_err_2 += err_2\n",
    "(Pdb) \n",
    "```"
   ]
  },
  {
   "cell_type": "markdown",
   "metadata": {},
   "source": [
    "```\n",
    "where\n",
    "u, up\n",
    "d, down\n",
    "\n",
    "step     -- step in\n",
    "next     -- step over\n",
    "return   -- step out\n",
    "continue\n",
    "quit\n",
    "```"
   ]
  },
  {
   "cell_type": "markdown",
   "metadata": {},
   "source": [
    "```python\n",
    "# conditional_breakpoint.py\n",
    "\n",
    "import math\n",
    "\n",
    "def compute_rmse(observed, ideal):\n",
    "    total_err_2 = 0\n",
    "    count = 0\n",
    "    for got, wanted in zip(observed, ideal):\n",
    "        err_2 = (got - wanted) ** 2\n",
    "        if err_2 >= 1:  # Start the debugger if True\n",
    "            breakpoint()\n",
    "        total_err_2 += err_2\n",
    "        count += 1\n",
    "    mean_err = total_err_2 / count\n",
    "    rmse = math.sqrt(mean_err)\n",
    "    return rmse\n",
    "\n",
    "result = compute_rmse(\n",
    "    [1.8, 1.7, 3.2, 7],\n",
    "    [2, 1.5, 3, 5])\n",
    "print(result)\n",
    "```"
   ]
  },
  {
   "cell_type": "markdown",
   "metadata": {},
   "source": [
    "```shell\n",
    "$ python conditional_breakpoint.py\n",
    "> /home/jay/_doc/spike/python/effective/80/conditional_breakpoint.py(25)compute_rmse()\n",
    "-> total_err_2 += err_2\n",
    "(Pdb) wanted\n",
    "5\n",
    "(Pdb) got\n",
    "7\n",
    "(Pdb) err_2\n",
    "4\n",
    "(Pdb) continue\n",
    "1.014889156509222\n",
    "```"
   ]
  },
  {
   "cell_type": "markdown",
   "metadata": {},
   "source": [
    "```python\n",
    "# postmortem_breakpoint.py\n",
    "\n",
    "import math\n",
    "\n",
    "def compute_rmse(observed, ideal):\n",
    "    total_err_2 = 0\n",
    "    count = 0\n",
    "    for got, wanted in zip(observed, ideal):\n",
    "        err_2 = (got - wanted) ** 2\n",
    "        total_err_2 += err_2\n",
    "        count += 1\n",
    "\n",
    "    mean_err = total_err_2 / count\n",
    "    rmse = math.sqrt(mean_err)\n",
    "    return rmse\n",
    "\n",
    "result = compute_rmse(\n",
    "    [1.8, 1.7, 3.2, 7j],  # Bad input\n",
    "    [2, 1.5, 3, 5])\n",
    "print(result)\n",
    "```"
   ]
  },
  {
   "cell_type": "markdown",
   "metadata": {},
   "source": [
    "```shell\n",
    "$ python postmortem_breakpoint.py \n",
    "Traceback (most recent call last):\n",
    "  File \"postmortem_breakpoint.py\", line 31, in <module>\n",
    "    result = compute_rmse(\n",
    "  File \"postmortem_breakpoint.py\", line 28, in compute_rmse\n",
    "    rmse = math.sqrt(mean_err)\n",
    "TypeError: can't convert complex to float\n",
    "```"
   ]
  },
  {
   "cell_type": "markdown",
   "metadata": {},
   "source": [
    "```shell\n",
    "$ python -m pdb -c continue postmortem_breakpoint.py \n",
    "Traceback (most recent call last):\n",
    "  File \"/usr/local/lib/python3.8/pdb.py\", line 1704, in main\n",
    "    pdb._runscript(mainpyfile)\n",
    "  File \"/usr/local/lib/python3.8/pdb.py\", line 1573, in _runscript\n",
    "    self.run(statement)\n",
    "  File \"/usr/local/lib/python3.8/bdb.py\", line 580, in run\n",
    "    exec(cmd, globals, locals)\n",
    "  File \"<string>\", line 1, in <module>\n",
    "  File \"/home/jay/_doc/spike/python/effective/80/postmortem_breakpoint.py\", line 17, in <module>\n",
    "    import math\n",
    "  File \"/home/jay/_doc/spike/python/effective/80/postmortem_breakpoint.py\", line 28, in compute_rmse\n",
    "    rmse = math.sqrt(mean_err)\n",
    "TypeError: can't convert complex to float\n",
    "Uncaught exception. Entering post mortem debugging\n",
    "Running 'cont' or 'step' will restart the program\n",
    "> /home/jay/_doc/spike/python/effective/80/postmortem_breakpoint.py(28)compute_rmse()\n",
    "-> rmse = math.sqrt(mean_err)\n",
    "(Pdb) \n",
    "```"
   ]
  },
  {
   "cell_type": "markdown",
   "metadata": {},
   "source": [
    "```python\n",
    "# my_module.py\n",
    "\n",
    "import math\n",
    "\n",
    "def squared_error(point, mean):\n",
    "    err = point - mean\n",
    "    return err ** 2\n",
    "\n",
    "def compute_variance(data):\n",
    "    mean = sum(data) / len(data)\n",
    "    err_2_sum = sum(squared_error(x, mean) for x in data)\n",
    "    variance = err_2_sum / (len(data) - 1)\n",
    "    return variance\n",
    "\n",
    "def compute_stddev(data):\n",
    "    variance = compute_variance(data)\n",
    "    return math.sqrt(variance)\n",
    "```"
   ]
  },
  {
   "cell_type": "markdown",
   "metadata": {},
   "source": [
    "```shell\n",
    "$ python\n",
    ">>> import my_module\n",
    ">>> my_module.compute_stddev([5])\n",
    "Traceback (most recent call last):\n",
    "  File \"<stdin>\", line 1, in <module>\n",
    "  File \"/home/jay/_doc/spike/python/effective/80/my_module.py\", line 30, in compute_stddev\n",
    "    variance = compute_variance(data)\n",
    "  File \"/home/jay/_doc/spike/python/effective/80/my_module.py\", line 26, in compute_variance\n",
    "    variance = err_2_sum / (len(data) - 1)\n",
    "ZeroDivisionError: float division by zero\n",
    ">>> import pdb; pdb.pm()\n",
    "> /home/jay/_doc/spike/python/effective/80/my_module.py(26)compute_variance()\n",
    "-> variance = err_2_sum / (len(data) - 1)\n",
    "(Pdb) err_2_sum\n",
    "0.0\n",
    "(Pdb) len(data)\n",
    "1\n",
    "(Pdb) \n",
    "```"
   ]
  },
  {
   "cell_type": "markdown",
   "metadata": {},
   "source": [
    "> - 프로그램에서 관심이 있는 부분에 `breakpoint` 내장 함수 호출을 추가하면 (프로그램을 실행하던 중에) 그 위치에서 파이썬 대화형 디버거를 시작할 수 있다.\n",
    "> - 파이썬 디버거 프롬프트는 완전한 파이썬 셸이기 때문에 실행 중인 프로그램의 상태를 원하는 대로 관찰하거나 변경할 수 있다.\n",
    "> - `pdb3` 셸 명렬어를 사용하면 프로그램 실행을 정밀하게 제어할 수 있고, 프로그램의 상태를 관찰하는 과정과 프로그램을 진행시키는 과정을 번갈아가며 수행할 수 있다.\n",
    "> - 독립 실행한 파이썬 프로그램에서 예외가 발생하는 경우, `pdb` 모듈을 사용(`python -m pdb -c continue /path/to/program`)하거나 대화형 파이썬 인터프리터(`import pdb; pdb.pm()`)를 사용해 디버깅할 수 있다."
   ]
  }
 ],
 "metadata": {
  "kernelspec": {
   "display_name": "Python 3",
   "language": "python",
   "name": "python3"
  },
  "language_info": {
   "codemirror_mode": {
    "name": "ipython",
    "version": 3
   },
   "file_extension": ".py",
   "mimetype": "text/x-python",
   "name": "python",
   "nbconvert_exporter": "python",
   "pygments_lexer": "ipython3",
   "version": "3.8.7"
  }
 },
 "nbformat": 4,
 "nbformat_minor": 4
}
