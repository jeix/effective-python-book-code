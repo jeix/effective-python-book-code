{
 "cells": [
  {
   "cell_type": "markdown",
   "metadata": {},
   "source": [
    "## 10. Collaboration"
   ]
  },
  {
   "cell_type": "markdown",
   "metadata": {},
   "source": [
    "### 84 Write Docstrings for Every Function, Class, and Module"
   ]
  },
  {
   "cell_type": "code",
   "execution_count": 1,
   "metadata": {},
   "outputs": [],
   "source": [
    "def palindrome(word):\n",
    "    \"\"\"Return True if the given word is a palindrome.\"\"\"\n",
    "    return word == word[::-1]\n",
    "\n",
    "assert palindrome('tacocat')\n",
    "assert not palindrome('banana')"
   ]
  },
  {
   "cell_type": "code",
   "execution_count": 2,
   "metadata": {},
   "outputs": [
    {
     "name": "stdout",
     "output_type": "stream",
     "text": [
      "'Return True if the given word is a palindrome.'\n"
     ]
    }
   ],
   "source": [
    "print(repr(palindrome.__doc__))"
   ]
  },
  {
   "cell_type": "markdown",
   "metadata": {},
   "source": [
    "```shell\n",
    "$ python -m pydoc -p 1234\n",
    "Server ready at http://localhost:1234/\n",
    "Server commands: [b]rowser, [q]uit\n",
    "server> b\n",
    "```"
   ]
  },
  {
   "cell_type": "markdown",
   "metadata": {},
   "source": [
    "#### 모듈 문서화"
   ]
  },
  {
   "cell_type": "markdown",
   "metadata": {},
   "source": [
    "```python\n",
    "#!/usr/bin/env python3\n",
    "\"\"\"Library for finding linguistic patterns in words.\n",
    "\n",
    "Testing how words relate to each other can be tricky sometimes!\n",
    "This module provides easy ways to determine when words you've\n",
    "found have special properties.\n",
    "\n",
    "Available functions:\n",
    "- palindrome: Determine if a word is a palindrome.\n",
    "- check_anagram: Determine if two words are anagrams.\n",
    "...\n",
    "\"\"\"\n",
    "```"
   ]
  },
  {
   "cell_type": "markdown",
   "metadata": {},
   "source": [
    "#### 클래스 문서화"
   ]
  },
  {
   "cell_type": "code",
   "execution_count": 7,
   "metadata": {},
   "outputs": [],
   "source": [
    "class Player:\n",
    "    \"\"\"Represents a player of the game.\n",
    "    \n",
    "    Subclasses may override the 'tick' method to provide\n",
    "    custom animations for the player's movement depending\n",
    "    on their power level, etc.\n",
    "    \n",
    "    Public attributes:\n",
    "    - power: Unused power-ups (float between 0 and 1).\n",
    "    - coins: Coins found during the level (integer).\n",
    "    \"\"\""
   ]
  },
  {
   "cell_type": "markdown",
   "metadata": {},
   "source": [
    "#### 함수 문서화"
   ]
  },
  {
   "cell_type": "code",
   "execution_count": 5,
   "metadata": {},
   "outputs": [],
   "source": [
    "import itertools\n",
    "\n",
    "def find_anagrams(word, dictionary):\n",
    "    \"\"\"Find all anagrams for a word.\n",
    "    \n",
    "    This function only runs as fast as the test for\n",
    "    membership in the 'dictionary' container.\n",
    "    \n",
    "    Args:\n",
    "        word: String of the target word.\n",
    "        dictionary: collections.abc.Container with all\n",
    "            strings that are known to be actual words.\n",
    "    \n",
    "    Returns:\n",
    "        List of anagrams that were found. Empty if\n",
    "        none were found.\n",
    "    \"\"\"\n",
    "    permutations = itertools.permutations(word, len(word))\n",
    "    possible = (''.join(x) for x in permutations)\n",
    "    found = {word for word in possible if word in dictionary}\n",
    "    return list(found)\n",
    "\n",
    "assert find_anagrams('pancakes', ['scanpeak']) == ['scanpeak']"
   ]
  },
  {
   "cell_type": "markdown",
   "metadata": {},
   "source": [
    "#### 독스트링, 타입 애너테이션"
   ]
  },
  {
   "cell_type": "code",
   "execution_count": 6,
   "metadata": {},
   "outputs": [],
   "source": [
    "from typing import Container, List\n",
    "\n",
    "def find_anagrams(word: str,\n",
    "                  dictionary: Container[str]) -> List[str]:\n",
    "    \"\"\"Find all anagrams for a word.\n",
    "    \n",
    "    This function only runs as fast as the test for\n",
    "    membership in the 'dictionary' container.\n",
    "    \n",
    "    Args:\n",
    "        word: Target word.\n",
    "        dictionary: All known actual words.\n",
    "        \n",
    "    Returns:\n",
    "        Anagrams that were found.\n",
    "    \"\"\"\n",
    "    pass"
   ]
  },
  {
   "cell_type": "markdown",
   "metadata": {},
   "source": [
    "> - 독스트링을 사용해 모든 모듈, 클래스, 메서드, 함수에 대해 문서를 작성하라. 코드를 변경할 때마다 독스트링을 최신 상태로 유지하라.\n",
    "> - 모듈의 경우 : 모듈의 내용과 사용자가 알아야 하는 중요한 클래스나 함수를 독스트링에 소개하라.\n",
    "> - 클래스의 경우 : 동작, 중요한 애트리뷰트, 하위 클래스의 동작 등을 `class` 문 뒤에 나오는 독스트링에 문서화하라.\n",
    "> - 함수와 메서드의 경우 : 모든 인자, 반환 값, 발생하는 예외, 기타 세부적인 동작 등을 `def` 문 바로 뒤에 오는 독스트링에 설명하라.\n",
    "> - 타입 애너테이션을 사용하는 경우 : 타입 애너테이션에 들어 있는 정보를 독스트링에 기술하지 말라. 타입 애너테이션과 독스트링에 모두 타입 정보를 기술하는 것은 불필요한 중복 작업이다."
   ]
  }
 ],
 "metadata": {
  "kernelspec": {
   "display_name": "Python 3",
   "language": "python",
   "name": "python3"
  },
  "language_info": {
   "codemirror_mode": {
    "name": "ipython",
    "version": 3
   },
   "file_extension": ".py",
   "mimetype": "text/x-python",
   "name": "python",
   "nbconvert_exporter": "python",
   "pygments_lexer": "ipython3",
   "version": "3.8.7"
  }
 },
 "nbformat": 4,
 "nbformat_minor": 4
}
