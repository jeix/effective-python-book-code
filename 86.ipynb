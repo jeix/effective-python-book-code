{
 "cells": [
  {
   "cell_type": "markdown",
   "metadata": {},
   "source": [
    "## 10. Collaboration"
   ]
  },
  {
   "cell_type": "markdown",
   "metadata": {},
   "source": [
    "### 86 Consider Module-Scoped Code to Configure Deployment Environments"
   ]
  },
  {
   "cell_type": "markdown",
   "metadata": {},
   "source": [
    "```python\n",
    "# dev_main.py\n",
    "\n",
    "TESTING = True\n",
    "\n",
    "import db_connection\n",
    "\n",
    "db = db_connection.Database()\n",
    "```"
   ]
  },
  {
   "cell_type": "markdown",
   "metadata": {},
   "source": [
    "```python\n",
    "# prod_main.py\n",
    "\n",
    "TESTING = False\n",
    "\n",
    "import db_connection\n",
    "\n",
    "db = db_connection.Database()\n",
    "```"
   ]
  },
  {
   "cell_type": "markdown",
   "metadata": {},
   "source": [
    "```python\n",
    "# db_connection.py\n",
    "\n",
    "import __main__\n",
    "\n",
    "class TestingDatabase:\n",
    "    pass\n",
    "\n",
    "class RealDatabase:\n",
    "    pass\n",
    "\n",
    "if __main__.TESTING:\n",
    "    Database = TestingDatabase\n",
    "else:\n",
    "    Database = RealDatabase\n",
    "```"
   ]
  },
  {
   "cell_type": "markdown",
   "metadata": {},
   "source": [
    "```python\n",
    "# db_connection.py\n",
    "\n",
    "import sys\n",
    "\n",
    "class Win32Database:\n",
    "    pass\n",
    "\n",
    "class PosixDatabase:\n",
    "    pass\n",
    "\n",
    "if sys.platform.startswith('win32'):\n",
    "    Database = Win32Database\n",
    "else:\n",
    "    Database = PosixDatabase\n",
    "```"
   ]
  },
  {
   "cell_type": "markdown",
   "metadata": {},
   "source": [
    "> - 고유한 가정과 설정이 있는 다양한 배포 환경에서 프로그램을 실행해야 하는 경우가 많다.\n",
    "> - 모듈 영역에서 일반적인 파이썬 문을 사용하면 각 배포 환경에 맞게 모듈의 내용을 조정할 수 있다.\n",
    "> - 모듈 내용은 모든 외부 조건에 따라 달라질 수 있는 결과물이다. 외부 조건에는 `sys`나 `os` 모듈을 사용해 알아낸 호스트 인트로스펙션 정보가 포함된다."
   ]
  }
 ],
 "metadata": {
  "kernelspec": {
   "display_name": "Python 3",
   "language": "python",
   "name": "python3"
  },
  "language_info": {
   "codemirror_mode": {
    "name": "ipython",
    "version": 3
   },
   "file_extension": ".py",
   "mimetype": "text/x-python",
   "name": "python",
   "nbconvert_exporter": "python",
   "pygments_lexer": "ipython3",
   "version": "3.8.7"
  }
 },
 "nbformat": 4,
 "nbformat_minor": 4
}
