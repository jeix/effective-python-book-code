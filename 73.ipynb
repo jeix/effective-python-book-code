{
 "cells": [
  {
   "cell_type": "markdown",
   "metadata": {},
   "source": [
    "## 8. Robustness and Performance"
   ]
  },
  {
   "cell_type": "markdown",
   "metadata": {},
   "source": [
    "### 73 Know How to Use `heapq` for Priority Queues"
   ]
  },
  {
   "cell_type": "code",
   "execution_count": 1,
   "metadata": {},
   "outputs": [],
   "source": [
    "import logging"
   ]
  },
  {
   "cell_type": "code",
   "execution_count": 2,
   "metadata": {},
   "outputs": [],
   "source": [
    "class Book:\n",
    "    def __init__(self, title, due_date):\n",
    "        self.title = title\n",
    "        self.due_date = due_date"
   ]
  },
  {
   "cell_type": "code",
   "execution_count": 3,
   "metadata": {},
   "outputs": [],
   "source": [
    "def add_book(queue, book):\n",
    "    queue.append(book)\n",
    "    queue.sort(key=lambda x: x.due_date, reverse=True)"
   ]
  },
  {
   "cell_type": "code",
   "execution_count": 4,
   "metadata": {},
   "outputs": [],
   "source": [
    "queue = []\n",
    "add_book(queue, Book('Don Quixote', '2019-06-07'))\n",
    "add_book(queue, Book('Frankenstein', '2019-06-05'))\n",
    "add_book(queue, Book('Les Misérables', '2019-06-08'))\n",
    "add_book(queue, Book('War and Peace', '2019-06-03'))"
   ]
  },
  {
   "cell_type": "code",
   "execution_count": 5,
   "metadata": {},
   "outputs": [],
   "source": [
    "class NoOverdueBooks(Exception):\n",
    "    pass"
   ]
  },
  {
   "cell_type": "code",
   "execution_count": 6,
   "metadata": {},
   "outputs": [],
   "source": [
    "def next_overdue_book(queue, now):\n",
    "    if queue:\n",
    "        book = queue[-1]\n",
    "        if book.due_date < now:\n",
    "            queue.pop()\n",
    "            return book\n",
    "\n",
    "    raise NoOverdueBooks"
   ]
  },
  {
   "cell_type": "code",
   "execution_count": 7,
   "metadata": {},
   "outputs": [
    {
     "name": "stdout",
     "output_type": "stream",
     "text": [
      "War and Peace\n",
      "Frankenstein\n"
     ]
    }
   ],
   "source": [
    "now = '2019-06-10'\n",
    "\n",
    "found = next_overdue_book(queue, now)\n",
    "print(found.title)\n",
    "\n",
    "found = next_overdue_book(queue, now)\n",
    "print(found.title)"
   ]
  },
  {
   "cell_type": "code",
   "execution_count": 8,
   "metadata": {},
   "outputs": [],
   "source": [
    "def return_book(queue, book):\n",
    "    queue.remove(book)"
   ]
  },
  {
   "cell_type": "code",
   "execution_count": 9,
   "metadata": {},
   "outputs": [
    {
     "name": "stdout",
     "output_type": "stream",
     "text": [
      "Before return: ['Treasure Island']\n",
      "After return:  []\n"
     ]
    }
   ],
   "source": [
    "queue = []\n",
    "book = Book('Treasure Island', '2019-06-04')\n",
    "\n",
    "add_book(queue, book)\n",
    "print('Before return:', [x.title for x in queue])\n",
    "\n",
    "return_book(queue, book)\n",
    "print('After return: ', [x.title for x in queue])"
   ]
  },
  {
   "cell_type": "code",
   "execution_count": 10,
   "metadata": {},
   "outputs": [],
   "source": [
    "try:\n",
    "    next_overdue_book(queue, now)\n",
    "except NoOverdueBooks:\n",
    "    pass          # Expected\n",
    "else:\n",
    "    assert False  # Doesn't happen"
   ]
  },
  {
   "cell_type": "code",
   "execution_count": 11,
   "metadata": {},
   "outputs": [],
   "source": [
    "import random"
   ]
  },
  {
   "cell_type": "code",
   "execution_count": 12,
   "metadata": {},
   "outputs": [],
   "source": [
    "import timeit"
   ]
  },
  {
   "cell_type": "code",
   "execution_count": 13,
   "metadata": {},
   "outputs": [],
   "source": [
    "def print_results(count, tests):\n",
    "    avg_iteration = sum(tests) / len(tests)\n",
    "    print(f'Count {count:>5,} takes {avg_iteration:.6f}s')\n",
    "    return count, avg_iteration\n",
    "\n",
    "def print_delta(before, after):\n",
    "    before_count, before_time = before\n",
    "    after_count, after_time = after\n",
    "    growth = 1 + (after_count - before_count) / before_count\n",
    "    slowdown = 1 + (after_time - before_time) / before_time\n",
    "    print(f'{growth:>4.1f}x data size, {slowdown:>4.1f}x time')"
   ]
  },
  {
   "cell_type": "code",
   "execution_count": 14,
   "metadata": {},
   "outputs": [
    {
     "name": "stdout",
     "output_type": "stream",
     "text": [
      "Count   500 takes 0.001424s\n",
      "\n",
      "Count 1,000 takes 0.004351s\n",
      " 2.0x data size,  3.1x time\n",
      "\n",
      "Count 1,500 takes 0.008618s\n",
      " 3.0x data size,  6.1x time\n",
      "\n",
      "Count 2,000 takes 0.015331s\n",
      " 4.0x data size, 10.8x time\n"
     ]
    }
   ],
   "source": [
    "def list_overdue_benchmark(count):\n",
    "    def prepare():\n",
    "        to_add = list(range(count))\n",
    "        random.shuffle(to_add)\n",
    "        return [], to_add\n",
    "\n",
    "    def run(queue, to_add):\n",
    "        for i in to_add:\n",
    "            queue.append(i)\n",
    "            queue.sort(reverse=True)\n",
    "\n",
    "        while queue:\n",
    "            queue.pop()\n",
    "\n",
    "    tests = timeit.repeat(\n",
    "        setup='queue, to_add = prepare()',\n",
    "        stmt=f'run(queue, to_add)',\n",
    "        globals=locals(),\n",
    "        repeat=100,\n",
    "        number=1)\n",
    "\n",
    "    return print_results(count, tests)\n",
    "\n",
    "baseline = list_overdue_benchmark(500)\n",
    "for count in (1_000, 1_500, 2_000):\n",
    "    print()\n",
    "    comparison = list_overdue_benchmark(count)\n",
    "    print_delta(baseline, comparison)"
   ]
  },
  {
   "cell_type": "code",
   "execution_count": 15,
   "metadata": {},
   "outputs": [
    {
     "name": "stdout",
     "output_type": "stream",
     "text": [
      "Count   500 takes 0.001156s\n",
      "\n",
      "Count 1,000 takes 0.004571s\n",
      " 2.0x data size,  4.0x time\n",
      "\n",
      "Count 1,500 takes 0.010409s\n",
      " 3.0x data size,  9.0x time\n",
      "\n",
      "Count 2,000 takes 0.018811s\n",
      " 4.0x data size, 16.3x time\n"
     ]
    }
   ],
   "source": [
    "def list_return_benchmark(count):\n",
    "    def prepare():\n",
    "        queue = list(range(count))\n",
    "        random.shuffle(queue)\n",
    "\n",
    "        to_return = list(range(count))\n",
    "        random.shuffle(to_return)\n",
    "\n",
    "        return queue, to_return\n",
    "\n",
    "    def run(queue, to_return):\n",
    "        for i in to_return:\n",
    "            queue.remove(i)\n",
    "\n",
    "    tests = timeit.repeat(\n",
    "        setup='queue, to_return = prepare()',\n",
    "        stmt=f'run(queue, to_return)',\n",
    "        globals=locals(),\n",
    "        repeat=100,\n",
    "        number=1)\n",
    "\n",
    "    return print_results(count, tests)\n",
    "\n",
    "baseline = list_return_benchmark(500)\n",
    "for count in (1_000, 1_500, 2_000):\n",
    "    print()\n",
    "    comparison = list_return_benchmark(count)\n",
    "    print_delta(baseline, comparison)"
   ]
  },
  {
   "cell_type": "code",
   "execution_count": 16,
   "metadata": {},
   "outputs": [],
   "source": [
    "from heapq import heappush"
   ]
  },
  {
   "cell_type": "code",
   "execution_count": 17,
   "metadata": {},
   "outputs": [],
   "source": [
    "def add_book(queue, book):\n",
    "    heappush(queue, book)"
   ]
  },
  {
   "cell_type": "code",
   "execution_count": 18,
   "metadata": {},
   "outputs": [
    {
     "name": "stderr",
     "output_type": "stream",
     "text": [
      "ERROR:root:Expected\n",
      "Traceback (most recent call last):\n",
      "  File \"<ipython-input-18-c33d162d780d>\", line 4, in <module>\n",
      "    add_book(queue, Book('The Time Machine', '2019-05-30'))\n",
      "  File \"<ipython-input-17-7948396ce409>\", line 2, in add_book\n",
      "    heappush(queue, book)\n",
      "TypeError: '<' not supported between instances of 'Book' and 'Book'\n"
     ]
    }
   ],
   "source": [
    "try:\n",
    "    queue = []\n",
    "    add_book(queue, Book('Little Women', '2019-06-05'))\n",
    "    add_book(queue, Book('The Time Machine', '2019-05-30'))\n",
    "except:\n",
    "    logging.exception('Expected')\n",
    "else:\n",
    "    assert False"
   ]
  },
  {
   "cell_type": "code",
   "execution_count": 19,
   "metadata": {},
   "outputs": [],
   "source": [
    "import functools\n",
    "\n",
    "@functools.total_ordering\n",
    "class Book:\n",
    "    def __init__(self, title, due_date):\n",
    "        self.title = title\n",
    "        self.due_date = due_date\n",
    "\n",
    "    def __lt__(self, other):\n",
    "        return self.due_date < other.due_date"
   ]
  },
  {
   "cell_type": "code",
   "execution_count": 20,
   "metadata": {},
   "outputs": [
    {
     "name": "stdout",
     "output_type": "stream",
     "text": [
      "['The Time Machine', 'Pride and Prejudice', 'Crime and Punishment', 'Wuthering Heights']\n"
     ]
    }
   ],
   "source": [
    "queue = []\n",
    "add_book(queue, Book('Pride and Prejudice', '2019-06-01'))\n",
    "add_book(queue, Book('The Time Machine', '2019-05-30'))\n",
    "add_book(queue, Book('Crime and Punishment', '2019-06-06'))\n",
    "add_book(queue, Book('Wuthering Heights', '2019-06-12'))\n",
    "print([b.title for b in queue])"
   ]
  },
  {
   "cell_type": "code",
   "execution_count": 21,
   "metadata": {},
   "outputs": [
    {
     "name": "stdout",
     "output_type": "stream",
     "text": [
      "['The Time Machine', 'Pride and Prejudice', 'Crime and Punishment', 'Wuthering Heights']\n"
     ]
    }
   ],
   "source": [
    "queue = [\n",
    "    Book('Pride and Prejudice', '2019-06-01'),\n",
    "    Book('The Time Machine', '2019-05-30'),\n",
    "    Book('Crime and Punishment', '2019-06-06'),\n",
    "    Book('Wuthering Heights', '2019-06-12'),\n",
    "]\n",
    "queue.sort()\n",
    "print([b.title for b in queue])"
   ]
  },
  {
   "cell_type": "code",
   "execution_count": 22,
   "metadata": {},
   "outputs": [
    {
     "name": "stdout",
     "output_type": "stream",
     "text": [
      "['The Time Machine', 'Pride and Prejudice', 'Crime and Punishment', 'Wuthering Heights']\n"
     ]
    }
   ],
   "source": [
    "from heapq import heapify\n",
    "\n",
    "queue = [\n",
    "    Book('Pride and Prejudice', '2019-06-01'),\n",
    "    Book('The Time Machine', '2019-05-30'),\n",
    "    Book('Crime and Punishment', '2019-06-06'),\n",
    "    Book('Wuthering Heights', '2019-06-12'),\n",
    "]\n",
    "heapify(queue)\n",
    "print([b.title for b in queue])"
   ]
  },
  {
   "cell_type": "code",
   "execution_count": 23,
   "metadata": {},
   "outputs": [],
   "source": [
    "from heapq import heappop"
   ]
  },
  {
   "cell_type": "code",
   "execution_count": 24,
   "metadata": {},
   "outputs": [],
   "source": [
    "def next_overdue_book(queue, now):\n",
    "    if queue:\n",
    "        book = queue[0]           # Most overdue first\n",
    "        if book.due_date < now:\n",
    "            heappop(queue)        # Remove the overdue book\n",
    "            return book\n",
    "\n",
    "    raise NoOverdueBooks"
   ]
  },
  {
   "cell_type": "code",
   "execution_count": 25,
   "metadata": {},
   "outputs": [
    {
     "name": "stdout",
     "output_type": "stream",
     "text": [
      "The Time Machine\n",
      "Pride and Prejudice\n"
     ]
    }
   ],
   "source": [
    "now = '2019-06-02'\n",
    "\n",
    "book = next_overdue_book(queue, now)\n",
    "print(book.title)\n",
    "\n",
    "book = next_overdue_book(queue, now)\n",
    "print(book.title)\n",
    "\n",
    "try:\n",
    "    next_overdue_book(queue, now)\n",
    "except NoOverdueBooks:\n",
    "    pass          # Expected\n",
    "else:\n",
    "    assert False  # Doesn't happen"
   ]
  },
  {
   "cell_type": "code",
   "execution_count": 26,
   "metadata": {},
   "outputs": [
    {
     "name": "stdout",
     "output_type": "stream",
     "text": [
      "Count   500 takes 0.000209s\n",
      "\n",
      "Count 1,000 takes 0.000395s\n",
      " 2.0x data size,  1.9x time\n",
      "\n",
      "Count 1,500 takes 0.000610s\n",
      " 3.0x data size,  2.9x time\n",
      "\n",
      "Count 2,000 takes 0.000803s\n",
      " 4.0x data size,  3.9x time\n"
     ]
    }
   ],
   "source": [
    "def heap_overdue_benchmark(count):\n",
    "    def prepare():\n",
    "        to_add = list(range(count))\n",
    "        random.shuffle(to_add)\n",
    "        return [], to_add\n",
    "\n",
    "    def run(queue, to_add):\n",
    "        for i in to_add:\n",
    "            heappush(queue, i)\n",
    "        while queue:\n",
    "            heappop(queue)\n",
    "\n",
    "    tests = timeit.repeat(\n",
    "        setup='queue, to_add = prepare()',\n",
    "        stmt=f'run(queue, to_add)',\n",
    "        globals=locals(),\n",
    "        repeat=100,\n",
    "        number=1)\n",
    "\n",
    "    return print_results(count, tests)\n",
    "\n",
    "baseline = heap_overdue_benchmark(500)\n",
    "for count in (1_000, 1_500, 2_000):\n",
    "    print()\n",
    "    comparison = heap_overdue_benchmark(count)\n",
    "    print_delta(baseline, comparison)"
   ]
  },
  {
   "cell_type": "code",
   "execution_count": 27,
   "metadata": {},
   "outputs": [],
   "source": [
    "@functools.total_ordering\n",
    "class Book:\n",
    "    def __init__(self, title, due_date):\n",
    "        self.title = title\n",
    "        self.due_date = due_date\n",
    "        self.returned = False  # New field\n",
    "\n",
    "    def __lt__(self, other):\n",
    "        return self.due_date < other.due_date"
   ]
  },
  {
   "cell_type": "code",
   "execution_count": 28,
   "metadata": {},
   "outputs": [],
   "source": [
    "def next_overdue_book(queue, now):\n",
    "    while queue:\n",
    "        book = queue[0]\n",
    "        if book.returned:\n",
    "            heappop(queue)\n",
    "            continue\n",
    "\n",
    "        if book.due_date < now:\n",
    "            heappop(queue)\n",
    "            return book\n",
    "\n",
    "        break\n",
    "\n",
    "    raise NoOverdueBooks"
   ]
  },
  {
   "cell_type": "code",
   "execution_count": 29,
   "metadata": {},
   "outputs": [],
   "source": [
    "queue = []\n",
    "\n",
    "book = Book('Pride and Prejudice', '2019-06-01')\n",
    "add_book(queue, book)\n",
    "\n",
    "book = Book('The Time Machine', '2019-05-30')\n",
    "add_book(queue, book)\n",
    "book.returned = True\n",
    "\n",
    "book = Book('Crime and Punishment', '2019-06-06')\n",
    "add_book(queue, book)\n",
    "book.returned = True\n",
    "\n",
    "book = Book('Wuthering Heights', '2019-06-12')\n",
    "add_book(queue, book)\n",
    "\n",
    "now = '2019-06-11'\n",
    "\n",
    "book = next_overdue_book(queue, now)\n",
    "assert book.title == 'Pride and Prejudice'\n",
    "\n",
    "try:\n",
    "    next_overdue_book(queue, now)\n",
    "except NoOverdueBooks:\n",
    "    pass          # Expected\n",
    "else:\n",
    "    assert False  # Doesn't happen"
   ]
  },
  {
   "cell_type": "code",
   "execution_count": 30,
   "metadata": {},
   "outputs": [],
   "source": [
    "def return_book(queue, book):\n",
    "    book.returned = True\n",
    "\n",
    "assert not book.returned\n",
    "return_book(queue, book)\n",
    "assert book.returned"
   ]
  },
  {
   "cell_type": "markdown",
   "metadata": {},
   "source": [
    "> - 우선순위 큐를 사용하면 선입선출이 아니라 원소의 중요도에 따라 원소를 처리할 수 있다.\n",
    "> - 리스트 연산을 사용해 우선순위를 구현하면 큐 크기가 커짐에 따라 프로그램의 성능이 선형보다 더 빠르게 나빠진다.\n",
    "> - `heapq` 내장 모듈은 효율적으로 규모 확장이 가능한 우선순위 큐를 구현하는 데 필요한 모든 기능을 제공한다.\n",
    "> - `heapq`를 사용하려면 우선순위를 부여하려는 원소들이 자연스러운 순서를 가져야 한다. 이는 원소를 표현하는 클래스에 `__lt__`와 같은 특별 메서드가 있어야 한다는 뜻이다."
   ]
  },
  {
   "cell_type": "markdown",
   "metadata": {},
   "source": [
    "> - 스레드 안전한 다른 선택이 필요하다면 `queue.PriorityQueue` 클래스를 보라."
   ]
  },
  {
   "cell_type": "code",
   "execution_count": null,
   "metadata": {},
   "outputs": [],
   "source": []
  }
 ],
 "metadata": {
  "kernelspec": {
   "display_name": "Python 3",
   "language": "python",
   "name": "python3"
  },
  "language_info": {
   "codemirror_mode": {
    "name": "ipython",
    "version": 3
   },
   "file_extension": ".py",
   "mimetype": "text/x-python",
   "name": "python",
   "nbconvert_exporter": "python",
   "pygments_lexer": "ipython3",
   "version": "3.8.7"
  }
 },
 "nbformat": 4,
 "nbformat_minor": 5
}
