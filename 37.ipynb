{
 "cells": [
  {
   "cell_type": "markdown",
   "metadata": {},
   "source": [
    "## 5. Classes and Interfaces"
   ]
  },
  {
   "cell_type": "markdown",
   "metadata": {},
   "source": [
    "### 37 Compose Classes Instead of Nesting Many Levels of Built-in Types"
   ]
  },
  {
   "cell_type": "code",
   "execution_count": 1,
   "metadata": {},
   "outputs": [],
   "source": [
    "class SimpleGradebook:\n",
    "    def __init__(self):\n",
    "        self._grades = {}\n",
    "\n",
    "    def add_student(self, name):\n",
    "        self._grades[name] = []\n",
    "\n",
    "    def report_grade(self, name, score):\n",
    "        self._grades[name].append(score)\n",
    "\n",
    "    def average_grade(self, name):\n",
    "        grades = self._grades[name]\n",
    "        return sum(grades) / len(grades)"
   ]
  },
  {
   "cell_type": "code",
   "execution_count": 2,
   "metadata": {},
   "outputs": [
    {
     "name": "stdout",
     "output_type": "stream",
     "text": [
      "90.0\n"
     ]
    }
   ],
   "source": [
    "book = SimpleGradebook()\n",
    "book.add_student('Isaac Newton')\n",
    "book.report_grade('Isaac Newton', 90)\n",
    "book.report_grade('Isaac Newton', 95)\n",
    "book.report_grade('Isaac Newton', 85)\n",
    "\n",
    "print(book.average_grade('Isaac Newton'))"
   ]
  },
  {
   "cell_type": "code",
   "execution_count": 3,
   "metadata": {},
   "outputs": [],
   "source": [
    "from collections import defaultdict"
   ]
  },
  {
   "cell_type": "code",
   "execution_count": 4,
   "metadata": {},
   "outputs": [],
   "source": [
    "class BySubjectGradebook:\n",
    "    def __init__(self):\n",
    "        self._grades = {}                       # Outer dict\n",
    "\n",
    "    def add_student(self, name):\n",
    "        self._grades[name] = defaultdict(list)  # Inner dict\n",
    "\n",
    "    def report_grade(self, name, subject, grade):\n",
    "        by_subject = self._grades[name]\n",
    "        grade_list = by_subject[subject]\n",
    "        grade_list.append(grade)\n",
    "\n",
    "    def average_grade(self, name):\n",
    "        by_subject = self._grades[name]\n",
    "        total, count = 0, 0\n",
    "        for grades in by_subject.values():\n",
    "            total += sum(grades)\n",
    "            count += len(grades)\n",
    "        return total / count"
   ]
  },
  {
   "cell_type": "code",
   "execution_count": 5,
   "metadata": {},
   "outputs": [
    {
     "name": "stdout",
     "output_type": "stream",
     "text": [
      "81.25\n"
     ]
    }
   ],
   "source": [
    "book = BySubjectGradebook()\n",
    "book.add_student('Albert Einstein')\n",
    "book.report_grade('Albert Einstein', 'Math', 75)\n",
    "book.report_grade('Albert Einstein', 'Math', 65)\n",
    "book.report_grade('Albert Einstein', 'Gym', 90)\n",
    "book.report_grade('Albert Einstein', 'Gym', 95)\n",
    "\n",
    "print(book.average_grade('Albert Einstein'))"
   ]
  },
  {
   "cell_type": "code",
   "execution_count": 6,
   "metadata": {},
   "outputs": [],
   "source": [
    "class WeightedGradebook:\n",
    "    def __init__(self):\n",
    "        self._grades = {}\n",
    "\n",
    "    def add_student(self, name):\n",
    "        self._grades[name] = defaultdict(list)\n",
    "\n",
    "    def report_grade(self, name, subject, score, weight):\n",
    "        by_subject = self._grades[name]\n",
    "        grade_list = by_subject[subject]\n",
    "        grade_list.append((score, weight))\n",
    "\n",
    "    def average_grade(self, name):\n",
    "        by_subject = self._grades[name]\n",
    "\n",
    "        score_sum, score_count = 0, 0\n",
    "        for subject, scores in by_subject.items():\n",
    "            subject_avg, total_weight = 0, 0\n",
    "            for score, weight in scores:\n",
    "                subject_avg += score * weight\n",
    "                total_weight += weight\n",
    "\n",
    "            score_sum += subject_avg / total_weight\n",
    "            score_count += 1\n",
    "\n",
    "        return score_sum / score_count"
   ]
  },
  {
   "cell_type": "code",
   "execution_count": 7,
   "metadata": {},
   "outputs": [
    {
     "name": "stdout",
     "output_type": "stream",
     "text": [
      "80.25\n"
     ]
    }
   ],
   "source": [
    "book = WeightedGradebook()\n",
    "book.add_student('Albert Einstein')\n",
    "book.report_grade('Albert Einstein', 'Math', 75, 0.05)\n",
    "book.report_grade('Albert Einstein', 'Math', 65, 0.15)\n",
    "book.report_grade('Albert Einstein', 'Math', 70, 0.80)\n",
    "book.report_grade('Albert Einstein', 'Gym', 100, 0.40)\n",
    "book.report_grade('Albert Einstein', 'Gym', 85, 0.60)\n",
    "\n",
    "print(book.average_grade('Albert Einstein'))"
   ]
  },
  {
   "cell_type": "code",
   "execution_count": 8,
   "metadata": {},
   "outputs": [
    {
     "name": "stdout",
     "output_type": "stream",
     "text": [
      "89.5\n"
     ]
    }
   ],
   "source": [
    "grades = []\n",
    "grades.append((95, 0.45))\n",
    "grades.append((85, 0.55))\n",
    "total = sum(score * weight for score, weight in grades)\n",
    "total_weight = sum(weight for _, weight in grades)\n",
    "average_grade = total / total_weight\n",
    "print(average_grade)"
   ]
  },
  {
   "cell_type": "code",
   "execution_count": 9,
   "metadata": {},
   "outputs": [
    {
     "name": "stdout",
     "output_type": "stream",
     "text": [
      "89.5\n"
     ]
    }
   ],
   "source": [
    "grades = []\n",
    "grades.append((95, 0.45, 'Great job'))\n",
    "grades.append((85, 0.55, 'Better next time'))\n",
    "total = sum(score * weight for score, weight, _ in grades)\n",
    "total_weight = sum(weight for _, weight, _ in grades)\n",
    "average_grade = total / total_weight\n",
    "print(average_grade)"
   ]
  },
  {
   "cell_type": "code",
   "execution_count": 10,
   "metadata": {},
   "outputs": [],
   "source": [
    "from collections import namedtuple"
   ]
  },
  {
   "cell_type": "code",
   "execution_count": 11,
   "metadata": {},
   "outputs": [],
   "source": [
    "Grade = namedtuple('Grade', ('score', 'weight'))"
   ]
  },
  {
   "cell_type": "code",
   "execution_count": 12,
   "metadata": {},
   "outputs": [],
   "source": [
    "class Subject:\n",
    "    def __init__(self):\n",
    "        self._grades = []\n",
    "\n",
    "    def report_grade(self, score, weight):\n",
    "        self._grades.append(Grade(score, weight))\n",
    "\n",
    "    def average_grade(self):\n",
    "        total, total_weight = 0, 0\n",
    "        for grade in self._grades:\n",
    "            total += grade.score * grade.weight\n",
    "            total_weight += grade.weight\n",
    "        return total / total_weight"
   ]
  },
  {
   "cell_type": "code",
   "execution_count": 13,
   "metadata": {},
   "outputs": [],
   "source": [
    "class Student:\n",
    "    def __init__(self):\n",
    "        self._subjects = defaultdict(Subject)\n",
    "\n",
    "    def get_subject(self, name):\n",
    "        return self._subjects[name]\n",
    "\n",
    "    def average_grade(self):\n",
    "        total, count = 0, 0\n",
    "        for subject in self._subjects.values():\n",
    "            total += subject.average_grade()\n",
    "            count += 1\n",
    "        return total / count"
   ]
  },
  {
   "cell_type": "code",
   "execution_count": 14,
   "metadata": {},
   "outputs": [],
   "source": [
    "class Gradebook:\n",
    "    def __init__(self):\n",
    "        self._students = defaultdict(Student)\n",
    "\n",
    "    def get_student(self, name):\n",
    "        return self._students[name]"
   ]
  },
  {
   "cell_type": "code",
   "execution_count": 15,
   "metadata": {},
   "outputs": [
    {
     "name": "stdout",
     "output_type": "stream",
     "text": [
      "80.25\n"
     ]
    }
   ],
   "source": [
    "book = Gradebook()\n",
    "albert = book.get_student('Albert Einstein')\n",
    "math = albert.get_subject('Math')\n",
    "math.report_grade(75, 0.05)\n",
    "math.report_grade(65, 0.15)\n",
    "math.report_grade(70, 0.80)\n",
    "gym = albert.get_subject('Gym')\n",
    "gym.report_grade(100, 0.40)\n",
    "gym.report_grade(85, 0.60)\n",
    "\n",
    "print(albert.average_grade())"
   ]
  },
  {
   "cell_type": "markdown",
   "metadata": {},
   "source": [
    "> - 딕셔너리, 긴 튜플, 다른 내장 타입이 복잡하게 내포된 데이터를 값으로 사용하는 딕셔너리를 만들지 말라.\n",
    "> - 완전한 클래스가 제공하는 유연성이 필요하지 않고 가벼운 불변 데이터 컨테이너가 필요하다면 `namedtuple`을 사용하라.\n",
    "> - 내부 상태를 표현하는 딕셔너리가 복잡해지면 이 데이터를 관리하는 코드를 여러 클래스로 나눠서 재작성하라."
   ]
  },
  {
   "cell_type": "code",
   "execution_count": null,
   "metadata": {},
   "outputs": [],
   "source": []
  }
 ],
 "metadata": {
  "kernelspec": {
   "display_name": "Python 3",
   "language": "python",
   "name": "python3"
  },
  "language_info": {
   "codemirror_mode": {
    "name": "ipython",
    "version": 3
   },
   "file_extension": ".py",
   "mimetype": "text/x-python",
   "name": "python",
   "nbconvert_exporter": "python",
   "pygments_lexer": "ipython3",
   "version": "3.8.7"
  }
 },
 "nbformat": 4,
 "nbformat_minor": 4
}
