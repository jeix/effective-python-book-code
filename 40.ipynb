{
 "cells": [
  {
   "cell_type": "markdown",
   "metadata": {},
   "source": [
    "## 5. Classes and Interfaces"
   ]
  },
  {
   "cell_type": "markdown",
   "metadata": {},
   "source": [
    "### 40 Initialize Parent Classes with `super`"
   ]
  },
  {
   "cell_type": "code",
   "execution_count": 1,
   "metadata": {},
   "outputs": [],
   "source": [
    "class MyBaseClass:\n",
    "    def __init__(self, value):\n",
    "        self.value = value\n",
    "\n",
    "class MyChildClass(MyBaseClass):\n",
    "    def __init__(self):\n",
    "        MyBaseClass.__init__(self, 5)\n",
    "\n",
    "    def times_two(self):\n",
    "        return self.value * 2\n",
    "\n",
    "foo = MyChildClass()\n",
    "assert foo.times_two() == 10"
   ]
  },
  {
   "cell_type": "code",
   "execution_count": 2,
   "metadata": {},
   "outputs": [],
   "source": [
    "class TimesTwo:\n",
    "    def __init__(self):\n",
    "        self.value *= 2\n",
    "\n",
    "class PlusFive:\n",
    "    def __init__(self):\n",
    "        self.value += 5"
   ]
  },
  {
   "cell_type": "code",
   "execution_count": 3,
   "metadata": {},
   "outputs": [],
   "source": [
    "class OneWay(MyBaseClass, TimesTwo, PlusFive):\n",
    "    def __init__(self, value):\n",
    "        MyBaseClass.__init__(self, value)\n",
    "        TimesTwo.__init__(self)\n",
    "        PlusFive.__init__(self)"
   ]
  },
  {
   "cell_type": "code",
   "execution_count": 4,
   "metadata": {},
   "outputs": [
    {
     "name": "stdout",
     "output_type": "stream",
     "text": [
      "First ordering value is (5 * 2) + 5 = 15\n"
     ]
    }
   ],
   "source": [
    "foo = OneWay(5)\n",
    "print('First ordering value is (5 * 2) + 5 =', foo.value)"
   ]
  },
  {
   "cell_type": "code",
   "execution_count": 5,
   "metadata": {},
   "outputs": [],
   "source": [
    "class AnotherWay(MyBaseClass, PlusFive, TimesTwo):\n",
    "    def __init__(self, value):\n",
    "        MyBaseClass.__init__(self, value)\n",
    "        TimesTwo.__init__(self)\n",
    "        PlusFive.__init__(self)"
   ]
  },
  {
   "cell_type": "code",
   "execution_count": 6,
   "metadata": {},
   "outputs": [
    {
     "name": "stdout",
     "output_type": "stream",
     "text": [
      "Second ordering value is 15\n"
     ]
    }
   ],
   "source": [
    "bar = AnotherWay(5)\n",
    "print('Second ordering value is', bar.value)"
   ]
  },
  {
   "cell_type": "code",
   "execution_count": 7,
   "metadata": {},
   "outputs": [],
   "source": [
    "class TimesSeven(MyBaseClass):\n",
    "    def __init__(self, value):\n",
    "        MyBaseClass.__init__(self, value)\n",
    "        self.value *= 7\n",
    "\n",
    "class PlusNine(MyBaseClass):\n",
    "    def __init__(self, value):\n",
    "        MyBaseClass.__init__(self, value)\n",
    "        self.value += 9"
   ]
  },
  {
   "cell_type": "code",
   "execution_count": 8,
   "metadata": {},
   "outputs": [],
   "source": [
    "class ThisWay(TimesSeven, PlusNine):\n",
    "    def __init__(self, value):\n",
    "        TimesSeven.__init__(self, value)\n",
    "        PlusNine.__init__(self, value)"
   ]
  },
  {
   "cell_type": "code",
   "execution_count": 9,
   "metadata": {},
   "outputs": [
    {
     "name": "stdout",
     "output_type": "stream",
     "text": [
      "Should be (5 * 7) + 9 = 44 but is 14\n"
     ]
    }
   ],
   "source": [
    "foo = ThisWay(5)\n",
    "print('Should be (5 * 7) + 9 = 44 but is', foo.value)"
   ]
  },
  {
   "cell_type": "code",
   "execution_count": 10,
   "metadata": {},
   "outputs": [],
   "source": [
    "class TimesSevenCorrect(MyBaseClass):\n",
    "    def __init__(self, value):\n",
    "        super().__init__(value)\n",
    "        self.value *= 7\n",
    "\n",
    "class PlusNineCorrect(MyBaseClass):\n",
    "    def __init__(self, value):\n",
    "        super().__init__(value)\n",
    "        self.value += 9"
   ]
  },
  {
   "cell_type": "code",
   "execution_count": 11,
   "metadata": {},
   "outputs": [],
   "source": [
    "class GoodWay(TimesSevenCorrect, PlusNineCorrect):\n",
    "    def __init__(self, value):\n",
    "        super().__init__(value)"
   ]
  },
  {
   "cell_type": "code",
   "execution_count": 12,
   "metadata": {},
   "outputs": [
    {
     "name": "stdout",
     "output_type": "stream",
     "text": [
      "Should be 7 * (5 + 9) = 98 and is 98\n"
     ]
    }
   ],
   "source": [
    "foo = GoodWay(5)\n",
    "print('Should be 7 * (5 + 9) = 98 and is', foo.value)"
   ]
  },
  {
   "cell_type": "code",
   "execution_count": 13,
   "metadata": {},
   "outputs": [
    {
     "name": "stdout",
     "output_type": "stream",
     "text": [
      "<class '__main__.GoodWay'>\n",
      "<class '__main__.TimesSevenCorrect'>\n",
      "<class '__main__.PlusNineCorrect'>\n",
      "<class '__main__.MyBaseClass'>\n",
      "<class 'object'>\n"
     ]
    }
   ],
   "source": [
    "mro_str = '\\n'.join(repr(cls) for cls in GoodWay.mro())\n",
    "print(mro_str)"
   ]
  },
  {
   "cell_type": "code",
   "execution_count": 15,
   "metadata": {},
   "outputs": [],
   "source": [
    "class ExplicitTrisect(MyBaseClass):\n",
    "    def __init__(self, value):\n",
    "        super(ExplicitTrisect, self).__init__(value)\n",
    "        self.value /= 3\n",
    "\n",
    "class AutomaticTrisect(MyBaseClass):\n",
    "    def __init__(self, value):\n",
    "        super(__class__, self).__init__(value)\n",
    "        self.value /= 3\n",
    "\n",
    "class ImplicitTrisect(MyBaseClass):\n",
    "    def __init__(self, value):\n",
    "        super().__init__(value)\n",
    "        self.value /= 3\n",
    "\n",
    "assert ExplicitTrisect(9).value == 3\n",
    "assert AutomaticTrisect(9).value == 3\n",
    "assert ImplicitTrisect(9).value == 3"
   ]
  },
  {
   "cell_type": "markdown",
   "metadata": {},
   "source": [
    "> - 파이썬은 표준 메서드 결정 순서(MRO, Method Resolution Order)를 활요해 상위 클래스 초기화 순서와 다이아몬드 상속 문제를 해결한다.\n",
    "> - 부모 클래스를 초기화할 때는 `super` 내장 함수를 아무 인자 없이 호출하라. 파이썬 컴파일러가 자동으로 올바른 파라미터를 넣어준다."
   ]
  },
  {
   "cell_type": "code",
   "execution_count": null,
   "metadata": {},
   "outputs": [],
   "source": []
  }
 ],
 "metadata": {
  "kernelspec": {
   "display_name": "Python 3",
   "language": "python",
   "name": "python3"
  },
  "language_info": {
   "codemirror_mode": {
    "name": "ipython",
    "version": 3
   },
   "file_extension": ".py",
   "mimetype": "text/x-python",
   "name": "python",
   "nbconvert_exporter": "python",
   "pygments_lexer": "ipython3",
   "version": "3.8.7"
  }
 },
 "nbformat": 4,
 "nbformat_minor": 4
}
