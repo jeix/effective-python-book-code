{
 "cells": [
  {
   "cell_type": "markdown",
   "metadata": {},
   "source": [
    "## 7. Concurrency and Parallelism"
   ]
  },
  {
   "cell_type": "markdown",
   "metadata": {},
   "source": [
    "### 52 Use `subprocess` to Manage Child Processes"
   ]
  },
  {
   "cell_type": "code",
   "execution_count": 1,
   "metadata": {},
   "outputs": [],
   "source": [
    "import subprocess"
   ]
  },
  {
   "cell_type": "code",
   "execution_count": 2,
   "metadata": {},
   "outputs": [
    {
     "name": "stdout",
     "output_type": "stream",
     "text": [
      "Hello from the child!\n",
      "\n"
     ]
    }
   ],
   "source": [
    "result = subprocess.run(\n",
    "    ['echo', 'Hello from the child!'],\n",
    "    capture_output=True,\n",
    "    encoding='utf-8')\n",
    "\n",
    "result.check_returncode()  # No exception means it exited cleanly\n",
    "print(result.stdout)"
   ]
  },
  {
   "cell_type": "code",
   "execution_count": 3,
   "metadata": {},
   "outputs": [
    {
     "name": "stdout",
     "output_type": "stream",
     "text": [
      "Working...\n",
      "Working...\n",
      "Working...\n",
      "Working...\n",
      "Exit status 0\n"
     ]
    }
   ],
   "source": [
    "proc = subprocess.Popen(['sleep', '1'])\n",
    "while proc.poll() is None:\n",
    "    print('Working...')\n",
    "    # Some time-consuming work here\n",
    "    import time\n",
    "    time.sleep(0.3)\n",
    "\n",
    "print('Exit status', proc.poll())"
   ]
  },
  {
   "cell_type": "code",
   "execution_count": 4,
   "metadata": {},
   "outputs": [
    {
     "name": "stdout",
     "output_type": "stream",
     "text": [
      "Finished in 1.03 seconds\n"
     ]
    }
   ],
   "source": [
    "import time\n",
    "\n",
    "start = time.time()\n",
    "sleep_procs = []\n",
    "for _ in range(10):\n",
    "    proc = subprocess.Popen(['sleep', '1'])\n",
    "    sleep_procs.append(proc)\n",
    "\n",
    "for proc in sleep_procs:\n",
    "    proc.communicate()\n",
    "\n",
    "end = time.time()\n",
    "delta = end - start\n",
    "print(f'Finished in {delta:.3} seconds')"
   ]
  },
  {
   "cell_type": "code",
   "execution_count": 5,
   "metadata": {},
   "outputs": [],
   "source": [
    "import os\n",
    "\n",
    "def run_encrypt(data):\n",
    "    env = os.environ.copy()\n",
    "    env['password'] = 'zf7ShyBhZOraQDdE/FiZpm/m/8f9X+M1'\n",
    "    proc = subprocess.Popen(\n",
    "        ['openssl', 'enc', '-des3', '-pass', 'env:password'],\n",
    "        env=env,\n",
    "        stdin=subprocess.PIPE,\n",
    "        stdout=subprocess.PIPE)\n",
    "    proc.stdin.write(data)\n",
    "    proc.stdin.flush()  # Ensure that the child gets input\n",
    "    return proc"
   ]
  },
  {
   "cell_type": "code",
   "execution_count": 6,
   "metadata": {},
   "outputs": [
    {
     "name": "stdout",
     "output_type": "stream",
     "text": [
      "b'\\xfcP\\xd0\\xcd\\xe0LE\\x86\\xd0\\xb5'\n",
      "b'\\xb4\\xf6\\xc6\\x19hXoix\\xea'\n",
      "b'\\xd4Vb}\\xe6j\\xc0\\xee@\\x02'\n"
     ]
    }
   ],
   "source": [
    "procs = []\n",
    "for _ in range(3):\n",
    "    data = os.urandom(10)\n",
    "    proc = run_encrypt(data)\n",
    "    procs.append(proc)\n",
    "\n",
    "for proc in procs:\n",
    "    out, _ = proc.communicate()\n",
    "    print(out[-10:])"
   ]
  },
  {
   "cell_type": "code",
   "execution_count": 7,
   "metadata": {},
   "outputs": [],
   "source": [
    "def run_hash(input_stdin):\n",
    "    return subprocess.Popen(\n",
    "        ['openssl', 'dgst', '-whirlpool', '-binary'],\n",
    "        stdin=input_stdin,\n",
    "        stdout=subprocess.PIPE)"
   ]
  },
  {
   "cell_type": "code",
   "execution_count": 8,
   "metadata": {},
   "outputs": [
    {
     "name": "stdout",
     "output_type": "stream",
     "text": [
      "b'\\x9b\\xcd\\xd2\\xa5\\x11\\xfeBJ\\xe3\\xd8'\n",
      "b'\\x1a{\\xf6\\xcc\\xe0\\x03\\x1d\\rM\\xed'\n",
      "b'0S\\x80\\xf8F\\xdcG\\xa4\\xcd\\xd2'\n"
     ]
    }
   ],
   "source": [
    "encrypt_procs = []\n",
    "hash_procs = []\n",
    "for _ in range(3):\n",
    "    data = os.urandom(100)\n",
    "\n",
    "    encrypt_proc = run_encrypt(data)\n",
    "    encrypt_procs.append(encrypt_proc)\n",
    "\n",
    "    hash_proc = run_hash(encrypt_proc.stdout)\n",
    "    hash_procs.append(hash_proc)\n",
    "\n",
    "    # Ensure that the child consumes the input stream and\n",
    "    # the communicate() method doesn't inadvertently steal\n",
    "    # input from the child. Also lets SIGPIPE propagate to\n",
    "    # the upstream process if the downstream process dies.\n",
    "    encrypt_proc.stdout.close()\n",
    "    encrypt_proc.stdout = None\n",
    "\n",
    "for proc in encrypt_procs:\n",
    "    proc.communicate()\n",
    "    assert proc.returncode == 0\n",
    "\n",
    "for proc in hash_procs:\n",
    "    out, _ = proc.communicate()\n",
    "    print(out[-10:])\n",
    "    assert proc.returncode == 0"
   ]
  },
  {
   "cell_type": "code",
   "execution_count": 9,
   "metadata": {},
   "outputs": [
    {
     "name": "stdout",
     "output_type": "stream",
     "text": [
      "Exit status -15\n"
     ]
    }
   ],
   "source": [
    "proc = subprocess.Popen(['sleep', '10'])\n",
    "try:\n",
    "    proc.communicate(timeout=0.1)\n",
    "except subprocess.TimeoutExpired:\n",
    "    proc.terminate()\n",
    "    proc.wait()\n",
    "\n",
    "print('Exit status', proc.poll())"
   ]
  },
  {
   "cell_type": "markdown",
   "metadata": {},
   "source": [
    "> - `subprocess` 모듈을 사용해 자식 프로세스를 실행하고 입력과 출력 스트림을 관리할 수 있다.\n",
    "> - 자식 프로세스는 파이썬 인터프리터와 병렬로 실행되므로 CPU 코어를 최대로 쓸 수 있다.\n",
    "> - 간단하게 자식 프로세스를 실행하고 싶은 경우에는 `run` 편의 함수를 사용하라. 유닉스 스타일의 파이프라인이 필요하면 `Popen` 클래스를 사용하라.\n",
    "> - 자식 프로세스가 멈추는 경우나 교착 상태를 방지하려면 `communicate` 메서드에 대해 `timeout` 파라미터를 사용하라."
   ]
  },
  {
   "cell_type": "code",
   "execution_count": null,
   "metadata": {},
   "outputs": [],
   "source": []
  }
 ],
 "metadata": {
  "kernelspec": {
   "display_name": "Python 3",
   "language": "python",
   "name": "python3"
  },
  "language_info": {
   "codemirror_mode": {
    "name": "ipython",
    "version": 3
   },
   "file_extension": ".py",
   "mimetype": "text/x-python",
   "name": "python",
   "nbconvert_exporter": "python",
   "pygments_lexer": "ipython3",
   "version": "3.8.7"
  }
 },
 "nbformat": 4,
 "nbformat_minor": 4
}
