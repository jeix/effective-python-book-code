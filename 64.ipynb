{
 "cells": [
  {
   "cell_type": "markdown",
   "metadata": {},
   "source": [
    "## 7. Concurrency and Parallelism"
   ]
  },
  {
   "cell_type": "markdown",
   "metadata": {},
   "source": [
    "### 64 Consider `concurrent.futures` for True Parallelism"
   ]
  },
  {
   "cell_type": "code",
   "execution_count": 1,
   "metadata": {},
   "outputs": [],
   "source": [
    "# my_module.py"
   ]
  },
  {
   "cell_type": "code",
   "execution_count": 2,
   "metadata": {},
   "outputs": [],
   "source": [
    "def gcd(pair):\n",
    "    a, b = pair\n",
    "    low = min(a, b)\n",
    "    for i in range(low, 0, -1):\n",
    "        if a % i == 0 and b % i == 0:\n",
    "            return i\n",
    "    assert False, 'Not reachable'"
   ]
  },
  {
   "cell_type": "code",
   "execution_count": 3,
   "metadata": {},
   "outputs": [],
   "source": [
    "# run_serial.py"
   ]
  },
  {
   "cell_type": "code",
   "execution_count": 4,
   "metadata": {},
   "outputs": [
    {
     "name": "stdout",
     "output_type": "stream",
     "text": [
      "Took 1.492 seconds\n"
     ]
    }
   ],
   "source": [
    "#import my_module\n",
    "import time\n",
    "\n",
    "NUMBERS = [\n",
    "    (1963309, 2265973), (2030677, 3814172),\n",
    "    (1551645, 2229620), (2039045, 2020802),\n",
    "    (1823712, 1924928), (2293129, 1020491),\n",
    "    (1281238, 2273782), (3823812, 4237281),\n",
    "    (3812741, 4729139), (1292391, 2123811),\n",
    "]\n",
    "\n",
    "def main():\n",
    "    start = time.time()\n",
    "    #results = list(map(my_module.gcd, NUMBERS))\n",
    "    results = list(map(gcd, NUMBERS))\n",
    "    end = time.time()\n",
    "    delta = end - start\n",
    "    print(f'Took {delta:.3f} seconds')\n",
    "\n",
    "main()"
   ]
  },
  {
   "cell_type": "code",
   "execution_count": 5,
   "metadata": {},
   "outputs": [],
   "source": [
    "# run_threads.py"
   ]
  },
  {
   "cell_type": "code",
   "execution_count": 6,
   "metadata": {},
   "outputs": [
    {
     "name": "stdout",
     "output_type": "stream",
     "text": [
      "Took 1.834 seconds\n"
     ]
    }
   ],
   "source": [
    "#import my_module\n",
    "from concurrent.futures import ThreadPoolExecutor\n",
    "import time\n",
    "\n",
    "NUMBERS = [\n",
    "    (1963309, 2265973), (2030677, 3814172),\n",
    "    (1551645, 2229620), (2039045, 2020802),\n",
    "    (1823712, 1924928), (2293129, 1020491),\n",
    "    (1281238, 2273782), (3823812, 4237281),\n",
    "    (3812741, 4729139), (1292391, 2123811),\n",
    "]\n",
    "\n",
    "def main():    \n",
    "    start = time.time()\n",
    "    pool = ThreadPoolExecutor(max_workers=2)\n",
    "    #results = list(pool.map(my_module.gcd, NUMBERS))\n",
    "    results = list(pool.map(gcd, NUMBERS))\n",
    "    end = time.time()\n",
    "    delta = end - start\n",
    "    print(f'Took {delta:.3f} seconds')\n",
    "\n",
    "main()"
   ]
  },
  {
   "cell_type": "code",
   "execution_count": 7,
   "metadata": {},
   "outputs": [],
   "source": [
    "# run_parallel.py"
   ]
  },
  {
   "cell_type": "code",
   "execution_count": 8,
   "metadata": {},
   "outputs": [
    {
     "name": "stdout",
     "output_type": "stream",
     "text": [
      "Took 0.833 seconds\n"
     ]
    }
   ],
   "source": [
    "#import my_module\n",
    "from concurrent.futures import ProcessPoolExecutor\n",
    "import time\n",
    "\n",
    "NUMBERS = [\n",
    "    (1963309, 2265973), (2030677, 3814172),\n",
    "    (1551645, 2229620), (2039045, 2020802),\n",
    "    (1823712, 1924928), (2293129, 1020491),\n",
    "    (1281238, 2273782), (3823812, 4237281),\n",
    "    (3812741, 4729139), (1292391, 2123811),\n",
    "]\n",
    "\n",
    "def main():\n",
    "    start = time.time()\n",
    "    pool = ProcessPoolExecutor(max_workers=2)  # The one change\n",
    "    #results = list(pool.map(my_module.gcd, NUMBERS))\n",
    "    results = list(pool.map(gcd, NUMBERS))\n",
    "    end = time.time()\n",
    "    delta = end - start\n",
    "    print(f'Took {delta:.3f} seconds')\n",
    "\n",
    "main()"
   ]
  },
  {
   "cell_type": "markdown",
   "metadata": {},
   "source": [
    "```\n",
    "(venv38) $ cd 64\n",
    "(venv38) $ python run_serial.py\n",
    "Took 1.060 seconds\n",
    "(venv38) $ python run_threads.py\n",
    "Took 0.983 seconds\n",
    "(venv38) $ python run_parallel.py\n",
    "Took 0.549 seconds\n",
    "```"
   ]
  },
  {
   "cell_type": "markdown",
   "metadata": {},
   "source": [
    "> - CPU 병목 지점을 C 확장 모듈로 옮기면 파이썬에 투자한 비용을 최대한 유지하면서 프로그램 성능을 개선하는 데 효과적일 수도 있다. 하지만 C 확장 모듈로 옮기려면 많은 비용이 들고 포팅하는 과정에서 버그가 생겨날 수도 있다.\n",
    "> - `multiprocessing` 모듈을 사용하려면 특정 유형의 파이썬 계산을 최소의 노력으로 병렬화할 수 있다.\n",
    "> - `concurrent.futures` 내장 모듈이 제공하는 간단한 `ProcessPoolExecutor` 클래스를 활용하면 `multiprocessing`의 능력을 최대한 할용할 수 있다.\n",
    "> - 사용할 수 있는 모든 방법을 다 써보기 전에는 `multiprocessing`이 제공하는 (복잡한) 고급 기능을 시도하지 말라."
   ]
  },
  {
   "cell_type": "markdown",
   "metadata": {},
   "source": [
    "> - C 확장 개발 도구\n",
    ">   - [SWIG](https://github.com/swig/swig)\n",
    ">   - [CLIF](https://github.com/google/clif)\n",
    "> - 파이썬-to-C 변환 도구\n",
    ">   - [Cython](https://cython.org/]\n",
    ">   - [Numba](https://numba.pydata.org/)\n",
    "\n",
    "> - 격리된 레버리지가 큰 함수\n",
    ">   - 다른 부분과 상태를 공유할 필요 없는 함수\n",
    ">   - 주고받아야 하는 데이터 크기는 작지만, 연산의 양은 상당히 큰\n",
    "\n",
    "> - `ThreadPoolExecutor`를 통해 격리된 레버리지가 큰 함수를 스레드에서 실행할 수 있으며, 이후 속도 향상을 위해 `ProcessPoolExecutor`로 옮겨갈 수 있다. 이 방법을 모두 시도해본 다음에 비로소 `multiprocessing` 모듈을 직접 사용해도 될지 검토해보라."
   ]
  },
  {
   "cell_type": "code",
   "execution_count": null,
   "metadata": {},
   "outputs": [],
   "source": []
  }
 ],
 "metadata": {
  "kernelspec": {
   "display_name": "Python 3",
   "language": "python",
   "name": "python3"
  },
  "language_info": {
   "codemirror_mode": {
    "name": "ipython",
    "version": 3
   },
   "file_extension": ".py",
   "mimetype": "text/x-python",
   "name": "python",
   "nbconvert_exporter": "python",
   "pygments_lexer": "ipython3",
   "version": "3.8.7"
  }
 },
 "nbformat": 4,
 "nbformat_minor": 5
}
