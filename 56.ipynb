{
 "cells": [
  {
   "cell_type": "markdown",
   "id": "noted-strengthening",
   "metadata": {},
   "source": [
    "## 7. Concurrency and Parallelism"
   ]
  },
  {
   "cell_type": "markdown",
   "id": "early-booking",
   "metadata": {},
   "source": [
    "### 56 Know How to Recognize When Concurrency Is Necessary"
   ]
  },
  {
   "cell_type": "code",
   "execution_count": 1,
   "id": "existing-ghana",
   "metadata": {},
   "outputs": [],
   "source": [
    "ALIVE = '*'\n",
    "EMPTY = '-'"
   ]
  },
  {
   "cell_type": "code",
   "execution_count": 2,
   "id": "entitled-malpractice",
   "metadata": {},
   "outputs": [],
   "source": [
    "class Grid:\n",
    "    def __init__(self, height, width):\n",
    "        self.height = height\n",
    "        self.width = width\n",
    "        self.rows = []\n",
    "        for _ in range(self.height):\n",
    "            self.rows.append([EMPTY] * self.width)\n",
    "\n",
    "    def get(self, y, x):\n",
    "        return self.rows[y % self.height][x % self.width]\n",
    "\n",
    "    def set(self, y, x, state):\n",
    "        self.rows[y % self.height][x % self.width] = state\n",
    "\n",
    "    def __str__(self):\n",
    "        output = ''\n",
    "        for row in self.rows:\n",
    "            for cell in row:\n",
    "                output += cell\n",
    "            output += '\\n'\n",
    "        return output"
   ]
  },
  {
   "cell_type": "code",
   "execution_count": 3,
   "id": "junior-cement",
   "metadata": {},
   "outputs": [
    {
     "name": "stdout",
     "output_type": "stream",
     "text": [
      "---*-----\n",
      "----*----\n",
      "--***----\n",
      "---------\n",
      "---------\n",
      "\n"
     ]
    }
   ],
   "source": [
    "grid = Grid(5, 9)\n",
    "grid.set(0, 3, ALIVE)\n",
    "grid.set(1, 4, ALIVE)\n",
    "grid.set(2, 2, ALIVE)\n",
    "grid.set(2, 3, ALIVE)\n",
    "grid.set(2, 4, ALIVE)\n",
    "print(grid)"
   ]
  },
  {
   "cell_type": "code",
   "execution_count": 4,
   "id": "decreased-alabama",
   "metadata": {},
   "outputs": [],
   "source": [
    "def count_neighbors(y, x, get):\n",
    "    n_ = get(y - 1, x + 0)  # North\n",
    "    ne = get(y - 1, x + 1)  # Northeast\n",
    "    e_ = get(y + 0, x + 1)  # East\n",
    "    se = get(y + 1, x + 1)  # Southeast\n",
    "    s_ = get(y + 1, x + 0)  # South\n",
    "    sw = get(y + 1, x - 1)  # Southwest\n",
    "    w_ = get(y + 0, x - 1)  # West\n",
    "    nw = get(y - 1, x - 1)  # Northwest\n",
    "    neighbor_states = [n_, ne, e_, se, s_, sw, w_, nw]\n",
    "    count = 0\n",
    "    for state in neighbor_states:\n",
    "        if state == ALIVE:\n",
    "            count += 1\n",
    "    return count"
   ]
  },
  {
   "cell_type": "code",
   "execution_count": 5,
   "id": "close-kidney",
   "metadata": {},
   "outputs": [],
   "source": [
    "alive = {(9, 5), (9, 6)}\n",
    "seen = set()\n",
    "\n",
    "def fake_get(y, x):\n",
    "    position = (y, x)\n",
    "    seen.add(position)\n",
    "    return ALIVE if position in alive else EMPTY\n",
    "\n",
    "count = count_neighbors(10, 5, fake_get)\n",
    "assert count == 2\n",
    "\n",
    "expected_seen = {\n",
    "    (9, 5),  (9, 6),  (10, 6), (11, 6),\n",
    "    (11, 5), (11, 4), (10, 4), (9, 4)\n",
    "}\n",
    "assert seen == expected_seen"
   ]
  },
  {
   "cell_type": "code",
   "execution_count": 6,
   "id": "behavioral-musical",
   "metadata": {},
   "outputs": [],
   "source": [
    "def game_logic(state, neighbors):\n",
    "    if state == ALIVE:\n",
    "        if neighbors < 2:\n",
    "            return EMPTY     # Die: Too few\n",
    "        elif neighbors > 3:\n",
    "            return EMPTY     # Die: Too many\n",
    "    else:\n",
    "        if neighbors == 3:\n",
    "            return ALIVE     # Regenerate\n",
    "    return state"
   ]
  },
  {
   "cell_type": "code",
   "execution_count": 7,
   "id": "confirmed-summit",
   "metadata": {},
   "outputs": [],
   "source": [
    "assert game_logic(ALIVE, 0) == EMPTY\n",
    "assert game_logic(ALIVE, 1) == EMPTY\n",
    "assert game_logic(ALIVE, 2) == ALIVE\n",
    "assert game_logic(ALIVE, 3) == ALIVE\n",
    "assert game_logic(ALIVE, 4) == EMPTY\n",
    "assert game_logic(EMPTY, 0) == EMPTY\n",
    "assert game_logic(EMPTY, 1) == EMPTY\n",
    "assert game_logic(EMPTY, 2) == EMPTY\n",
    "assert game_logic(EMPTY, 3) == ALIVE\n",
    "assert game_logic(EMPTY, 4) == EMPTY"
   ]
  },
  {
   "cell_type": "code",
   "execution_count": 8,
   "id": "dietary-spice",
   "metadata": {},
   "outputs": [],
   "source": [
    "def step_cell(y, x, get, set):\n",
    "    state = get(y, x)\n",
    "    neighbors = count_neighbors(y, x, get)\n",
    "    next_state = game_logic(state, neighbors)\n",
    "    set(y, x, next_state)"
   ]
  },
  {
   "cell_type": "code",
   "execution_count": 9,
   "id": "motivated-johns",
   "metadata": {},
   "outputs": [],
   "source": [
    "alive = {(10, 5), (9, 5), (9, 6)}\n",
    "new_state = None\n",
    "\n",
    "def fake_get(y, x):\n",
    "    return ALIVE if (y, x) in alive else EMPTY\n",
    "\n",
    "def fake_set(y, x, state):\n",
    "    global new_state\n",
    "    new_state = state\n",
    "\n",
    "# Stay alive\n",
    "step_cell(10, 5, fake_get, fake_set)\n",
    "assert new_state == ALIVE\n",
    "\n",
    "# Stay dead\n",
    "alive.remove((10, 5))\n",
    "step_cell(10, 5, fake_get, fake_set)\n",
    "assert new_state == EMPTY\n",
    "\n",
    "# Regenerate\n",
    "alive.add((10, 6))\n",
    "step_cell(10, 5, fake_get, fake_set)\n",
    "assert new_state == ALIVE"
   ]
  },
  {
   "cell_type": "code",
   "execution_count": 10,
   "id": "hazardous-people",
   "metadata": {},
   "outputs": [],
   "source": [
    "def simulate(grid):\n",
    "    next_grid = Grid(grid.height, grid.width)\n",
    "    for y in range(grid.height):\n",
    "        for x in range(grid.width):\n",
    "            step_cell(y, x, grid.get, next_grid.set)\n",
    "    return next_grid"
   ]
  },
  {
   "cell_type": "code",
   "execution_count": 11,
   "id": "respiratory-testament",
   "metadata": {},
   "outputs": [],
   "source": [
    "class ColumnPrinter:\n",
    "    def __init__(self):\n",
    "        self.columns = []\n",
    "\n",
    "    def append(self, data):\n",
    "        self.columns.append(data)\n",
    "\n",
    "    def __str__(self):\n",
    "        row_count = 1\n",
    "        for data in self.columns:\n",
    "            row_count = max(\n",
    "                row_count, len(data.splitlines()) + 1)\n",
    "\n",
    "        rows = [''] * row_count\n",
    "        for j in range(row_count):\n",
    "            for i, data in enumerate(self.columns):\n",
    "                line = data.splitlines()[max(0, j - 1)]\n",
    "                if j == 0:\n",
    "                    padding = ' ' * (len(line) // 2)\n",
    "                    rows[j] += padding + str(i) + padding\n",
    "                else:\n",
    "                    rows[j] += line\n",
    "\n",
    "                if (i + 1) < len(self.columns):\n",
    "                    rows[j] += ' | '\n",
    "\n",
    "        return '\\n'.join(rows)"
   ]
  },
  {
   "cell_type": "code",
   "execution_count": 12,
   "id": "operating-subscription",
   "metadata": {},
   "outputs": [
    {
     "name": "stdout",
     "output_type": "stream",
     "text": [
      "    0     |     1     |     2     |     3     |     4    \n",
      "---*----- | --------- | --------- | --------- | ---------\n",
      "----*---- | --*-*---- | ----*---- | ---*----- | ----*----\n",
      "--***---- | ---**---- | --*-*---- | ----**--- | -----*---\n",
      "--------- | ---*----- | ---**---- | ---**---- | ---***---\n",
      "--------- | --------- | --------- | --------- | ---------\n"
     ]
    }
   ],
   "source": [
    "columns = ColumnPrinter()\n",
    "for i in range(5):\n",
    "    columns.append(str(grid))\n",
    "    grid = simulate(grid)\n",
    "\n",
    "print(columns)"
   ]
  },
  {
   "cell_type": "markdown",
   "id": "boring-promotion",
   "metadata": {},
   "source": [
    "```python\n",
    "def game_logic(state, neighbors):\n",
    "    ...\n",
    "    # Do some blocking input/output in here:\n",
    "    data = my_socket.recv(100)\n",
    "    ...\n",
    "```\n",
    "\n",
    "블로킹 I/O의 지연 시간이 100밀리초이고 그리드 셀이 45개 있으면\n",
    "한 세대를 처리하는 데 최소 4.5초가 걸린다.\n",
    "게다가 규모 확장이 쉽지 않다.\n",
    "그리드가 10,000개의 셀을 포함해야 한다면 각 세대를 계산하는 데 15분이 걸린다."
   ]
  },
  {
   "cell_type": "markdown",
   "id": "subject-republic",
   "metadata": {},
   "source": [
    "> - 프로그램이 커지면서 범위와 복잡도가 증가함에 따라 동시에 실행되는 여러 실행 흐름이 필요해지는 경우가 많다.\n",
    "> - 동시성을 조율하는 가장 일반적인 방법으로는 팬아웃(새로운 동시성 단위들을 만들어냄)과 팬인(기존 동시성 단위들의 실행이 끝나기를 기다림)이 있다.\n",
    "> - 파이썬은 팬아웃과 팬인을 구현하는 다양한 방법을 제공한다. (57~60 참조)"
   ]
  },
  {
   "cell_type": "code",
   "execution_count": null,
   "id": "fabulous-commercial",
   "metadata": {},
   "outputs": [],
   "source": []
  }
 ],
 "metadata": {
  "kernelspec": {
   "display_name": "Python 3",
   "language": "python",
   "name": "python3"
  },
  "language_info": {
   "codemirror_mode": {
    "name": "ipython",
    "version": 3
   },
   "file_extension": ".py",
   "mimetype": "text/x-python",
   "name": "python",
   "nbconvert_exporter": "python",
   "pygments_lexer": "ipython3",
   "version": "3.8.7"
  }
 },
 "nbformat": 4,
 "nbformat_minor": 5
}
