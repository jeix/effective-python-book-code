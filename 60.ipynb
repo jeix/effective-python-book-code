{
 "cells": [
  {
   "cell_type": "markdown",
   "metadata": {},
   "source": [
    "## 7. Concurrency and Parallelism"
   ]
  },
  {
   "cell_type": "markdown",
   "metadata": {},
   "source": [
    "### 60 Achieve Highly Concurrent I/O with Coroutines"
   ]
  },
  {
   "cell_type": "markdown",
   "metadata": {},
   "source": [
    "> cannot run within Jupyter"
   ]
  },
  {
   "cell_type": "code",
   "execution_count": null,
   "metadata": {},
   "outputs": [],
   "source": [
    "import logging"
   ]
  },
  {
   "cell_type": "code",
   "execution_count": null,
   "metadata": {},
   "outputs": [],
   "source": [
    "# from 56\n",
    "\n",
    "ALIVE = '*'\n",
    "EMPTY = '-'"
   ]
  },
  {
   "cell_type": "code",
   "execution_count": null,
   "metadata": {},
   "outputs": [],
   "source": [
    "#from 56\n",
    "\n",
    "class Grid:\n",
    "    def __init__(self, height, width):\n",
    "        self.height = height\n",
    "        self.width = width\n",
    "        self.rows = []\n",
    "        for _ in range(self.height):\n",
    "            self.rows.append([EMPTY] * self.width)\n",
    "\n",
    "    def get(self, y, x):\n",
    "        return self.rows[y % self.height][x % self.width]\n",
    "\n",
    "    def set(self, y, x, state):\n",
    "        self.rows[y % self.height][x % self.width] = state\n",
    "\n",
    "    def __str__(self):\n",
    "        output = ''\n",
    "        for row in self.rows:\n",
    "            for cell in row:\n",
    "                output += cell\n",
    "            output += '\\n'\n",
    "        return output"
   ]
  },
  {
   "cell_type": "code",
   "execution_count": null,
   "metadata": {},
   "outputs": [],
   "source": [
    "# from 56\n",
    "\n",
    "def count_neighbors(y, x, get):\n",
    "    n_ = get(y - 1, x + 0)  # North\n",
    "    ne = get(y - 1, x + 1)  # Northeast\n",
    "    e_ = get(y + 0, x + 1)  # East\n",
    "    se = get(y + 1, x + 1)  # Southeast\n",
    "    s_ = get(y + 1, x + 0)  # South\n",
    "    sw = get(y + 1, x - 1)  # Southwest\n",
    "    w_ = get(y + 0, x - 1)  # West\n",
    "    nw = get(y - 1, x - 1)  # Northwest\n",
    "    neighbor_states = [n_, ne, e_, se, s_, sw, w_, nw]\n",
    "    count = 0\n",
    "    for state in neighbor_states:\n",
    "        if state == ALIVE:\n",
    "            count += 1\n",
    "    return count"
   ]
  },
  {
   "cell_type": "code",
   "execution_count": null,
   "metadata": {},
   "outputs": [],
   "source": [
    "async def game_logic(state, neighbors):\n",
    "    # Do some input/output in here:\n",
    "    data = await my_socket.read(50)\n",
    "\n",
    "# from 56 (async)\n",
    "\n",
    "async def game_logic(state, neighbors):\n",
    "    if state == ALIVE:\n",
    "        if neighbors < 2:\n",
    "            return EMPTY     # Die: Too few\n",
    "        elif neighbors > 3:\n",
    "            return EMPTY     # Die: Too many\n",
    "    else:\n",
    "        if neighbors == 3:\n",
    "            return ALIVE     # Regenerate\n",
    "    return state"
   ]
  },
  {
   "cell_type": "code",
   "execution_count": null,
   "metadata": {},
   "outputs": [],
   "source": [
    "# from 56 (async, await)\n",
    "\n",
    "async def step_cell(y, x, get, set):\n",
    "    state = get(y, x)\n",
    "    neighbors = count_neighbors(y, x, get)\n",
    "    next_state = await game_logic(state, neighbors)\n",
    "    set(y, x, next_state)"
   ]
  },
  {
   "cell_type": "code",
   "execution_count": null,
   "metadata": {},
   "outputs": [],
   "source": [
    "import asyncio"
   ]
  },
  {
   "cell_type": "code",
   "execution_count": null,
   "metadata": {},
   "outputs": [],
   "source": [
    "async def simulate(grid):\n",
    "    next_grid = Grid(grid.height, grid.width)\n",
    "\n",
    "    tasks = []\n",
    "    for y in range(grid.height):\n",
    "        for x in range(grid.width):\n",
    "            task = step_cell(\n",
    "                y, x, grid.get, next_grid.set)      # Fan out\n",
    "            tasks.append(task)\n",
    "\n",
    "    await asyncio.gather(*tasks)                    # Fan in\n",
    "\n",
    "    return next_grid"
   ]
  },
  {
   "cell_type": "code",
   "execution_count": null,
   "metadata": {},
   "outputs": [],
   "source": [
    "# from 56\n",
    "\n",
    "class ColumnPrinter:\n",
    "    def __init__(self):\n",
    "        self.columns = []\n",
    "\n",
    "    def append(self, data):\n",
    "        self.columns.append(data)\n",
    "\n",
    "    def __str__(self):\n",
    "        row_count = 1\n",
    "        for data in self.columns:\n",
    "            row_count = max(\n",
    "                row_count, len(data.splitlines()) + 1)\n",
    "\n",
    "        rows = [''] * row_count\n",
    "        for j in range(row_count):\n",
    "            for i, data in enumerate(self.columns):\n",
    "                line = data.splitlines()[max(0, j - 1)]\n",
    "                if j == 0:\n",
    "                    padding = ' ' * (len(line) // 2)\n",
    "                    rows[j] += padding + str(i) + padding\n",
    "                else:\n",
    "                    rows[j] += line\n",
    "\n",
    "                if (i + 1) < len(self.columns):\n",
    "                    rows[j] += ' | '\n",
    "\n",
    "        return '\\n'.join(rows)"
   ]
  },
  {
   "cell_type": "code",
   "execution_count": null,
   "metadata": {},
   "outputs": [],
   "source": [
    "logging.getLogger().setLevel(logging.ERROR)\n",
    "\n",
    "grid = Grid(5, 9)\n",
    "grid.set(0, 3, ALIVE)\n",
    "grid.set(1, 4, ALIVE)\n",
    "grid.set(2, 2, ALIVE)\n",
    "grid.set(2, 3, ALIVE)\n",
    "grid.set(2, 4, ALIVE)\n",
    "\n",
    "columns = ColumnPrinter()\n",
    "for i in range(5):\n",
    "    columns.append(str(grid))\n",
    "    grid = asyncio.run(simulate(grid))   # Run the event loop\n",
    "\n",
    "print(columns)\n",
    "\n",
    "logging.getLogger().setLevel(logging.DEBUG)"
   ]
  },
  {
   "cell_type": "code",
   "execution_count": null,
   "metadata": {},
   "outputs": [],
   "source": [
    "try:\n",
    "    async def game_logic(state, neighbors):\n",
    "        raise OSError('Problem with I/O')\n",
    "    \n",
    "    logging.getLogger().setLevel(logging.ERROR)\n",
    "    \n",
    "    asyncio.run(game_logic(ALIVE, 3))\n",
    "    \n",
    "    logging.getLogger().setLevel(logging.DEBUG)\n",
    "except:\n",
    "    logging.exception('Expected')\n",
    "else:\n",
    "    assert False"
   ]
  },
  {
   "cell_type": "code",
   "execution_count": null,
   "metadata": {},
   "outputs": [],
   "source": [
    "# restore\n",
    "\n",
    "async def game_logic(state, neighbors):\n",
    "    if state == ALIVE:\n",
    "        if neighbors < 2:\n",
    "            return EMPTY     # Die: Too few\n",
    "        elif neighbors > 3:\n",
    "            return EMPTY     # Die: Too many\n",
    "    else:\n",
    "        if neighbors == 3:\n",
    "            return ALIVE     # Regenerate\n",
    "    return state"
   ]
  },
  {
   "cell_type": "code",
   "execution_count": null,
   "metadata": {},
   "outputs": [],
   "source": [
    "# from 56 (async)\n",
    "\n",
    "async def count_neighbors(y, x, get):\n",
    "    n_ = get(y - 1, x + 0)  # North\n",
    "    ne = get(y - 1, x + 1)  # Northeast\n",
    "    e_ = get(y + 0, x + 1)  # East\n",
    "    se = get(y + 1, x + 1)  # Southeast\n",
    "    s_ = get(y + 1, x + 0)  # South\n",
    "    sw = get(y + 1, x - 1)  # Southwest\n",
    "    w_ = get(y + 0, x - 1)  # West\n",
    "    nw = get(y - 1, x - 1)  # Northwest\n",
    "    neighbor_states = [n_, ne, e_, se, s_, sw, w_, nw]\n",
    "    count = 0\n",
    "    for state in neighbor_states:\n",
    "        if state == ALIVE:\n",
    "            count += 1\n",
    "    return count"
   ]
  },
  {
   "cell_type": "code",
   "execution_count": null,
   "metadata": {},
   "outputs": [],
   "source": [
    "# from 56 (async, await)\n",
    "\n",
    "async def step_cell(y, x, get, set):\n",
    "    state = get(y, x)\n",
    "    neighbors = await count_neighbors(y, x, get)\n",
    "    next_state = await game_logic(state, neighbors)\n",
    "    set(y, x, next_state)"
   ]
  },
  {
   "cell_type": "code",
   "execution_count": null,
   "metadata": {},
   "outputs": [],
   "source": [
    "logging.getLogger().setLevel(logging.ERROR)\n",
    "\n",
    "grid = Grid(5, 9)\n",
    "grid.set(0, 3, ALIVE)\n",
    "grid.set(1, 4, ALIVE)\n",
    "grid.set(2, 2, ALIVE)\n",
    "grid.set(2, 3, ALIVE)\n",
    "grid.set(2, 4, ALIVE)\n",
    "\n",
    "columns = ColumnPrinter()\n",
    "for i in range(5):\n",
    "    columns.append(str(grid))\n",
    "    grid = asyncio.run(simulate(grid))\n",
    "\n",
    "print(columns)\n",
    "\n",
    "logging.getLogger().setLevel(logging.DEBUG)"
   ]
  },
  {
   "cell_type": "markdown",
   "metadata": {},
   "source": [
    "> - `asyn` 키워드로 정의한 함수를 코루틴이라고 부른다. 코루틴을 호출하는 호출자는 `await` 키워드를 사용해 자신이 의존하는 코루틴의 결과를 받을 수 있다.\n",
    "> - 코루틴은 수만 개의 함수가 동시에 실행되는 것처럼 보이게 만드는 효과적인 방법을 제공한다.\n",
    "> - I/O를 병렬화하면서 스레드로 I/O를 수행할 때 발생할 수 있는 문제를 극복하기 위해 팬인과 팬아웃에 코루틴을 사용할 수 있다."
   ]
  }
 ],
 "metadata": {
  "kernelspec": {
   "display_name": "Python 3",
   "language": "python",
   "name": "python3"
  },
  "language_info": {
   "codemirror_mode": {
    "name": "ipython",
    "version": 3
   },
   "file_extension": ".py",
   "mimetype": "text/x-python",
   "name": "python",
   "nbconvert_exporter": "python",
   "pygments_lexer": "ipython3",
   "version": "3.8.7"
  }
 },
 "nbformat": 4,
 "nbformat_minor": 5
}
