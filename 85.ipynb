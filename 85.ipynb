{
 "cells": [
  {
   "cell_type": "markdown",
   "metadata": {},
   "source": [
    "## 10. Collaboration"
   ]
  },
  {
   "cell_type": "markdown",
   "metadata": {},
   "source": [
    "### 85 Use Packages to Organize Modules and Provide Stable APIs"
   ]
  },
  {
   "cell_type": "markdown",
   "metadata": {},
   "source": [
    "#### 이름 공간"
   ]
  },
  {
   "cell_type": "markdown",
   "metadata": {},
   "source": [
    "```python\n",
    "# analysis/utils/utils.py\n",
    "\n",
    "import math\n",
    "\n",
    "def log_base2_bucket(value):\n",
    "    return math.log(value, 2)\n",
    "\n",
    "def inspect(value):\n",
    "    pass\n",
    "```"
   ]
  },
  {
   "cell_type": "markdown",
   "metadata": {},
   "source": [
    "```python\n",
    "# analysis/utils/__init__.py\n",
    "```"
   ]
  },
  {
   "cell_type": "markdown",
   "metadata": {},
   "source": [
    "```python\n",
    "# frontend/utils/utils.py\n",
    "\n",
    "def stringify(value):\n",
    "    return str(value)\n",
    "\n",
    "def inspect(value):\n",
    "    pass\n",
    "\n",
    "```"
   ]
  },
  {
   "cell_type": "markdown",
   "metadata": {},
   "source": [
    "```python\n",
    "# frontend/utils/__init__.py\n",
    "```"
   ]
  },
  {
   "cell_type": "markdown",
   "metadata": {},
   "source": [
    "```python\n",
    "# main1.py\n",
    "\n",
    "from analysis.utils import log_base2_bucket\n",
    "from frontend.utils import stringify\n",
    "\n",
    "bucket = stringify(log_base2_bucket(33))\n",
    "print(repr(bucket))\n",
    "```"
   ]
  },
  {
   "cell_type": "markdown",
   "metadata": {},
   "source": [
    "```shell\n",
    "$ python main1.py \n",
    "'5.044394119358453'\n",
    "\n",
    "```"
   ]
  },
  {
   "cell_type": "markdown",
   "metadata": {},
   "source": [
    "```python\n",
    "# main2.py\n",
    "\n",
    "from analysis.utils import inspect\n",
    "from frontend.utils import inspect  # Overwrites!\n",
    "'frontend' in inspect.__module__\n",
    "print(inspect.__module__)\n",
    "```"
   ]
  },
  {
   "cell_type": "markdown",
   "metadata": {},
   "source": [
    "```shell\n",
    "$ python main2.py \n",
    "frontend.utils\n",
    "```"
   ]
  },
  {
   "cell_type": "markdown",
   "metadata": {},
   "source": [
    "```python\n",
    "# main3.py\n",
    "\n",
    "from analysis.utils import inspect as analysis_inspect\n",
    "from frontend.utils import inspect as frontend_inspect\n",
    "\n",
    "value = 33\n",
    "if analysis_inspect(value) == frontend_inspect(value):\n",
    "    print('Inspection equal!')\n",
    "```"
   ]
  },
  {
   "cell_type": "markdown",
   "metadata": {},
   "source": [
    "```shell\n",
    "$ python main3.py \n",
    "Inspection equal!\n",
    "```"
   ]
  },
  {
   "cell_type": "markdown",
   "metadata": {},
   "source": [
    "```python\n",
    "# main4.py\n",
    "\n",
    "import analysis.utils\n",
    "import frontend.utils\n",
    "\n",
    "value = 33\n",
    "if (analysis.utils.inspect(value) == frontend.utils.inspect(value)):\n",
    "    print('Inspection equal!')\n",
    "```"
   ]
  },
  {
   "cell_type": "markdown",
   "metadata": {},
   "source": [
    "```shell\n",
    "$ python main4.py \n",
    "Inspection equal!\n",
    "```"
   ]
  },
  {
   "cell_type": "markdown",
   "metadata": {},
   "source": [
    "#### 안정적인 API"
   ]
  },
  {
   "cell_type": "markdown",
   "metadata": {},
   "source": [
    "```python\n",
    "# mypackage/models.py\n",
    "\n",
    "__all__ = ['Projectile']\n",
    "\n",
    "class Projectile:\n",
    "    def __init__(self, mass, velocity):\n",
    "        self.mass = mass\n",
    "        self.velocity = velocity\n",
    "```"
   ]
  },
  {
   "cell_type": "markdown",
   "metadata": {},
   "source": [
    "```python\n",
    "# mypackage/utils.py\n",
    "\n",
    "from .models import Projectile\n",
    "\n",
    "__all__ = ['simulate_collision']\n",
    "\n",
    "def _dot_product(a, b):\n",
    "    pass\n",
    "\n",
    "def simulate_collision(a, b):\n",
    "    after_a = Projectile(-a.mass, -a.velocity)\n",
    "    after_b = Projectile(-b.mass, -b.velocity)\n",
    "    return after_a, after_b\n",
    "```"
   ]
  },
  {
   "cell_type": "markdown",
   "metadata": {},
   "source": [
    "```python\n",
    "# mypackage/__init__.py\n",
    "\n",
    "__all__ = []\n",
    "from .models import *\n",
    "__all__ += models.__all__\n",
    "from .utils import *\n",
    "__all__ += utils.__all__\n",
    "```"
   ]
  },
  {
   "cell_type": "markdown",
   "metadata": {},
   "source": [
    "```python\n",
    "# api_consumer.py\n",
    "\n",
    "from mypackage import *\n",
    "\n",
    "a = Projectile(1.5, 3)\n",
    "b = Projectile(4, 1.7)\n",
    "after_a, after_b = simulate_collision(a, b)\n",
    "print(after_a.__dict__, after_b.__dict__)\n",
    "```"
   ]
  },
  {
   "cell_type": "markdown",
   "metadata": {},
   "source": [
    "```shell\n",
    "$ python api_consumer.py \n",
    "{'mass': -1.5, 'velocity': -3} {'mass': -4, 'velocity': -1.7}\n",
    "```"
   ]
  },
  {
   "cell_type": "markdown",
   "metadata": {},
   "source": [
    "```shell\n",
    "$ python\n",
    ">>> from mypackage import utils\n",
    ">>> utils._dot_product\n",
    "<function _dot_product at 0x7f7e323ca5e0>\n",
    ">>> \n",
    ">>> import mypackage\n",
    ">>> try:\n",
    "...     mypackage._dot_product\n",
    "...     assert False\n",
    "... except AttributeError:\n",
    "...     pass  # Expected\n",
    "... \n",
    ">>> mypackage.utils._dot_product\n",
    "<function _dot_product at 0x7f7e323ca5e0>\n",
    "```"
   ]
  },
  {
   "cell_type": "markdown",
   "metadata": {},
   "source": [
    "> - 파이썬 패키지는 다른 모듈을 포함하는 모듈이다. 패키지를 사용하면 서로 분리돼 충돌이 일어나지 않는, 유일한 절대 모듈 경로를 사용하는 이름 공간으로 코드를 나눌 수 있다.\n",
    "> - 다른 소스 파일이 들어 있는 디렉토리에 `__init__.py` 파일을 추가하면 간단한 패키지를 만들 수 있다. 소스 파일들은 디렉토리로 인해 생긴 패키지의 자식 모듈이 된다. 패키지 디렉토리에는 다른 패키지가 들어갈 수도 있다.\n",
    "> - 모듈 외부에서 볼 수 있게 허용할 이름들을 `__all__` 특별 애트리뷰트에 지정해 공개 API를 제공할 수 있다.\n",
    "> - 패키지의 `__init__.py` 파일에 외부에 공개할 이름만 임포트하거나 패키지 내부에서만 사용할 이름 앞에 `_`를 붙임으로써 패키지 내부에서만 사용할 수 있는 이름을 감출 수 있다.\n",
    "> - 단일 코드베이스나 단일 팀 안에서 협업을 진행한다면 아마도 `__all__`로 API를 명시할 필요가 없을 것이다.\n",
    "\n",
    "> - `from x import *` 스타일로 `import *` 문을 여러 번 사용하면 어떤 이름이 어느 모듈에서 비롯됐는지 알기 어렵고, 이름이 겹치면 기존 이름을 덮어 쓰게 된다.\n",
    "> - 안전한 접근 방법은 명시적으로 이름을 임포트하는 것이다.\n",
    ">   - `from x import y`\n",
    ">   - `import x`  \n",
    ">     `x.y`"
   ]
  }
 ],
 "metadata": {
  "kernelspec": {
   "display_name": "Python 3",
   "language": "python",
   "name": "python3"
  },
  "language_info": {
   "codemirror_mode": {
    "name": "ipython",
    "version": 3
   },
   "file_extension": ".py",
   "mimetype": "text/x-python",
   "name": "python",
   "nbconvert_exporter": "python",
   "pygments_lexer": "ipython3",
   "version": "3.8.7"
  }
 },
 "nbformat": 4,
 "nbformat_minor": 4
}
