{
 "cells": [
  {
   "cell_type": "markdown",
   "metadata": {},
   "source": [
    "## 9. Testing and Debugging"
   ]
  },
  {
   "cell_type": "markdown",
   "metadata": {},
   "source": [
    "### 78 Use Mocks to Test Code with Complex Dependencies"
   ]
  },
  {
   "cell_type": "code",
   "execution_count": 1,
   "metadata": {},
   "outputs": [],
   "source": [
    "import logging"
   ]
  },
  {
   "cell_type": "code",
   "execution_count": 2,
   "metadata": {},
   "outputs": [],
   "source": [
    "class DatabaseConnection:\n",
    "    def __init__(self, host, port):\n",
    "        pass\n",
    "\n",
    "class DatabaseConnectionError(Exception):\n",
    "    pass\n",
    "\n",
    "def get_animals(database, species):\n",
    "    # Query the Database\n",
    "    raise DatabaseConnectionError('Not connected')\n",
    "    # Return a list of (name, last_mealtime) tuples"
   ]
  },
  {
   "cell_type": "code",
   "execution_count": 3,
   "metadata": {},
   "outputs": [
    {
     "name": "stderr",
     "output_type": "stream",
     "text": [
      "ERROR:root:Expected\n",
      "Traceback (most recent call last):\n",
      "  File \"<ipython-input-3-ac3dd34f44af>\", line 4, in <module>\n",
      "    get_animals(database, 'Meerkat')\n",
      "  File \"<ipython-input-2-9961780f04ff>\", line 10, in get_animals\n",
      "    raise DatabaseConnectionError('Not connected')\n",
      "DatabaseConnectionError: Not connected\n"
     ]
    }
   ],
   "source": [
    "try:\n",
    "    database = DatabaseConnection('localhost', '4444')\n",
    "    \n",
    "    get_animals(database, 'Meerkat')\n",
    "except:\n",
    "    logging.exception('Expected')\n",
    "else:\n",
    "    assert False"
   ]
  },
  {
   "cell_type": "code",
   "execution_count": 4,
   "metadata": {},
   "outputs": [],
   "source": [
    "from datetime import datetime"
   ]
  },
  {
   "cell_type": "code",
   "execution_count": 5,
   "metadata": {},
   "outputs": [],
   "source": [
    "from unittest.mock import Mock"
   ]
  },
  {
   "cell_type": "code",
   "execution_count": 6,
   "metadata": {},
   "outputs": [],
   "source": [
    "mock = Mock(spec=get_animals)\n",
    "expected = [\n",
    "    ('Spot', datetime(2019, 6, 5, 11, 15)),\n",
    "    ('Fluffy', datetime(2019, 6, 5, 12, 30)),\n",
    "    ('Jojo', datetime(2019, 6, 5, 12, 45)),\n",
    "]\n",
    "mock.return_value = expected"
   ]
  },
  {
   "cell_type": "code",
   "execution_count": 7,
   "metadata": {},
   "outputs": [
    {
     "name": "stderr",
     "output_type": "stream",
     "text": [
      "ERROR:root:Expected\n",
      "Traceback (most recent call last):\n",
      "  File \"<ipython-input-7-d4b191c64618>\", line 2, in <module>\n",
      "    mock.does_not_exist\n",
      "  File \"/usr/local/lib/python3.8/unittest/mock.py\", line 637, in __getattr__\n",
      "    raise AttributeError(\"Mock object has no attribute %r\" % name)\n",
      "AttributeError: Mock object has no attribute 'does_not_exist'\n"
     ]
    }
   ],
   "source": [
    "try:\n",
    "    mock.does_not_exist\n",
    "except:\n",
    "    logging.exception('Expected')\n",
    "else:\n",
    "    assert False"
   ]
  },
  {
   "cell_type": "code",
   "execution_count": 8,
   "metadata": {},
   "outputs": [],
   "source": [
    "database = object()\n",
    "result = mock(database, 'Meerkat')\n",
    "assert result == expected"
   ]
  },
  {
   "cell_type": "code",
   "execution_count": 9,
   "metadata": {},
   "outputs": [],
   "source": [
    "mock.assert_called_once_with(database, 'Meerkat')"
   ]
  },
  {
   "cell_type": "code",
   "execution_count": 10,
   "metadata": {},
   "outputs": [
    {
     "name": "stderr",
     "output_type": "stream",
     "text": [
      "ERROR:root:Expected\n",
      "Traceback (most recent call last):\n",
      "  File \"<ipython-input-10-74361802c8c1>\", line 2, in <module>\n",
      "    mock.assert_called_once_with(database, 'Giraffe')\n",
      "  File \"/usr/local/lib/python3.8/unittest/mock.py\", line 925, in assert_called_once_with\n",
      "    return self.assert_called_with(*args, **kwargs)\n",
      "  File \"/usr/local/lib/python3.8/unittest/mock.py\", line 913, in assert_called_with\n",
      "    raise AssertionError(_error_message()) from cause\n",
      "AssertionError: expected call not found.\n",
      "Expected: mock(<object object at 0x7fd4d00b1090>, 'Giraffe')\n",
      "Actual: mock(<object object at 0x7fd4d00b1090>, 'Meerkat')\n"
     ]
    }
   ],
   "source": [
    "try:\n",
    "    mock.assert_called_once_with(database, 'Giraffe')\n",
    "except:\n",
    "    logging.exception('Expected')\n",
    "else:\n",
    "    assert False"
   ]
  },
  {
   "cell_type": "code",
   "execution_count": 11,
   "metadata": {},
   "outputs": [],
   "source": [
    "from unittest.mock import ANY"
   ]
  },
  {
   "cell_type": "code",
   "execution_count": 12,
   "metadata": {},
   "outputs": [],
   "source": [
    "mock = Mock(spec=get_animals)\n",
    "mock('database 1', 'Rabbit')\n",
    "mock('database 2', 'Bison')\n",
    "mock('database 3', 'Meerkat')\n",
    "\n",
    "mock.assert_called_with(ANY, 'Meerkat')"
   ]
  },
  {
   "cell_type": "code",
   "execution_count": 13,
   "metadata": {},
   "outputs": [
    {
     "name": "stderr",
     "output_type": "stream",
     "text": [
      "ERROR:root:Expected\n",
      "Traceback (most recent call last):\n",
      "  File \"<ipython-input-13-cb28d0154568>\", line 7, in <module>\n",
      "    result = mock(database, 'Meerkat')\n",
      "  File \"/usr/local/lib/python3.8/unittest/mock.py\", line 1081, in __call__\n",
      "    return self._mock_call(*args, **kwargs)\n",
      "  File \"/usr/local/lib/python3.8/unittest/mock.py\", line 1085, in _mock_call\n",
      "    return self._execute_mock_call(*args, **kwargs)\n",
      "  File \"/usr/local/lib/python3.8/unittest/mock.py\", line 1140, in _execute_mock_call\n",
      "    raise effect\n",
      "MyError: Whoops! Big problem\n"
     ]
    }
   ],
   "source": [
    "class MyError(Exception):\n",
    "    pass\n",
    "\n",
    "try:\n",
    "    mock = Mock(spec=get_animals)\n",
    "    mock.side_effect = MyError('Whoops! Big problem')\n",
    "    result = mock(database, 'Meerkat')\n",
    "except:\n",
    "    logging.exception('Expected')\n",
    "else:\n",
    "    assert False"
   ]
  },
  {
   "cell_type": "code",
   "execution_count": 14,
   "metadata": {},
   "outputs": [],
   "source": [
    "def get_food_period(database, species):\n",
    "    # Query the Database\n",
    "    pass\n",
    "    # Return a time delta\n",
    "\n",
    "def feed_animal(database, name, when):\n",
    "    # Write to the Database\n",
    "    pass\n",
    "\n",
    "def do_rounds(database, species):\n",
    "    now = datetime.datetime.utcnow()\n",
    "    feeding_timedelta = get_food_period(database, species)\n",
    "    animals = get_animals(database, species)\n",
    "    fed = 0\n",
    "\n",
    "    for name, last_mealtime in animals:\n",
    "        if (now - last_mealtime) > feeding_timedelta:\n",
    "            feed_animal(database, name, now)\n",
    "            fed += 1\n",
    "\n",
    "    return fed"
   ]
  },
  {
   "cell_type": "code",
   "execution_count": 15,
   "metadata": {},
   "outputs": [],
   "source": [
    "def do_rounds(database, species, *,\n",
    "              now_func=datetime.utcnow,\n",
    "              food_func=get_food_period,\n",
    "              animals_func=get_animals,\n",
    "              feed_func=feed_animal):\n",
    "    now = now_func()\n",
    "    feeding_timedelta = food_func(database, species)\n",
    "    animals = animals_func(database, species)\n",
    "    fed = 0\n",
    "\n",
    "    for name, last_mealtime in animals:\n",
    "        if (now - last_mealtime) > feeding_timedelta:\n",
    "            feed_func(database, name, now)\n",
    "            fed += 1\n",
    "\n",
    "    return fed"
   ]
  },
  {
   "cell_type": "code",
   "execution_count": 16,
   "metadata": {},
   "outputs": [],
   "source": [
    "from datetime import timedelta"
   ]
  },
  {
   "cell_type": "code",
   "execution_count": 17,
   "metadata": {},
   "outputs": [],
   "source": [
    "now_func = Mock(spec=datetime.utcnow)\n",
    "now_func.return_value = datetime(2019, 6, 5, 15, 45)\n",
    "\n",
    "food_func = Mock(spec=get_food_period)\n",
    "food_func.return_value = timedelta(hours=3)\n",
    "\n",
    "animals_func = Mock(spec=get_animals)\n",
    "animals_func.return_value = [\n",
    "    ('Spot', datetime(2019, 6, 5, 11, 15)),\n",
    "    ('Fluffy', datetime(2019, 6, 5, 12, 30)),\n",
    "    ('Jojo', datetime(2019, 6, 5, 12, 45)),\n",
    "]\n",
    "\n",
    "feed_func = Mock(spec=feed_animal)"
   ]
  },
  {
   "cell_type": "code",
   "execution_count": 18,
   "metadata": {},
   "outputs": [],
   "source": [
    "result = do_rounds(\n",
    "    database,\n",
    "    'Meerkat',\n",
    "    now_func=now_func,\n",
    "    food_func=food_func,\n",
    "    animals_func=animals_func,\n",
    "    feed_func=feed_func)\n",
    "\n",
    "assert result == 2"
   ]
  },
  {
   "cell_type": "code",
   "execution_count": 19,
   "metadata": {},
   "outputs": [],
   "source": [
    "from unittest.mock import call"
   ]
  },
  {
   "cell_type": "code",
   "execution_count": 20,
   "metadata": {},
   "outputs": [],
   "source": [
    "food_func.assert_called_once_with(database, 'Meerkat')\n",
    "\n",
    "animals_func.assert_called_once_with(database, 'Meerkat')\n",
    "\n",
    "feed_func.assert_has_calls(\n",
    "    [\n",
    "        call(database, 'Spot', now_func.return_value),\n",
    "        call(database, 'Fluffy', now_func.return_value),\n",
    "    ],\n",
    "    any_order=True)"
   ]
  },
  {
   "cell_type": "code",
   "execution_count": 21,
   "metadata": {},
   "outputs": [],
   "source": [
    "from unittest.mock import patch"
   ]
  },
  {
   "cell_type": "code",
   "execution_count": 22,
   "metadata": {},
   "outputs": [
    {
     "name": "stdout",
     "output_type": "stream",
     "text": [
      "Outside patch: <function get_animals at 0x7fd4d00e51f0>\n",
      "Inside patch:  <MagicMock name='get_animals' id='140551780611648'>\n",
      "Outside again: <function get_animals at 0x7fd4d00e51f0>\n"
     ]
    }
   ],
   "source": [
    "print('Outside patch:', get_animals)\n",
    "\n",
    "with patch('__main__.get_animals'):\n",
    "    print('Inside patch: ', get_animals)\n",
    "\n",
    "print('Outside again:', get_animals)"
   ]
  },
  {
   "cell_type": "code",
   "execution_count": 23,
   "metadata": {},
   "outputs": [
    {
     "name": "stderr",
     "output_type": "stream",
     "text": [
      "ERROR:root:Expected\n",
      "Traceback (most recent call last):\n",
      "  File \"/usr/local/lib/python3.8/unittest/mock.py\", line 1490, in __enter__\n",
      "    setattr(self.target, self.attribute, new_attr)\n",
      "TypeError: can't set attributes of built-in/extension type 'datetime.datetime'\n",
      "\n",
      "During handling of the above exception, another exception occurred:\n",
      "\n",
      "Traceback (most recent call last):\n",
      "  File \"<ipython-input-23-4cb98598fb2e>\", line 4, in <module>\n",
      "    with patch('datetime.datetime.utcnow'):\n",
      "  File \"/usr/local/lib/python3.8/unittest/mock.py\", line 1503, in __enter__\n",
      "    if not self.__exit__(*sys.exc_info()):\n",
      "  File \"/usr/local/lib/python3.8/unittest/mock.py\", line 1509, in __exit__\n",
      "    setattr(self.target, self.attribute, self.temp_original)\n",
      "TypeError: can't set attributes of built-in/extension type 'datetime.datetime'\n"
     ]
    }
   ],
   "source": [
    "try:\n",
    "    fake_now = datetime(2019, 6, 5, 15, 45)\n",
    "    \n",
    "    with patch('datetime.datetime.utcnow'):\n",
    "        datetime.utcnow.return_value = fake_now\n",
    "except:\n",
    "    logging.exception('Expected')\n",
    "else:\n",
    "    assert False"
   ]
  },
  {
   "cell_type": "code",
   "execution_count": 24,
   "metadata": {},
   "outputs": [],
   "source": [
    "def get_do_rounds_time():\n",
    "    return datetime.datetime.utcnow()\n",
    "\n",
    "def do_rounds(database, species):\n",
    "    now = get_do_rounds_time()\n",
    "\n",
    "with patch('__main__.get_do_rounds_time'):\n",
    "    pass"
   ]
  },
  {
   "cell_type": "code",
   "execution_count": 25,
   "metadata": {},
   "outputs": [],
   "source": [
    "def do_rounds(database, species, *, utcnow=datetime.utcnow):\n",
    "    now = utcnow()\n",
    "    feeding_timedelta = get_food_period(database, species)\n",
    "    animals = get_animals(database, species)\n",
    "    fed = 0\n",
    "\n",
    "    for name, last_mealtime in animals:\n",
    "        if (now - last_mealtime) > feeding_timedelta:\n",
    "            feed_animal(database, name, now)\n",
    "            fed += 1\n",
    "\n",
    "    return fed"
   ]
  },
  {
   "cell_type": "code",
   "execution_count": 26,
   "metadata": {},
   "outputs": [],
   "source": [
    "from unittest.mock import DEFAULT"
   ]
  },
  {
   "cell_type": "code",
   "execution_count": 27,
   "metadata": {},
   "outputs": [],
   "source": [
    "with patch.multiple('__main__',\n",
    "                    autospec=True,\n",
    "                    get_food_period=DEFAULT,\n",
    "                    get_animals=DEFAULT,\n",
    "                    feed_animal=DEFAULT):\n",
    "    now_func = Mock(spec=datetime.utcnow)\n",
    "    now_func.return_value = datetime(2019, 6, 5, 15, 45)\n",
    "    get_food_period.return_value = timedelta(hours=3)\n",
    "    get_animals.return_value = [\n",
    "        ('Spot', datetime(2019, 6, 5, 11, 15)),\n",
    "        ('Fluffy', datetime(2019, 6, 5, 12, 30)),\n",
    "        ('Jojo', datetime(2019, 6, 5, 12, 45))\n",
    "    ]\n",
    "\n",
    "    result = do_rounds(database, 'Meerkat', utcnow=now_func)\n",
    "    assert result == 2\n",
    "\n",
    "    get_food_period.assert_called_once_with(database, 'Meerkat')\n",
    "    get_animals.assert_called_once_with(database, 'Meerkat')\n",
    "    feed_animal.assert_has_calls(\n",
    "        [\n",
    "            call(database, 'Spot', now_func.return_value),\n",
    "            call(database, 'Fluffy', now_func.return_value),\n",
    "        ],\n",
    "        any_order=True)"
   ]
  },
  {
   "cell_type": "markdown",
   "metadata": {},
   "source": [
    "> - `unittest.mock` 모듈은 `Mock` 클래스를 사용해 인터페이스의 동작을 흉내 낼 수 있게 해준다. 테스트를 하루 때 데스트 대상 코드가 호출해야 하는 의존 관계 함수를 설정하기 힘들 경우에는 목을 사용하면 유용하다.\n",
    "> - 목을 사용할 때는 테스트 대상 코드의 동작을 검증하는 것과 테스트 대상 코드가 호출하는 의존 관계 함수들이 호출되는 방식을 검증하는 것이 모두 중요하다. `Mock.assert_called_once_with`나 이와 비슷한 메서드들을 사용해 이런 검증을 수행한다.\n",
    "> - 목을 테스트 대상 코드에 주입할 때는 키워드를 사용해 호출해야 하는 인자를 쓰거나, `unittest.mock.patch` 또는 이와 비슷한 메서드들을 사용한다."
   ]
  }
 ],
 "metadata": {
  "kernelspec": {
   "display_name": "Python 3",
   "language": "python",
   "name": "python3"
  },
  "language_info": {
   "codemirror_mode": {
    "name": "ipython",
    "version": 3
   },
   "file_extension": ".py",
   "mimetype": "text/x-python",
   "name": "python",
   "nbconvert_exporter": "python",
   "pygments_lexer": "ipython3",
   "version": "3.8.7"
  }
 },
 "nbformat": 4,
 "nbformat_minor": 4
}
