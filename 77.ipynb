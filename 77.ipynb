{
 "cells": [
  {
   "cell_type": "markdown",
   "metadata": {},
   "source": [
    "## 9. Testing and Debugging"
   ]
  },
  {
   "cell_type": "markdown",
   "metadata": {},
   "source": [
    "### 77 Isolate Tests from Each Other with `setUp`, `tearDown`, `setUpModule`, and `tearDownModule`"
   ]
  },
  {
   "cell_type": "markdown",
   "metadata": {},
   "source": [
    "```python\n",
    "# environment_test.py\n",
    "\n",
    "from pathlib import Path\n",
    "from tempfile import TemporaryDirectory\n",
    "from unittest import TestCase, main\n",
    "\n",
    "class EnvironmentTest(TestCase):\n",
    "    def setUp(self):\n",
    "        self.test_dir = TemporaryDirectory()\n",
    "        self.test_path = Path(self.test_dir.name)\n",
    "\n",
    "    def tearDown(self):\n",
    "        self.test_dir.cleanup()\n",
    "\n",
    "    def test_modify_file(self):\n",
    "        with open(self.test_path / 'data.bin', 'w') as f:\n",
    "            f.write('hello')\n",
    "\n",
    "if __name__ == '__main__':\n",
    "    main()\n",
    "```"
   ]
  },
  {
   "cell_type": "markdown",
   "metadata": {},
   "source": [
    "```shell\n",
    "$ python environment_test.py\n",
    ".\n",
    "----------------------------------------------------------------------\n",
    "Ran 1 test in 0.001s\n",
    "\n",
    "OK\n",
    "```"
   ]
  },
  {
   "cell_type": "markdown",
   "metadata": {},
   "source": [
    "```python\n",
    "# integration_test.py\n",
    "\n",
    "from unittest import TestCase, main\n",
    "\n",
    "def setUpModule():\n",
    "    print('* Module setup')\n",
    "\n",
    "def tearDownModule():\n",
    "    print('* Module clean-up')\n",
    "\n",
    "class IntegrationTest(TestCase):\n",
    "    def setUp(self):\n",
    "        print('* Test setup')\n",
    "\n",
    "    def tearDown(self):\n",
    "        print('* Test clean-up')\n",
    "\n",
    "    def test_end_to_end1(self):\n",
    "        print('* Test 1')\n",
    "\n",
    "    def test_end_to_end2(self):\n",
    "        print('* Test 2')\n",
    "\n",
    "if __name__ == '__main__':\n",
    "    main()\n",
    "```"
   ]
  },
  {
   "cell_type": "markdown",
   "metadata": {},
   "source": [
    "```shell\n",
    "$ python integration_test.py\n",
    "* Module setup\n",
    "* Test setup\n",
    "* Test 1\n",
    "* Test clean-up\n",
    ".* Test setup\n",
    "* Test 2\n",
    "* Test clean-up\n",
    ".* Module clean-up\n",
    "\n",
    "----------------------------------------------------------------------\n",
    "Ran 2 tests in 0.000s\n",
    "\n",
    "OK\n",
    "```"
   ]
  },
  {
   "cell_type": "markdown",
   "metadata": {},
   "source": [
    "> - 단위 테스트(함수, 클래스 등의 기본 단위를 격리시켜 검증하는 테스트)와 통합 테스트(모듈 간의 상호작용을 검증하는 테스트)를 모두 작성하는 것이 중요하다.\n",
    "> - `setUp`과 `tearDown` 메서드를 사용하면 테스트 사이를 격리할 수 있으므로 더 깨끗한 테스트 환경을 제공할 수 있다.\n",
    "> - 통합 테스트의 경우 모듈 수준의 함수인 `setUpModule`과 `tearDownModule`을 사용하면 테스트 모듈과 모듈 안에 포함된 모든 `TestCase` 클래스의 전체 생명 주기 동안 필요한 테스트 하네스를 관리할 수 있다."
   ]
  }
 ],
 "metadata": {
  "kernelspec": {
   "display_name": "Python 3",
   "language": "python",
   "name": "python3"
  },
  "language_info": {
   "codemirror_mode": {
    "name": "ipython",
    "version": 3
   },
   "file_extension": ".py",
   "mimetype": "text/x-python",
   "name": "python",
   "nbconvert_exporter": "python",
   "pygments_lexer": "ipython3",
   "version": "3.8.7"
  }
 },
 "nbformat": 4,
 "nbformat_minor": 4
}
