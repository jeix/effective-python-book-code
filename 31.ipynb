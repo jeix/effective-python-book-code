{
 "cells": [
  {
   "cell_type": "markdown",
   "metadata": {},
   "source": [
    "## 4. Comprehensions and Generators"
   ]
  },
  {
   "cell_type": "markdown",
   "metadata": {},
   "source": [
    "### 31 Be Defensive When Iterating Over Arguments"
   ]
  },
  {
   "cell_type": "code",
   "execution_count": 1,
   "metadata": {},
   "outputs": [],
   "source": [
    "import logging"
   ]
  },
  {
   "cell_type": "code",
   "execution_count": 2,
   "metadata": {},
   "outputs": [],
   "source": [
    "def normalize(numbers):\n",
    "    total = sum(numbers)\n",
    "    result = []\n",
    "    for value in numbers:\n",
    "        percent = 100 * value / total\n",
    "        result.append(percent)\n",
    "    return result"
   ]
  },
  {
   "cell_type": "code",
   "execution_count": 3,
   "metadata": {},
   "outputs": [
    {
     "name": "stdout",
     "output_type": "stream",
     "text": [
      "[11.538461538461538, 26.923076923076923, 61.53846153846154]\n"
     ]
    }
   ],
   "source": [
    "visits = [15, 35, 80]\n",
    "percentages = normalize(visits)\n",
    "print(percentages)\n",
    "assert sum(percentages) == 100.0"
   ]
  },
  {
   "cell_type": "code",
   "execution_count": 4,
   "metadata": {},
   "outputs": [],
   "source": [
    "path = 'my_numbers.txt'\n",
    "with open(path, 'w') as f:\n",
    "    for i in (15, 35, 80):\n",
    "        f.write('%d\\n' % i)"
   ]
  },
  {
   "cell_type": "code",
   "execution_count": 5,
   "metadata": {},
   "outputs": [],
   "source": [
    "def read_visits(data_path):\n",
    "    with open(data_path) as f:\n",
    "        for line in f:\n",
    "            yield int(line)"
   ]
  },
  {
   "cell_type": "code",
   "execution_count": 6,
   "metadata": {},
   "outputs": [
    {
     "name": "stdout",
     "output_type": "stream",
     "text": [
      "[]\n"
     ]
    }
   ],
   "source": [
    "it = read_visits('my_numbers.txt')\n",
    "percentages = normalize(it)\n",
    "print(percentages)"
   ]
  },
  {
   "cell_type": "code",
   "execution_count": 7,
   "metadata": {},
   "outputs": [
    {
     "name": "stdout",
     "output_type": "stream",
     "text": [
      "[15, 35, 80]\n",
      "[]\n"
     ]
    }
   ],
   "source": [
    "it = read_visits('my_numbers.txt')\n",
    "print(list(it))\n",
    "print(list(it))  # Already exhausted"
   ]
  },
  {
   "cell_type": "code",
   "execution_count": 8,
   "metadata": {},
   "outputs": [],
   "source": [
    "def normalize_copy(numbers):\n",
    "    numbers_copy = list(numbers)  # Copy the iterator\n",
    "    total = sum(numbers_copy)\n",
    "    result = []\n",
    "    for value in numbers_copy:\n",
    "        percent = 100 * value / total\n",
    "        result.append(percent)\n",
    "    return result\n"
   ]
  },
  {
   "cell_type": "code",
   "execution_count": 9,
   "metadata": {},
   "outputs": [
    {
     "name": "stdout",
     "output_type": "stream",
     "text": [
      "[11.538461538461538, 26.923076923076923, 61.53846153846154]\n"
     ]
    }
   ],
   "source": [
    "it = read_visits('my_numbers.txt')\n",
    "percentages = normalize_copy(it)\n",
    "print(percentages)\n",
    "assert sum(percentages) == 100.0"
   ]
  },
  {
   "cell_type": "code",
   "execution_count": 10,
   "metadata": {},
   "outputs": [],
   "source": [
    "def normalize_func(get_iter):\n",
    "    total = sum(get_iter())   # New iterator\n",
    "    result = []\n",
    "    for value in get_iter():  # New iterator\n",
    "        percent = 100 * value / total\n",
    "        result.append(percent)\n",
    "    return result"
   ]
  },
  {
   "cell_type": "code",
   "execution_count": 11,
   "metadata": {},
   "outputs": [
    {
     "name": "stdout",
     "output_type": "stream",
     "text": [
      "[11.538461538461538, 26.923076923076923, 61.53846153846154]\n"
     ]
    }
   ],
   "source": [
    "path = 'my_numbers.txt'\n",
    "percentages = normalize_func(lambda: read_visits(path))\n",
    "print(percentages)\n",
    "assert sum(percentages) == 100.0"
   ]
  },
  {
   "cell_type": "code",
   "execution_count": 12,
   "metadata": {},
   "outputs": [],
   "source": [
    "class ReadVisits:\n",
    "    def __init__(self, data_path):\n",
    "        self.data_path = data_path\n",
    "\n",
    "    def __iter__(self):\n",
    "        with open(self.data_path) as f:\n",
    "            for line in f:\n",
    "                yield int(line)"
   ]
  },
  {
   "cell_type": "code",
   "execution_count": 13,
   "metadata": {},
   "outputs": [
    {
     "name": "stdout",
     "output_type": "stream",
     "text": [
      "[11.538461538461538, 26.923076923076923, 61.53846153846154]\n"
     ]
    }
   ],
   "source": [
    "visits = ReadVisits(path)\n",
    "percentages = normalize(visits)\n",
    "print(percentages)\n",
    "assert sum(percentages) == 100.0"
   ]
  },
  {
   "cell_type": "code",
   "execution_count": 14,
   "metadata": {},
   "outputs": [],
   "source": [
    "def normalize_defensive(numbers):\n",
    "    if iter(numbers) is numbers:  # An iterator -- bad!\n",
    "        raise TypeError('Must supply a container')\n",
    "    total = sum(numbers)\n",
    "    result = []\n",
    "    for value in numbers:\n",
    "        percent = 100 * value / total\n",
    "        result.append(percent)\n",
    "    return result"
   ]
  },
  {
   "cell_type": "code",
   "execution_count": 15,
   "metadata": {},
   "outputs": [
    {
     "data": {
      "text/plain": [
       "[11.538461538461538, 26.923076923076923, 61.53846153846154]"
      ]
     },
     "execution_count": 15,
     "metadata": {},
     "output_type": "execute_result"
    }
   ],
   "source": [
    "visits = [15, 35, 80]\n",
    "normalize_defensive(visits)"
   ]
  },
  {
   "cell_type": "code",
   "execution_count": 16,
   "metadata": {},
   "outputs": [],
   "source": [
    "it = iter(visits)\n",
    "try:\n",
    "    normalize_defensive(it)\n",
    "except TypeError:\n",
    "    pass\n",
    "else:\n",
    "    assert False"
   ]
  },
  {
   "cell_type": "code",
   "execution_count": 17,
   "metadata": {},
   "outputs": [],
   "source": [
    "from collections.abc import Iterator \n",
    "\n",
    "def normalize_defensive(numbers):\n",
    "    if isinstance(numbers, Iterator):  # Another way to check\n",
    "        raise TypeError('Must supply a container')\n",
    "    total = sum(numbers)\n",
    "    result = []\n",
    "    for value in numbers:\n",
    "        percent = 100 * value / total\n",
    "        result.append(percent)\n",
    "    return result"
   ]
  },
  {
   "cell_type": "code",
   "execution_count": 18,
   "metadata": {},
   "outputs": [
    {
     "data": {
      "text/plain": [
       "[11.538461538461538, 26.923076923076923, 61.53846153846154]"
      ]
     },
     "execution_count": 18,
     "metadata": {},
     "output_type": "execute_result"
    }
   ],
   "source": [
    "visits = [15, 35, 80]\n",
    "normalize_defensive(visits)"
   ]
  },
  {
   "cell_type": "code",
   "execution_count": 19,
   "metadata": {},
   "outputs": [],
   "source": [
    "it = iter(visits)\n",
    "try:\n",
    "    normalize_defensive(it)\n",
    "except TypeError:\n",
    "    pass\n",
    "else:\n",
    "    assert False"
   ]
  },
  {
   "cell_type": "code",
   "execution_count": 20,
   "metadata": {},
   "outputs": [],
   "source": [
    "visits = [15, 35, 80]\n",
    "percentages = normalize_defensive(visits)\n",
    "assert sum(percentages) == 100.0\n",
    "\n",
    "visits = ReadVisits(path)\n",
    "percentages = normalize_defensive(visits)\n",
    "assert sum(percentages) == 100.0"
   ]
  },
  {
   "cell_type": "code",
   "execution_count": 21,
   "metadata": {},
   "outputs": [
    {
     "name": "stderr",
     "output_type": "stream",
     "text": [
      "ERROR:root:Expected\n",
      "Traceback (most recent call last):\n",
      "  File \"<ipython-input-21-6fa8007bd17c>\", line 4, in <module>\n",
      "    normalize_defensive(it)\n",
      "  File \"<ipython-input-17-528b25b2a0f1>\", line 5, in normalize_defensive\n",
      "    raise TypeError('Must supply a container')\n",
      "TypeError: Must supply a container\n"
     ]
    }
   ],
   "source": [
    "try:\n",
    "    visits = [15, 35, 80]\n",
    "    it = iter(visits)\n",
    "    normalize_defensive(it)\n",
    "except:\n",
    "    logging.exception('Expected')\n",
    "else:\n",
    "    assert False"
   ]
  },
  {
   "cell_type": "markdown",
   "metadata": {},
   "source": [
    "> - 입력 인자를 여러 번 이터레이션하는 함수나 메서드를 조심하라. 입력받은 인자가 이터레이터면 함수가 이상하게 작동하거나 결과가 없을 수 있다.\n",
    "> - 파이썬의 이터레이터 프로토콜은 컨테이너와 이터레이터가 `iter`, `next` 내장 함수나 `for` 루프 등의 관련 식과 상호작용하는 절차를 정의한다.\n",
    "> - `__iter__` 메서드를 제너레이터로 정의하면 쉽게 이터러블 컨테이너 타입을 정의할 수 있다.\n",
    "> - 어떤 값이 (컨테이너가 아닌) 이터레이터인지 감지하려면, 이 값을 `iter` 내장 함수에 넘겨서 반환되는 값이 원래 값과 같은지 확인하면 된다. 다른 방법으로 `collections.abc.Iterator` 클래스를 `isinstance`와 함께 사용할 수도 있다."
   ]
  },
  {
   "cell_type": "code",
   "execution_count": null,
   "metadata": {},
   "outputs": [],
   "source": []
  }
 ],
 "metadata": {
  "kernelspec": {
   "display_name": "Python 3",
   "language": "python",
   "name": "python3"
  },
  "language_info": {
   "codemirror_mode": {
    "name": "ipython",
    "version": 3
   },
   "file_extension": ".py",
   "mimetype": "text/x-python",
   "name": "python",
   "nbconvert_exporter": "python",
   "pygments_lexer": "ipython3",
   "version": "3.8.7"
  }
 },
 "nbformat": 4,
 "nbformat_minor": 5
}
