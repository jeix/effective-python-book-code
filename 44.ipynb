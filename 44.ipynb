{
 "cells": [
  {
   "cell_type": "markdown",
   "metadata": {},
   "source": [
    "## 6. Metaclasses and Attributes"
   ]
  },
  {
   "cell_type": "markdown",
   "metadata": {},
   "source": [
    "### 44 Use Plain Attributes Instead of Setter and Getter Methods"
   ]
  },
  {
   "cell_type": "code",
   "execution_count": 1,
   "metadata": {},
   "outputs": [],
   "source": [
    "import logging"
   ]
  },
  {
   "cell_type": "code",
   "execution_count": 2,
   "metadata": {},
   "outputs": [
    {
     "name": "stdout",
     "output_type": "stream",
     "text": [
      "Before: 50000.0\n",
      "After:  10000.0\n"
     ]
    }
   ],
   "source": [
    "class OldResistor:\n",
    "    def __init__(self, ohms):\n",
    "        self._ohms = ohms\n",
    "\n",
    "    def get_ohms(self):\n",
    "        return self._ohms\n",
    "\n",
    "    def set_ohms(self, ohms):\n",
    "        self._ohms = ohms\n",
    "\n",
    "r0 = OldResistor(50e3)\n",
    "print('Before:', r0.get_ohms())\n",
    "r0.set_ohms(10e3)\n",
    "print('After: ', r0.get_ohms())\n",
    "\n",
    "r0.set_ohms(r0.get_ohms() - 4e3)\n",
    "assert r0.get_ohms() == 6e3"
   ]
  },
  {
   "cell_type": "code",
   "execution_count": 3,
   "metadata": {},
   "outputs": [
    {
     "name": "stdout",
     "output_type": "stream",
     "text": [
      "10000.0 ohms, 0 volts, 0 amps\n"
     ]
    }
   ],
   "source": [
    "class Resistor:\n",
    "    def __init__(self, ohms):\n",
    "        self.ohms = ohms\n",
    "        self.voltage = 0\n",
    "        self.current = 0\n",
    "\n",
    "r1 = Resistor(50e3)\n",
    "r1.ohms = 10e3\n",
    "print(f'{r1.ohms} ohms, '\n",
    "      f'{r1.voltage} volts, '\n",
    "      f'{r1.current} amps')\n",
    "\n",
    "r1.ohms += 5e3\n",
    "assert r1.ohms == 15e3"
   ]
  },
  {
   "cell_type": "code",
   "execution_count": 4,
   "metadata": {},
   "outputs": [
    {
     "name": "stdout",
     "output_type": "stream",
     "text": [
      "Before: 0.00 amps\n",
      "After:  0.01 amps\n"
     ]
    }
   ],
   "source": [
    "class VoltageResistance(Resistor):\n",
    "    def __init__(self, ohms):\n",
    "        super().__init__(ohms)\n",
    "        self._voltage = 0\n",
    "\n",
    "    @property\n",
    "    def voltage(self):\n",
    "        return self._voltage\n",
    "\n",
    "    @voltage.setter\n",
    "    def voltage(self, voltage):\n",
    "        self._voltage = voltage\n",
    "        self.current = self._voltage / self.ohms\n",
    "\n",
    "r2 = VoltageResistance(1e3)\n",
    "print(f'Before: {r2.current:.2f} amps')\n",
    "r2.voltage = 10\n",
    "print(f'After:  {r2.current:.2f} amps')"
   ]
  },
  {
   "cell_type": "code",
   "execution_count": 5,
   "metadata": {},
   "outputs": [],
   "source": [
    "class BoundedResistance(Resistor):\n",
    "    def __init__(self, ohms):\n",
    "        super().__init__(ohms)\n",
    "\n",
    "    @property\n",
    "    def ohms(self):\n",
    "        return self._ohms\n",
    "\n",
    "    @ohms.setter\n",
    "    def ohms(self, ohms):\n",
    "        if ohms <= 0:\n",
    "            raise ValueError(f'ohms must be > 0; got {ohms}')\n",
    "        self._ohms = ohms"
   ]
  },
  {
   "cell_type": "code",
   "execution_count": 6,
   "metadata": {},
   "outputs": [
    {
     "name": "stderr",
     "output_type": "stream",
     "text": [
      "ERROR:root:Expected\n",
      "Traceback (most recent call last):\n",
      "  File \"<ipython-input-6-500ef67ee041>\", line 3, in <module>\n",
      "    r3.ohms = 0\n",
      "  File \"<ipython-input-5-71975c648873>\", line 12, in ohms\n",
      "    raise ValueError(f'ohms must be > 0; got {ohms}')\n",
      "ValueError: ohms must be > 0; got 0\n"
     ]
    }
   ],
   "source": [
    "try:\n",
    "    r3 = BoundedResistance(1e3)\n",
    "    r3.ohms = 0\n",
    "except:\n",
    "    logging.exception('Expected')\n",
    "else:\n",
    "    assert False"
   ]
  },
  {
   "cell_type": "code",
   "execution_count": 7,
   "metadata": {},
   "outputs": [
    {
     "name": "stderr",
     "output_type": "stream",
     "text": [
      "ERROR:root:Expected\n",
      "Traceback (most recent call last):\n",
      "  File \"<ipython-input-7-693d2cd5f3c8>\", line 2, in <module>\n",
      "    BoundedResistance(-5)\n",
      "  File \"<ipython-input-5-71975c648873>\", line 3, in __init__\n",
      "    super().__init__(ohms)\n",
      "  File \"<ipython-input-3-dba1cbccceda>\", line 3, in __init__\n",
      "    self.ohms = ohms\n",
      "  File \"<ipython-input-5-71975c648873>\", line 12, in ohms\n",
      "    raise ValueError(f'ohms must be > 0; got {ohms}')\n",
      "ValueError: ohms must be > 0; got -5\n"
     ]
    }
   ],
   "source": [
    "try:\n",
    "    BoundedResistance(-5)\n",
    "except:\n",
    "    logging.exception('Expected')\n",
    "else:\n",
    "    assert False"
   ]
  },
  {
   "cell_type": "code",
   "execution_count": 8,
   "metadata": {},
   "outputs": [
    {
     "name": "stderr",
     "output_type": "stream",
     "text": [
      "ERROR:root:Expected\n",
      "Traceback (most recent call last):\n",
      "  File \"<ipython-input-8-7dc329b93c33>\", line 17, in <module>\n",
      "    r4.ohms = 2e3\n",
      "  File \"<ipython-input-8-7dc329b93c33>\", line 12, in ohms\n",
      "    raise AttributeError(\"Ohms is immutable\")\n",
      "AttributeError: Ohms is immutable\n"
     ]
    }
   ],
   "source": [
    "class FixedResistance(Resistor):\n",
    "    def __init__(self, ohms):\n",
    "        super().__init__(ohms)\n",
    "\n",
    "    @property\n",
    "    def ohms(self):\n",
    "        return self._ohms\n",
    "\n",
    "    @ohms.setter\n",
    "    def ohms(self, ohms):\n",
    "        if hasattr(self, '_ohms'):\n",
    "            raise AttributeError(\"Ohms is immutable\")\n",
    "        self._ohms = ohms\n",
    "\n",
    "try:\n",
    "    r4 = FixedResistance(1e3)\n",
    "    r4.ohms = 2e3\n",
    "except:\n",
    "    logging.exception('Expected')\n",
    "else:\n",
    "    assert False"
   ]
  },
  {
   "cell_type": "code",
   "execution_count": 9,
   "metadata": {},
   "outputs": [
    {
     "name": "stdout",
     "output_type": "stream",
     "text": [
      "Before: 0.00\n",
      "After:  0.10\n"
     ]
    }
   ],
   "source": [
    "class MysteriousResistor(Resistor):\n",
    "    @property\n",
    "    def ohms(self):\n",
    "        self.voltage = self._ohms * self.current\n",
    "        return self._ohms\n",
    "\n",
    "    @ohms.setter\n",
    "    def ohms(self, ohms):\n",
    "        self._ohms = ohms\n",
    "\n",
    "r7 = MysteriousResistor(10)\n",
    "r7.current = 0.01\n",
    "print(f'Before: {r7.voltage:.2f}')\n",
    "r7.ohms\n",
    "print(f'After:  {r7.voltage:.2f}')"
   ]
  },
  {
   "cell_type": "markdown",
   "metadata": {},
   "source": [
    "> - 새로운 클래스 인터페이스를 정의할 때는 간단하게 공개 애트리뷰트에서 시작하고, 세터나 게터 메서드를 가급적 사용하지 않는다.\n",
    "> - 객체에 있는 애트리뷰트에 접근할 때 특별한 동작이 필요하면 `@property`로 이를 구현할 수 있다.\n",
    "> - `@property` 메서드를 만들 때는 최소 놀람의 법칙을 따르고 이상한 부작용을 만들어내지 말라.\n",
    "> - `@property` 메서드가 빠르게 실행되도록 유지하라. 느리거나 복잡한 작업의 경우(특히 I/O를 수행하는 등의 부수 효과가 있는 경우)에는 프로퍼티 대신 일반적인 메서드를 사용하라."
   ]
  },
  {
   "cell_type": "code",
   "execution_count": null,
   "metadata": {},
   "outputs": [],
   "source": []
  }
 ],
 "metadata": {
  "kernelspec": {
   "display_name": "Python 3",
   "language": "python",
   "name": "python3"
  },
  "language_info": {
   "codemirror_mode": {
    "name": "ipython",
    "version": 3
   },
   "file_extension": ".py",
   "mimetype": "text/x-python",
   "name": "python",
   "nbconvert_exporter": "python",
   "pygments_lexer": "ipython3",
   "version": "3.8.7"
  }
 },
 "nbformat": 4,
 "nbformat_minor": 5
}
