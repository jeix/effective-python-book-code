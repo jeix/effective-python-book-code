{
 "cells": [
  {
   "cell_type": "markdown",
   "metadata": {},
   "source": [
    "## 8. Robustness and Performance"
   ]
  },
  {
   "cell_type": "markdown",
   "metadata": {},
   "source": [
    "### 72 Consider Searching Sorted Sequences with `bisect`"
   ]
  },
  {
   "cell_type": "code",
   "execution_count": 1,
   "metadata": {},
   "outputs": [],
   "source": [
    "data = list(range(10**5))\n",
    "index = data.index(91234)\n",
    "assert index == 91234"
   ]
  },
  {
   "cell_type": "code",
   "execution_count": 2,
   "metadata": {},
   "outputs": [],
   "source": [
    "def find_closest(sequence, goal):\n",
    "    for index, value in enumerate(sequence):\n",
    "        if goal < value:\n",
    "            return index\n",
    "    raise ValueError(f'{goal} is out of bounds')"
   ]
  },
  {
   "cell_type": "code",
   "execution_count": 3,
   "metadata": {},
   "outputs": [],
   "source": [
    "index = find_closest(data, 91234.56)\n",
    "assert index == 91235"
   ]
  },
  {
   "cell_type": "code",
   "execution_count": 4,
   "metadata": {},
   "outputs": [],
   "source": [
    "try:\n",
    "    find_closest(data, 100000000)\n",
    "except ValueError:\n",
    "    pass  # Expected\n",
    "else:\n",
    "    assert False"
   ]
  },
  {
   "cell_type": "code",
   "execution_count": 5,
   "metadata": {},
   "outputs": [],
   "source": [
    "from bisect import bisect_left"
   ]
  },
  {
   "cell_type": "code",
   "execution_count": 6,
   "metadata": {},
   "outputs": [],
   "source": [
    "index = bisect_left(data, 91234)     # Exact match\n",
    "assert index == 91234\n",
    "\n",
    "index = bisect_left(data, 91234.56)  # Closest match\n",
    "assert index == 91235"
   ]
  },
  {
   "cell_type": "code",
   "execution_count": 7,
   "metadata": {},
   "outputs": [],
   "source": [
    "import random"
   ]
  },
  {
   "cell_type": "code",
   "execution_count": 8,
   "metadata": {},
   "outputs": [],
   "source": [
    "import timeit"
   ]
  },
  {
   "cell_type": "code",
   "execution_count": 9,
   "metadata": {},
   "outputs": [],
   "source": [
    "size = 10**5\n",
    "iterations = 1000\n",
    "\n",
    "data = list(range(size))\n",
    "to_lookup = [random.randint(0, size)\n",
    "             for _ in range(iterations)]"
   ]
  },
  {
   "cell_type": "code",
   "execution_count": 10,
   "metadata": {},
   "outputs": [],
   "source": [
    "def run_linear(data, to_lookup):\n",
    "    for index in to_lookup:\n",
    "        data.index(index)\n",
    "\n",
    "def run_bisect(data, to_lookup):\n",
    "    for index in to_lookup:\n",
    "        bisect_left(data, index)"
   ]
  },
  {
   "cell_type": "code",
   "execution_count": 11,
   "metadata": {},
   "outputs": [
    {
     "name": "stdout",
     "output_type": "stream",
     "text": [
      "Linear search takes 7.155163s\n",
      "Bisect search takes 0.006069s\n",
      "1179.1x time\n"
     ]
    }
   ],
   "source": [
    "baseline = timeit.timeit(\n",
    "    stmt='run_linear(data, to_lookup)',\n",
    "    globals=globals(),\n",
    "    number=10)\n",
    "print(f'Linear search takes {baseline:.6f}s')\n",
    "\n",
    "comparison = timeit.timeit(\n",
    "    stmt='run_bisect(data, to_lookup)',\n",
    "    globals=globals(),\n",
    "    number=10)\n",
    "print(f'Bisect search takes {comparison:.6f}s')\n",
    "\n",
    "slowdown = 1 + ((baseline - comparison) / comparison)\n",
    "print(f'{slowdown:.1f}x time')"
   ]
  },
  {
   "cell_type": "markdown",
   "metadata": {},
   "source": [
    "> - 리스트에 들어 있는 정렬된 데이터를 검색할 때 `index` 메서드를 사용하거나 `for` 루프와 맹목적인 비교를 사용하면 선형 시간이 걸린다.\n",
    "> - `bisect` 내장 모듈의 `bisect_left` 함수는 정렬된 리스트에서 원하는 값을 찾는 데 로그 시간이 걸린다. 따라서 다른 접근 방법보다 훨씬 빠르다."
   ]
  },
  {
   "cell_type": "code",
   "execution_count": null,
   "metadata": {},
   "outputs": [],
   "source": []
  }
 ],
 "metadata": {
  "kernelspec": {
   "display_name": "Python 3",
   "language": "python",
   "name": "python3"
  },
  "language_info": {
   "codemirror_mode": {
    "name": "ipython",
    "version": 3
   },
   "file_extension": ".py",
   "mimetype": "text/x-python",
   "name": "python",
   "nbconvert_exporter": "python",
   "pygments_lexer": "ipython3",
   "version": "3.8.7"
  }
 },
 "nbformat": 4,
 "nbformat_minor": 5
}
