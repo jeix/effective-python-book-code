{
 "cells": [
  {
   "cell_type": "markdown",
   "metadata": {},
   "source": [
    "## 8. Robustness and Performance"
   ]
  },
  {
   "cell_type": "markdown",
   "metadata": {},
   "source": [
    "### 71 Prefer `deque` for Producer–Consumer Queues"
   ]
  },
  {
   "cell_type": "code",
   "execution_count": 1,
   "metadata": {},
   "outputs": [],
   "source": [
    "class Email:\n",
    "    def __init__(self, sender, receiver, message):\n",
    "        self.sender = sender\n",
    "        self.receiver = receiver\n",
    "        self.message = message"
   ]
  },
  {
   "cell_type": "code",
   "execution_count": 2,
   "metadata": {},
   "outputs": [],
   "source": [
    "def get_emails():\n",
    "    yield Email('foo@example.com', 'bar@example.com', 'hello1')\n",
    "    yield Email('baz@example.com', 'banana@example.com', 'hello2')\n",
    "    yield None\n",
    "    yield Email('meep@example.com', 'butter@example.com', 'hello3')\n",
    "    yield Email('stuff@example.com', 'avocado@example.com', 'hello4')\n",
    "    yield None\n",
    "    yield Email('thingy@example.com', 'orange@example.com', 'hello5')\n",
    "    yield Email('roger@example.com', 'bob@example.com', 'hello6')\n",
    "    yield None\n",
    "    yield Email('peanut@example.com', 'alice@example.com', 'hello7')\n",
    "    yield None"
   ]
  },
  {
   "cell_type": "code",
   "execution_count": 3,
   "metadata": {},
   "outputs": [],
   "source": [
    "EMAIL_IT = get_emails()"
   ]
  },
  {
   "cell_type": "code",
   "execution_count": 4,
   "metadata": {},
   "outputs": [],
   "source": [
    "class NoEmailError(Exception):\n",
    "    pass"
   ]
  },
  {
   "cell_type": "code",
   "execution_count": 5,
   "metadata": {},
   "outputs": [],
   "source": [
    "def try_receive_email():\n",
    "    # Returns an Email instance or raises NoEmailError\n",
    "    try:\n",
    "        email = next(EMAIL_IT)\n",
    "    except StopIteration:\n",
    "        email = None\n",
    "\n",
    "    if not email:\n",
    "        raise NoEmailError\n",
    "\n",
    "    print(f'Produced email: {email.message}')\n",
    "    return email"
   ]
  },
  {
   "cell_type": "code",
   "execution_count": 6,
   "metadata": {},
   "outputs": [],
   "source": [
    "def produce_emails(queue):\n",
    "    while True:\n",
    "        try:\n",
    "            email = try_receive_email()\n",
    "        except NoEmailError:\n",
    "            return\n",
    "        else:\n",
    "            queue.append(email)  # Producer"
   ]
  },
  {
   "cell_type": "code",
   "execution_count": 7,
   "metadata": {},
   "outputs": [],
   "source": [
    "def consume_one_email(queue):\n",
    "    if not queue:\n",
    "        return\n",
    "    email = queue.pop(0)  # Consumer\n",
    "    # Index the message for long-term archival\n",
    "    print(f'Consumed email: {email.message}')"
   ]
  },
  {
   "cell_type": "code",
   "execution_count": 8,
   "metadata": {},
   "outputs": [
    {
     "name": "stdout",
     "output_type": "stream",
     "text": [
      "Produced email: hello1\n",
      "Produced email: hello2\n",
      "Consumed email: hello1\n",
      "Produced email: hello3\n",
      "Produced email: hello4\n",
      "Consumed email: hello2\n",
      "Produced email: hello5\n",
      "Produced email: hello6\n",
      "Consumed email: hello3\n",
      "Produced email: hello7\n",
      "Consumed email: hello4\n",
      "Consumed email: hello5\n",
      "Consumed email: hello6\n",
      "Consumed email: hello7\n"
     ]
    }
   ],
   "source": [
    "def loop(queue, keep_running):\n",
    "    while keep_running():\n",
    "        produce_emails(queue)\n",
    "        consume_one_email(queue)\n",
    "\n",
    "def make_test_end():\n",
    "    count=list(range(10))\n",
    "\n",
    "    def func():\n",
    "        if count:\n",
    "            count.pop()\n",
    "            return True\n",
    "        return False\n",
    "\n",
    "    return func\n",
    "\n",
    "\n",
    "def my_end_func():\n",
    "    pass\n",
    "\n",
    "my_end_func = make_test_end()\n",
    "\n",
    "loop([], my_end_func)"
   ]
  },
  {
   "cell_type": "code",
   "execution_count": 9,
   "metadata": {},
   "outputs": [],
   "source": [
    "import timeit"
   ]
  },
  {
   "cell_type": "code",
   "execution_count": 10,
   "metadata": {},
   "outputs": [],
   "source": [
    "def print_results(count, tests):\n",
    "    avg_iteration = sum(tests) / len(tests)\n",
    "    print(f'Count {count:>5,} takes {avg_iteration:.6f}s')\n",
    "    return count, avg_iteration"
   ]
  },
  {
   "cell_type": "code",
   "execution_count": 11,
   "metadata": {},
   "outputs": [],
   "source": [
    "def list_append_benchmark(count):\n",
    "    def run(queue):\n",
    "        for i in range(count):\n",
    "            queue.append(i)\n",
    "\n",
    "    tests = timeit.repeat(\n",
    "        setup='queue = []',\n",
    "        stmt='run(queue)',\n",
    "        globals=locals(),\n",
    "        repeat=1000,\n",
    "        number=1)\n",
    "\n",
    "    return print_results(count, tests)"
   ]
  },
  {
   "cell_type": "code",
   "execution_count": 12,
   "metadata": {},
   "outputs": [],
   "source": [
    "def print_delta(before, after):\n",
    "    before_count, before_time = before\n",
    "    after_count, after_time = after\n",
    "    growth = 1 + (after_count - before_count) / before_count\n",
    "    slowdown = 1 + (after_time - before_time) / before_time\n",
    "    print(f'{growth:>4.1f}x data size, {slowdown:>4.1f}x time')"
   ]
  },
  {
   "cell_type": "code",
   "execution_count": 13,
   "metadata": {},
   "outputs": [
    {
     "name": "stdout",
     "output_type": "stream",
     "text": [
      "Count   500 takes 0.000033s\n",
      "\n",
      "Count 1,000 takes 0.000062s\n",
      " 2.0x data size,  1.9x time\n",
      "\n",
      "Count 2,000 takes 0.000124s\n",
      " 4.0x data size,  3.7x time\n",
      "\n",
      "Count 3,000 takes 0.000180s\n",
      " 6.0x data size,  5.4x time\n",
      "\n",
      "Count 4,000 takes 0.000243s\n",
      " 8.0x data size,  7.3x time\n",
      "\n",
      "Count 5,000 takes 0.000300s\n",
      "10.0x data size,  9.0x time\n"
     ]
    }
   ],
   "source": [
    "baseline = list_append_benchmark(500)\n",
    "for count in (1_000, 2_000, 3_000, 4_000, 5_000):\n",
    "    print()\n",
    "    comparison = list_append_benchmark(count)\n",
    "    print_delta(baseline, comparison)"
   ]
  },
  {
   "cell_type": "code",
   "execution_count": 14,
   "metadata": {},
   "outputs": [],
   "source": [
    "def list_pop_benchmark(count):\n",
    "    def prepare():\n",
    "        return list(range(count))\n",
    "\n",
    "    def run(queue):\n",
    "        while queue:\n",
    "            queue.pop(0)\n",
    "\n",
    "    tests = timeit.repeat(\n",
    "        setup='queue = prepare()',\n",
    "        stmt='run(queue)',\n",
    "        globals=locals(),\n",
    "        repeat=1000,\n",
    "        number=1)\n",
    "\n",
    "    return print_results(count, tests)"
   ]
  },
  {
   "cell_type": "code",
   "execution_count": 15,
   "metadata": {},
   "outputs": [
    {
     "name": "stdout",
     "output_type": "stream",
     "text": [
      "Count   500 takes 0.000083s\n",
      "\n",
      "Count 1,000 takes 0.000220s\n",
      " 2.0x data size,  2.7x time\n",
      "\n",
      "Count 2,000 takes 0.000636s\n",
      " 4.0x data size,  7.7x time\n",
      "\n",
      "Count 3,000 takes 0.001258s\n",
      " 6.0x data size, 15.2x time\n",
      "\n",
      "Count 4,000 takes 0.002165s\n",
      " 8.0x data size, 26.2x time\n",
      "\n",
      "Count 5,000 takes 0.003615s\n",
      "10.0x data size, 43.7x time\n"
     ]
    }
   ],
   "source": [
    "baseline = list_pop_benchmark(500)\n",
    "for count in (1_000, 2_000, 3_000, 4_000, 5_000):\n",
    "    print()\n",
    "    comparison = list_pop_benchmark(count)\n",
    "    print_delta(baseline, comparison)"
   ]
  },
  {
   "cell_type": "code",
   "execution_count": 16,
   "metadata": {},
   "outputs": [],
   "source": [
    "import collections"
   ]
  },
  {
   "cell_type": "code",
   "execution_count": 17,
   "metadata": {},
   "outputs": [],
   "source": [
    "def consume_one_email(queue):\n",
    "    if not queue:\n",
    "        return\n",
    "    email = queue.popleft()  # Consumer\n",
    "    # Process the email message\n",
    "    print(f'Consumed email: {email.message}')"
   ]
  },
  {
   "cell_type": "code",
   "execution_count": 18,
   "metadata": {},
   "outputs": [
    {
     "name": "stdout",
     "output_type": "stream",
     "text": [
      "Produced email: hello1\n",
      "Produced email: hello2\n",
      "Consumed email: hello1\n",
      "Produced email: hello3\n",
      "Produced email: hello4\n",
      "Consumed email: hello2\n",
      "Produced email: hello5\n",
      "Produced email: hello6\n",
      "Consumed email: hello3\n",
      "Produced email: hello7\n",
      "Consumed email: hello4\n",
      "Consumed email: hello5\n",
      "Consumed email: hello6\n",
      "Consumed email: hello7\n"
     ]
    }
   ],
   "source": [
    "def my_end_func():\n",
    "    pass\n",
    "\n",
    "my_end_func = make_test_end()\n",
    "\n",
    "EMAIL_IT = get_emails()\n",
    "\n",
    "loop(collections.deque(), my_end_func)"
   ]
  },
  {
   "cell_type": "code",
   "execution_count": 19,
   "metadata": {},
   "outputs": [],
   "source": [
    "def deque_append_benchmark(count):\n",
    "    def prepare():\n",
    "        return collections.deque()\n",
    "\n",
    "    def run(queue):\n",
    "        for i in range(count):\n",
    "            queue.append(i)\n",
    "\n",
    "    tests = timeit.repeat(\n",
    "        setup='queue = prepare()',\n",
    "        stmt='run(queue)',\n",
    "        globals=locals(),\n",
    "        repeat=1000,\n",
    "        number=1)\n",
    "    \n",
    "    return print_results(count, tests)"
   ]
  },
  {
   "cell_type": "code",
   "execution_count": 20,
   "metadata": {},
   "outputs": [
    {
     "name": "stdout",
     "output_type": "stream",
     "text": [
      "Count   500 takes 0.000034s\n",
      "\n",
      "Count 1,000 takes 0.000063s\n",
      " 2.0x data size,  1.9x time\n",
      "\n",
      "Count 2,000 takes 0.000126s\n",
      " 4.0x data size,  3.7x time\n",
      "\n",
      "Count 3,000 takes 0.000187s\n",
      " 6.0x data size,  5.5x time\n",
      "\n",
      "Count 4,000 takes 0.000259s\n",
      " 8.0x data size,  7.6x time\n",
      "\n",
      "Count 5,000 takes 0.000305s\n",
      "10.0x data size,  9.0x time\n"
     ]
    }
   ],
   "source": [
    "baseline = deque_append_benchmark(500)\n",
    "for count in (1_000, 2_000, 3_000, 4_000, 5_000):\n",
    "    print()\n",
    "    comparison = deque_append_benchmark(count)\n",
    "    print_delta(baseline, comparison)"
   ]
  },
  {
   "cell_type": "code",
   "execution_count": 21,
   "metadata": {},
   "outputs": [],
   "source": [
    "def dequeue_popleft_benchmark(count):\n",
    "    def prepare():\n",
    "        return collections.deque(range(count))\n",
    "\n",
    "    def run(queue):\n",
    "        while queue:\n",
    "            queue.popleft()\n",
    "\n",
    "    tests = timeit.repeat(\n",
    "        setup='queue = prepare()',\n",
    "        stmt='run(queue)',\n",
    "        globals=locals(),\n",
    "        repeat=1000,\n",
    "        number=1)\n",
    "\n",
    "    return print_results(count, tests)"
   ]
  },
  {
   "cell_type": "code",
   "execution_count": 22,
   "metadata": {},
   "outputs": [
    {
     "name": "stdout",
     "output_type": "stream",
     "text": [
      "Count   500 takes 0.000028s\n",
      "\n",
      "Count 1,000 takes 0.000054s\n",
      " 2.0x data size,  1.9x time\n",
      "\n",
      "Count 2,000 takes 0.000109s\n",
      " 4.0x data size,  3.8x time\n",
      "\n",
      "Count 3,000 takes 0.000177s\n",
      " 6.0x data size,  6.2x time\n",
      "\n",
      "Count 4,000 takes 0.000229s\n",
      " 8.0x data size,  8.1x time\n",
      "\n",
      "Count 5,000 takes 0.000276s\n",
      "10.0x data size,  9.7x time\n"
     ]
    }
   ],
   "source": [
    "baseline = dequeue_popleft_benchmark(500)\n",
    "for count in (1_000, 2_000, 3_000, 4_000, 5_000):\n",
    "    print()\n",
    "    comparison = dequeue_popleft_benchmark(count)\n",
    "    print_delta(baseline, comparison)"
   ]
  },
  {
   "cell_type": "markdown",
   "metadata": {},
   "source": [
    "> - 생산자는 `append`를 호출해 원소를 추가하고 소비자는 `pop(0)`을 사용해 원소를 받게 만들면 리스트 타입을 FIFO 큐로 사용할 수 있다. 하지만 리스트를 FIFO 큐로 사용하면, 큐 길이가 늘어남에 따라 `pop(0)`의 성능이 선형보다 더 크게 나빠지기 때문에 문제가 될 수 있다.\n",
    "> - `collections` 내장 모듈에 있는 `deque` 클래스는 큐 길이와 관계없이 상수 시간 만에 `append`와 `popleft`를 수행하기 때문에 FIFO 큐 구현에 이상적이다."
   ]
  },
  {
   "cell_type": "code",
   "execution_count": null,
   "metadata": {},
   "outputs": [],
   "source": []
  }
 ],
 "metadata": {
  "kernelspec": {
   "display_name": "Python 3",
   "language": "python",
   "name": "python3"
  },
  "language_info": {
   "codemirror_mode": {
    "name": "ipython",
    "version": 3
   },
   "file_extension": ".py",
   "mimetype": "text/x-python",
   "name": "python",
   "nbconvert_exporter": "python",
   "pygments_lexer": "ipython3",
   "version": "3.8.7"
  }
 },
 "nbformat": 4,
 "nbformat_minor": 4
}
