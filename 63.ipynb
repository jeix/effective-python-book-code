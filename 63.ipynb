{
 "cells": [
  {
   "cell_type": "markdown",
   "metadata": {},
   "source": [
    "## 7. Concurrency and Parallelism"
   ]
  },
  {
   "cell_type": "markdown",
   "metadata": {},
   "source": [
    "### 63 Avoid Blocking the `asyncio` Event Loop to Maximize Responsiveness"
   ]
  },
  {
   "cell_type": "markdown",
   "metadata": {},
   "source": [
    "> cannot run within Jupyter"
   ]
  },
  {
   "cell_type": "code",
   "execution_count": null,
   "metadata": {},
   "outputs": [],
   "source": [
    "import asyncio"
   ]
  },
  {
   "cell_type": "code",
   "execution_count": null,
   "metadata": {},
   "outputs": [],
   "source": [
    "# On Windows, a ProactorEventLoop can't be created within\n",
    "# threads because it tries to register signal handlers. This\n",
    "# is a work-around to always use the SelectorEventLoop policy\n",
    "# instead. See: https://bugs.python.org/issue33792\n",
    "policy = asyncio.get_event_loop_policy()\n",
    "policy._loop_factory = asyncio.SelectorEventLoop"
   ]
  },
  {
   "cell_type": "code",
   "execution_count": null,
   "metadata": {},
   "outputs": [],
   "source": [
    "# from 62\n",
    "\n",
    "async def run_tasks(handles, interval, output_path):\n",
    "    with open(output_path, 'wb') as output:\n",
    "        async def write_async(data):\n",
    "            output.write(data)\n",
    "\n",
    "        tasks = []\n",
    "        for handle in handles:\n",
    "            coro = tail_async(handle, interval, write_async)\n",
    "            task = asyncio.create_task(coro)\n",
    "            tasks.append(task)\n",
    "\n",
    "        await asyncio.gather(*tasks)"
   ]
  },
  {
   "cell_type": "code",
   "execution_count": null,
   "metadata": {},
   "outputs": [],
   "source": [
    "import time"
   ]
  },
  {
   "cell_type": "code",
   "execution_count": null,
   "metadata": {},
   "outputs": [],
   "source": [
    "async def slow_coroutine():\n",
    "    time.sleep(0.5)  # Simulating slow I/O\n",
    "\n",
    "asyncio.run(slow_coroutine(), debug=True)"
   ]
  },
  {
   "cell_type": "code",
   "execution_count": null,
   "metadata": {},
   "outputs": [],
   "source": [
    "from threading import Thread"
   ]
  },
  {
   "cell_type": "code",
   "execution_count": null,
   "metadata": {},
   "outputs": [],
   "source": [
    "class WriteThread(Thread):\n",
    "    def __init__(self, output_path):\n",
    "        super().__init__()\n",
    "        self.output_path = output_path\n",
    "        self.output = None\n",
    "        self.loop = asyncio.new_event_loop()\n",
    "\n",
    "    def run(self):\n",
    "        asyncio.set_event_loop(self.loop)\n",
    "        with open(self.output_path, 'wb') as self.output:\n",
    "            self.loop.run_forever()\n",
    "\n",
    "        # Run one final round of callbacks so the await on\n",
    "        # stop() in another event loop will be resolved.\n",
    "        self.loop.run_until_complete(asyncio.sleep(0))\n",
    "\n",
    "    async def real_write(self, data):\n",
    "        self.output.write(data)\n",
    "\n",
    "    async def write(self, data):\n",
    "        coro = self.real_write(data)\n",
    "        future = asyncio.run_coroutine_threadsafe(\n",
    "            coro, self.loop)\n",
    "        await asyncio.wrap_future(future)\n",
    "\n",
    "    async def real_stop(self):\n",
    "        self.loop.stop()\n",
    "\n",
    "    async def stop(self):\n",
    "        coro = self.real_stop()\n",
    "        future = asyncio.run_coroutine_threadsafe(\n",
    "            coro, self.loop)\n",
    "        await asyncio.wrap_future(future)\n",
    "\n",
    "    async def __aenter__(self):\n",
    "        loop = asyncio.get_event_loop()\n",
    "        await loop.run_in_executor(None, self.start)\n",
    "        return self\n",
    "\n",
    "    async def __aexit__(self, *_):\n",
    "        await self.stop()"
   ]
  },
  {
   "cell_type": "code",
   "execution_count": null,
   "metadata": {},
   "outputs": [],
   "source": [
    "class NoNewData(Exception):\n",
    "    pass"
   ]
  },
  {
   "cell_type": "code",
   "execution_count": null,
   "metadata": {},
   "outputs": [],
   "source": [
    "# from 62\n",
    "\n",
    "def readline(handle):\n",
    "    offset = handle.tell()\n",
    "    handle.seek(0, 2)\n",
    "    length = handle.tell()\n",
    "\n",
    "    if length == offset:\n",
    "        raise NoNewData\n",
    "\n",
    "    handle.seek(offset, 0)\n",
    "    return handle.readline()"
   ]
  },
  {
   "cell_type": "code",
   "execution_count": null,
   "metadata": {},
   "outputs": [],
   "source": [
    "# from 62\n",
    "\n",
    "async def tail_async(handle, interval, write_func):\n",
    "    loop = asyncio.get_event_loop()\n",
    "\n",
    "    while not handle.closed:\n",
    "        try:\n",
    "            line = await loop.run_in_executor(\n",
    "                None, readline, handle)\n",
    "        except NoNewData:\n",
    "            await asyncio.sleep(interval)\n",
    "        else:\n",
    "            await write_func(line)"
   ]
  },
  {
   "cell_type": "code",
   "execution_count": null,
   "metadata": {},
   "outputs": [],
   "source": [
    "async def run_fully_async(handles, interval, output_path):\n",
    "    async with WriteThread(output_path) as output:\n",
    "        tasks = []\n",
    "        for handle in handles:\n",
    "            coro = tail_async(handle, interval, output.write)\n",
    "            task = asyncio.create_task(coro)\n",
    "            tasks.append(task)\n",
    "\n",
    "        await asyncio.gather(*tasks)"
   ]
  },
  {
   "cell_type": "code",
   "execution_count": null,
   "metadata": {},
   "outputs": [],
   "source": [
    "# from 62\n",
    "\n",
    "# This is all code to simulate the writers to the handles\n",
    "import collections\n",
    "import os\n",
    "import random\n",
    "import string\n",
    "from tempfile import TemporaryDirectory\n",
    "\n",
    "def write_random_data(path, write_count, interval):\n",
    "    with open(path, 'wb') as f:\n",
    "        for i in range(write_count):\n",
    "            time.sleep(random.random() * interval)\n",
    "            letters = random.choices(\n",
    "                string.ascii_lowercase, k=10)\n",
    "            data = f'{path}-{i:02}-{\"\".join(letters)}\\n'\n",
    "            f.write(data.encode())\n",
    "            f.flush()\n",
    "\n",
    "def start_write_threads(directory, file_count):\n",
    "    paths = []\n",
    "    for i in range(file_count):\n",
    "        path = os.path.join(directory, str(i))\n",
    "        with open(path, 'w'):\n",
    "            # Make sure the file at this path will exist when\n",
    "            # the reading thread tries to poll it.\n",
    "            pass\n",
    "        paths.append(path)\n",
    "        args = (path, 10, 0.1)\n",
    "        thread = Thread(target=write_random_data, args=args)\n",
    "        thread.start()\n",
    "    return paths\n",
    "\n",
    "def close_all(handles):\n",
    "    time.sleep(1)\n",
    "    for handle in handles:\n",
    "        handle.close()\n",
    "\n",
    "def setup():\n",
    "    tmpdir = TemporaryDirectory()\n",
    "    input_paths = start_write_threads(tmpdir.name, 5)\n",
    "\n",
    "    handles = []\n",
    "    for path in input_paths:\n",
    "        handle = open(path, 'rb')\n",
    "        handles.append(handle)\n",
    "\n",
    "    Thread(target=close_all, args=(handles,)).start()\n",
    "\n",
    "    output_path = os.path.join(tmpdir.name, 'merged')\n",
    "    return tmpdir, input_paths, handles, output_path"
   ]
  },
  {
   "cell_type": "code",
   "execution_count": null,
   "metadata": {},
   "outputs": [],
   "source": [
    "# from 62 (slightly changed)\n",
    "\n",
    "def confirm_merge(input_paths, output_path):\n",
    "    found = collections.defaultdict(list)\n",
    "    with open(output_path, 'rb') as f:\n",
    "        for line in f:\n",
    "            for path in input_paths:\n",
    "                if line.find(path.encode()) == 0:\n",
    "                    found[path].append(line)\n",
    "\n",
    "    expected = collections.defaultdict(list)\n",
    "    for path in input_paths:\n",
    "        with open(path, 'rb') as f:\n",
    "            expected[path].extend(f.readlines())\n",
    "\n",
    "    for key, expected_lines in expected.items():\n",
    "        found_lines = found[key]\n",
    "        assert expected_lines == found_lines"
   ]
  },
  {
   "cell_type": "code",
   "execution_count": null,
   "metadata": {},
   "outputs": [],
   "source": [
    "tmpdir, input_paths, handles, output_path = setup()\n",
    "\n",
    "asyncio.run(run_fully_async(handles, 0.1, output_path))\n",
    "\n",
    "confirm_merge(input_paths, output_path)\n",
    "\n",
    "tmpdir.cleanup()"
   ]
  },
  {
   "cell_type": "markdown",
   "metadata": {},
   "source": [
    "> - 시스템 콜(블로킹 I/O와 스레드 시작도 포함해)을 코루틴으로 만들면 프로그램의 응답성이 좋아지고 사용자가 느끼는 지연 시간을 줄일 수 있다.\n",
    "> - `debug-True` 파라미터를 `asyncio.run`에 넘기면 이벤트 루프가 빨리 반응하지 못하게 방해하는 코루틴을 식별할 수 있다."
   ]
  }
 ],
 "metadata": {
  "kernelspec": {
   "display_name": "Python 3",
   "language": "python",
   "name": "python3"
  },
  "language_info": {
   "codemirror_mode": {
    "name": "ipython",
    "version": 3
   },
   "file_extension": ".py",
   "mimetype": "text/x-python",
   "name": "python",
   "nbconvert_exporter": "python",
   "pygments_lexer": "ipython3",
   "version": "3.8.7"
  }
 },
 "nbformat": 4,
 "nbformat_minor": 4
}
