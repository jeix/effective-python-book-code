{
 "cells": [
  {
   "cell_type": "markdown",
   "metadata": {},
   "source": [
    "## 9. Testing and Debugging"
   ]
  },
  {
   "cell_type": "markdown",
   "metadata": {},
   "source": [
    "### 79 Encapsulate Dependencies to Facilitate Mocking and Testing"
   ]
  },
  {
   "cell_type": "code",
   "execution_count": 1,
   "metadata": {},
   "outputs": [],
   "source": [
    "import logging"
   ]
  },
  {
   "cell_type": "code",
   "execution_count": 2,
   "metadata": {},
   "outputs": [],
   "source": [
    "class ZooDatabase:\n",
    "\n",
    "    def get_animals(self, species):\n",
    "        pass\n",
    "\n",
    "    def get_food_period(self, species):\n",
    "        pass\n",
    "\n",
    "    def feed_animal(self, name, when):\n",
    "        pass"
   ]
  },
  {
   "cell_type": "code",
   "execution_count": 3,
   "metadata": {},
   "outputs": [],
   "source": [
    "from datetime import datetime"
   ]
  },
  {
   "cell_type": "code",
   "execution_count": 4,
   "metadata": {},
   "outputs": [],
   "source": [
    "def do_rounds(database, species, *, utcnow=datetime.utcnow):\n",
    "    now = utcnow()\n",
    "    feeding_timedelta = database.get_food_period(species)\n",
    "    animals = database.get_animals(species)\n",
    "    fed = 0\n",
    "\n",
    "    for name, last_mealtime in animals:\n",
    "        if (now - last_mealtime) >= feeding_timedelta:\n",
    "            database.feed_animal(name, now)\n",
    "            fed += 1\n",
    "\n",
    "    return fed"
   ]
  },
  {
   "cell_type": "code",
   "execution_count": 5,
   "metadata": {},
   "outputs": [],
   "source": [
    "from unittest.mock import Mock"
   ]
  },
  {
   "cell_type": "code",
   "execution_count": 6,
   "metadata": {},
   "outputs": [
    {
     "name": "stdout",
     "output_type": "stream",
     "text": [
      "<Mock name='mock.feed_animal' id='140002176893328'>\n"
     ]
    }
   ],
   "source": [
    "database = Mock(spec=ZooDatabase)\n",
    "print(database.feed_animal)\n",
    "database.feed_animal()\n",
    "database.feed_animal.assert_any_call()"
   ]
  },
  {
   "cell_type": "code",
   "execution_count": 7,
   "metadata": {},
   "outputs": [],
   "source": [
    "from datetime import timedelta"
   ]
  },
  {
   "cell_type": "code",
   "execution_count": 8,
   "metadata": {},
   "outputs": [],
   "source": [
    "from unittest.mock import call"
   ]
  },
  {
   "cell_type": "code",
   "execution_count": 9,
   "metadata": {},
   "outputs": [],
   "source": [
    "now_func = Mock(spec=datetime.utcnow)\n",
    "now_func.return_value = datetime(2019, 6, 5, 15, 45)\n",
    "\n",
    "database = Mock(spec=ZooDatabase)\n",
    "database.get_food_period.return_value = timedelta(hours=3)\n",
    "database.get_animals.return_value = [\n",
    "    ('Spot', datetime(2019, 6, 5, 11, 15)),\n",
    "    ('Fluffy', datetime(2019, 6, 5, 12, 30)),\n",
    "    ('Jojo', datetime(2019, 6, 5, 12, 55))\n",
    "]"
   ]
  },
  {
   "cell_type": "code",
   "execution_count": 10,
   "metadata": {},
   "outputs": [],
   "source": [
    "result = do_rounds(database, 'Meerkat', utcnow=now_func)\n",
    "assert result == 2"
   ]
  },
  {
   "cell_type": "code",
   "execution_count": 11,
   "metadata": {},
   "outputs": [],
   "source": [
    "database.get_food_period.assert_called_once_with('Meerkat')\n",
    "database.get_animals.assert_called_once_with('Meerkat')\n",
    "database.feed_animal.assert_has_calls(\n",
    "    [\n",
    "        call('Spot', now_func.return_value),\n",
    "        call('Fluffy', now_func.return_value),\n",
    "    ],\n",
    "    any_order=True)"
   ]
  },
  {
   "cell_type": "code",
   "execution_count": 12,
   "metadata": {},
   "outputs": [
    {
     "name": "stderr",
     "output_type": "stream",
     "text": [
      "ERROR:root:Expected\n",
      "Traceback (most recent call last):\n",
      "  File \"<ipython-input-12-721e698bfb6c>\", line 2, in <module>\n",
      "    database.bad_method_name()\n",
      "  File \"/usr/local/lib/python3.8/unittest/mock.py\", line 637, in __getattr__\n",
      "    raise AttributeError(\"Mock object has no attribute %r\" % name)\n",
      "AttributeError: Mock object has no attribute 'bad_method_name'\n"
     ]
    }
   ],
   "source": [
    "try:\n",
    "    database.bad_method_name()\n",
    "except:\n",
    "    logging.exception('Expected')\n",
    "else:\n",
    "    assert False"
   ]
  },
  {
   "cell_type": "code",
   "execution_count": 13,
   "metadata": {},
   "outputs": [],
   "source": [
    "DATABASE = None\n",
    "\n",
    "def get_database():\n",
    "    global DATABASE\n",
    "    if DATABASE is None:\n",
    "        DATABASE = ZooDatabase()\n",
    "    return DATABASE\n",
    "\n",
    "def main(argv):\n",
    "    database = get_database()\n",
    "    species = argv[1]\n",
    "    count = do_rounds(database, species)\n",
    "    print(f'Fed {count} {species}(s)')\n",
    "    return 0"
   ]
  },
  {
   "cell_type": "code",
   "execution_count": 14,
   "metadata": {},
   "outputs": [],
   "source": [
    "from unittest.mock import patch"
   ]
  },
  {
   "cell_type": "code",
   "execution_count": 15,
   "metadata": {},
   "outputs": [],
   "source": [
    "import contextlib\n",
    "import io"
   ]
  },
  {
   "cell_type": "code",
   "execution_count": 16,
   "metadata": {},
   "outputs": [],
   "source": [
    "with patch('__main__.DATABASE', spec=ZooDatabase):\n",
    "    now = datetime.utcnow()\n",
    "\n",
    "    DATABASE.get_food_period.return_value = timedelta(hours=3)\n",
    "    DATABASE.get_animals.return_value = [\n",
    "        ('Spot', now - timedelta(minutes=4.5)),\n",
    "        ('Fluffy', now - timedelta(hours=3.25)),\n",
    "        ('Jojo', now - timedelta(hours=3)),\n",
    "    ]\n",
    "\n",
    "    fake_stdout = io.StringIO()\n",
    "    with contextlib.redirect_stdout(fake_stdout):\n",
    "        main(['program name', 'Meerkat'])\n",
    "\n",
    "    found = fake_stdout.getvalue()\n",
    "    expected = 'Fed 2 Meerkat(s)\\n'\n",
    "\n",
    "    assert found == expected"
   ]
  },
  {
   "cell_type": "markdown",
   "metadata": {},
   "source": [
    "> - 단위 테스트를 작성할 때 목을 만들기 위해 반복적인 준비 코드를 많이 사용해야 한다면, 테스트 대상이 의존하는 다른 기능들을 더 쉽게 모킹할 수 있는 클래스로 캡슐화하는 것이 좋다.\n",
    "> - `unittest.mock` 내장 모듈의 `Mock` 클래스는 클래스를 시뮬레이션할 수 있는 새로운 목을 반환한다. 이 목은 목 메서드처럼 작동할 수 있고 클래스 내 각각의 애트리뷰트에 접근할 수도 있다.\n",
    "> - 끝에서 끝까지 테스트를 위해서는 테스트에 사용할 목 의존 관계를 주입하는 데 명시적인 연결점으로 쓰일 수 있는 헬퍼 함수를 더 많이 포함하도록 코드를 리팩토링하는 것이 좋다."
   ]
  }
 ],
 "metadata": {
  "kernelspec": {
   "display_name": "Python 3",
   "language": "python",
   "name": "python3"
  },
  "language_info": {
   "codemirror_mode": {
    "name": "ipython",
    "version": 3
   },
   "file_extension": ".py",
   "mimetype": "text/x-python",
   "name": "python",
   "nbconvert_exporter": "python",
   "pygments_lexer": "ipython3",
   "version": "3.8.7"
  }
 },
 "nbformat": 4,
 "nbformat_minor": 4
}
