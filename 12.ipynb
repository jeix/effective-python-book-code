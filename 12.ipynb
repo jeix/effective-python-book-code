{
 "cells": [
  {
   "cell_type": "markdown",
   "metadata": {},
   "source": [
    "## 2. Lists and Dictionaries"
   ]
  },
  {
   "cell_type": "markdown",
   "metadata": {},
   "source": [
    "### 12 Avoid Striding and Slicing in a Single Expression"
   ]
  },
  {
   "cell_type": "code",
   "execution_count": 1,
   "metadata": {},
   "outputs": [],
   "source": [
    "import logging"
   ]
  },
  {
   "cell_type": "code",
   "execution_count": 2,
   "metadata": {},
   "outputs": [
    {
     "name": "stdout",
     "output_type": "stream",
     "text": [
      "['red', 'yellow', 'blue']\n",
      "['orange', 'green', 'purple']\n"
     ]
    }
   ],
   "source": [
    "x = ['red', 'orange', 'yellow', 'green', 'blue', 'purple']\n",
    "odds = x[::2]\n",
    "evens = x[1::2]\n",
    "print(odds)\n",
    "print(evens)"
   ]
  },
  {
   "cell_type": "code",
   "execution_count": 3,
   "metadata": {},
   "outputs": [
    {
     "name": "stdout",
     "output_type": "stream",
     "text": [
      "b'esoognom'\n"
     ]
    }
   ],
   "source": [
    "x = b'mongoose'\n",
    "y = x[::-1]\n",
    "print(y)"
   ]
  },
  {
   "cell_type": "code",
   "execution_count": 4,
   "metadata": {},
   "outputs": [
    {
     "name": "stdout",
     "output_type": "stream",
     "text": [
      "司寿\n"
     ]
    }
   ],
   "source": [
    "x = '寿司'\n",
    "y = x[::-1]\n",
    "print(y)"
   ]
  },
  {
   "cell_type": "code",
   "execution_count": 5,
   "metadata": {},
   "outputs": [
    {
     "name": "stderr",
     "output_type": "stream",
     "text": [
      "ERROR:root:Expected\n",
      "Traceback (most recent call last):\n",
      "  File \"<ipython-input-5-050f148501ac>\", line 5, in <module>\n",
      "    z = y.decode('utf-8')\n",
      "UnicodeDecodeError: 'utf-8' codec can't decode byte 0xb8 in position 0: invalid start byte\n"
     ]
    }
   ],
   "source": [
    "try:\n",
    "    w = '寿司'\n",
    "    x = w.encode('utf-8')\n",
    "    y = x[::-1]\n",
    "    z = y.decode('utf-8')\n",
    "except:\n",
    "    logging.exception('Expected')\n",
    "else:\n",
    "    assert False"
   ]
  },
  {
   "cell_type": "code",
   "execution_count": 6,
   "metadata": {},
   "outputs": [
    {
     "name": "stdout",
     "output_type": "stream",
     "text": [
      "['a', 'c', 'e', 'g']\n",
      "['h', 'f', 'd', 'b']\n"
     ]
    }
   ],
   "source": [
    "x = ['a', 'b', 'c', 'd', 'e', 'f', 'g', 'h']\n",
    "print(x[::2])   # ['a', 'c', 'e', 'g']\n",
    "print(x[::-2])  # ['h', 'f', 'd', 'b']"
   ]
  },
  {
   "cell_type": "code",
   "execution_count": 7,
   "metadata": {},
   "outputs": [
    {
     "name": "stdout",
     "output_type": "stream",
     "text": [
      "['c', 'e', 'g']\n",
      "['g', 'e', 'c', 'a']\n",
      "['g', 'e']\n",
      "[]\n"
     ]
    }
   ],
   "source": [
    "print(x[2::2])     # ['c', 'e', 'g']\n",
    "print(x[-2::-2])   # ['g', 'e', 'c', 'a']\n",
    "print(x[-2:2:-2])  # ['g', 'e']\n",
    "print(x[2:2:-2])   # []"
   ]
  },
  {
   "cell_type": "code",
   "execution_count": 8,
   "metadata": {},
   "outputs": [
    {
     "name": "stdout",
     "output_type": "stream",
     "text": [
      "['c', 'e']\n"
     ]
    }
   ],
   "source": [
    "print(x[2:-2:2])"
   ]
  },
  {
   "cell_type": "code",
   "execution_count": 9,
   "metadata": {},
   "outputs": [
    {
     "name": "stdout",
     "output_type": "stream",
     "text": [
      "['a', 'b', 'c', 'd', 'e', 'f', 'g', 'h']\n",
      "['a', 'c', 'e', 'g']\n",
      "['c', 'e']\n"
     ]
    }
   ],
   "source": [
    "y = x[::2]   # ['a', 'c', 'e', 'g']\n",
    "z = y[1:-1]  # ['c', 'e']\n",
    "print(x)\n",
    "print(y)\n",
    "print(z)"
   ]
  },
  {
   "cell_type": "markdown",
   "metadata": {},
   "source": [
    "> - 슬라이스에 시작, 끝, 증가값을 함께 지정하면 코드의 의미를 혼동하기 쉽다.\n",
    "> - 시작이나 끝 인덱스가 없는 슬라이스를 만들 때는 양수 증가값을 사용하라. 가급적 음수 증가값은 피하라.\n",
    "> - 한 슬라이스 안에서 시작, 끝, 증가값을 함께 사용하지 말라. 세 파라미터를 모두 써야 하는 경우, 두 번 대입을 사용(한 번은 슬라이딩, 한 번은 슬라이싱)하거나 `islice`를 사용하라."
   ]
  },
  {
   "cell_type": "code",
   "execution_count": null,
   "metadata": {},
   "outputs": [],
   "source": []
  }
 ],
 "metadata": {
  "kernelspec": {
   "display_name": "Python 3",
   "language": "python",
   "name": "python3"
  },
  "language_info": {
   "codemirror_mode": {
    "name": "ipython",
    "version": 3
   },
   "file_extension": ".py",
   "mimetype": "text/x-python",
   "name": "python",
   "nbconvert_exporter": "python",
   "pygments_lexer": "ipython3",
   "version": "3.8.7"
  }
 },
 "nbformat": 4,
 "nbformat_minor": 4
}
