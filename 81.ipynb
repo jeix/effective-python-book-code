{
 "cells": [
  {
   "cell_type": "markdown",
   "metadata": {},
   "source": [
    "## 9. Testing and Debugging"
   ]
  },
  {
   "cell_type": "markdown",
   "metadata": {},
   "source": [
    "### 81 Use `tracemalloc` to Understand Memory Usage and Leaks"
   ]
  },
  {
   "cell_type": "markdown",
   "metadata": {},
   "source": [
    "```python\n",
    "# waste_memory.py\n",
    "\n",
    "import os\n",
    "\n",
    "class MyObject:\n",
    "    def __init__(self):\n",
    "        self.data = os.urandom(100)\n",
    "\n",
    "def get_data():\n",
    "    values = []\n",
    "    for _ in range(100):\n",
    "        obj = MyObject()\n",
    "        values.append(obj)\n",
    "    return values\n",
    "\n",
    "def run():\n",
    "    deep_values = []\n",
    "    for _ in range(100):\n",
    "        deep_values.append(get_data())\n",
    "    return deep_values\n",
    "```"
   ]
  },
  {
   "cell_type": "markdown",
   "metadata": {},
   "source": [
    "```python\n",
    "# using_gc.py\n",
    "\n",
    "import gc\n",
    "\n",
    "found_objects = gc.get_objects()\n",
    "print('Before:', len(found_objects))\n",
    "\n",
    "import waste_memory\n",
    "\n",
    "hold_reference = waste_memory.run()\n",
    "\n",
    "found_objects = gc.get_objects()\n",
    "print('After: ', len(found_objects))\n",
    "for obj in found_objects[:3]:\n",
    "    print(repr(obj)[:100])\n",
    "\n",
    "print('...')\n",
    "```"
   ]
  },
  {
   "cell_type": "markdown",
   "metadata": {},
   "source": [
    "```shell\n",
    "$ python using_gc.py \n",
    "Before: 4656\n",
    "After:  15162\n",
    "<waste_memory.MyObject object at 0x7f79d2a0d6a0>\n",
    "<waste_memory.MyObject object at 0x7f79d2a0d700>\n",
    "<waste_memory.MyObject object at 0x7f79d2a0d760>\n",
    "...\n",
    "```"
   ]
  },
  {
   "cell_type": "markdown",
   "metadata": {},
   "source": [
    "```python\n",
    "# top_n.py\n",
    "\n",
    "import tracemalloc\n",
    "\n",
    "tracemalloc.start(10)                      # Set stack depth\n",
    "time1 = tracemalloc.take_snapshot()        # Before snapshot\n",
    "\n",
    "import waste_memory\n",
    "\n",
    "x = waste_memory.run()                     # Usage to debug\n",
    "time2 = tracemalloc.take_snapshot()        # After snapshot\n",
    "\n",
    "stats = time2.compare_to(time1, 'lineno')  # Compare snapshots\n",
    "for stat in stats[:3]:\n",
    "    print(stat)\n",
    "```"
   ]
  },
  {
   "cell_type": "markdown",
   "metadata": {},
   "source": [
    "```shell\n",
    "$ python top_n.py \n",
    "/home/jay/_doc/spike/python/effective/81/waste_memory.py:22: size=2314 KiB (+2314 KiB), count=29994 (+29994), average=79 B\n",
    "/home/jay/_doc/spike/python/effective/81/waste_memory.py:27: size=469 KiB (+469 KiB), count=10001 (+10001), average=48 B\n",
    "/home/jay/_doc/spike/python/effective/81/waste_memory.py:28: size=82.8 KiB (+82.8 KiB), count=100 (+100), average=848 B\n",
    "```"
   ]
  },
  {
   "cell_type": "markdown",
   "metadata": {},
   "source": [
    "```python\n",
    "# with_trace.py\n",
    "\n",
    "import tracemalloc\n",
    "\n",
    "tracemalloc.start(10)\n",
    "time1 = tracemalloc.take_snapshot()\n",
    "\n",
    "import waste_memory\n",
    "\n",
    "x = waste_memory.run()\n",
    "time2 = tracemalloc.take_snapshot()\n",
    "\n",
    "stats = time2.compare_to(time1, 'traceback')\n",
    "top = stats[0]\n",
    "print('Biggest offender is:')\n",
    "print('\\n'.join(top.traceback.format()))\n",
    "```"
   ]
  },
  {
   "cell_type": "markdown",
   "metadata": {},
   "source": [
    "```shell\n",
    "$ python with_trace.py \n",
    "Biggest offender is:\n",
    "  File \"with_trace.py\", line 24\n",
    "    x = waste_memory.run()\n",
    "  File \"/home/jay/_doc/spike/python/effective/81/waste_memory.py\", line 34\n",
    "    deep_values.append(get_data())\n",
    "  File \"/home/jay/_doc/spike/python/effective/81/waste_memory.py\", line 27\n",
    "    obj = MyObject()\n",
    "  File \"/home/jay/_doc/spike/python/effective/81/waste_memory.py\", line 22\n",
    "    self.data = os.urandom(100)\n",
    "```"
   ]
  },
  {
   "cell_type": "markdown",
   "metadata": {},
   "source": [
    "> - 파이썬 프로그램이 메모리를 사용하고 누수하는 양상을 이해하기는 어렵다.\n",
    "> - `gc` 모듈은 어떤 객체가 존재하는지 이해할 때는 도움이 되지만, 객체가 어떻게 할당됐는지 파악할 수 있는 정보는 제공하지 않는다.\n",
    "> - `tracemalloc` 내장 모듈은 프로그램이 메모리를 사용하는 이유를 알고 싶을 때 쓸 수 있는 강력한 도구다."
   ]
  }
 ],
 "metadata": {
  "kernelspec": {
   "display_name": "Python 3",
   "language": "python",
   "name": "python3"
  },
  "language_info": {
   "codemirror_mode": {
    "name": "ipython",
    "version": 3
   },
   "file_extension": ".py",
   "mimetype": "text/x-python",
   "name": "python",
   "nbconvert_exporter": "python",
   "pygments_lexer": "ipython3",
   "version": "3.8.7"
  }
 },
 "nbformat": 4,
 "nbformat_minor": 4
}
