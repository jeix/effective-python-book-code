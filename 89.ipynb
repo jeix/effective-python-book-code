{
 "cells": [
  {
   "cell_type": "markdown",
   "metadata": {},
   "source": [
    "## 10. Collaboration"
   ]
  },
  {
   "cell_type": "markdown",
   "metadata": {},
   "source": [
    "### 89 Consider `warnings` to Refactor and Migrate Usage"
   ]
  },
  {
   "cell_type": "code",
   "execution_count": 1,
   "metadata": {},
   "outputs": [
    {
     "name": "stdout",
     "output_type": "stream",
     "text": [
      "12.5 miles\n"
     ]
    }
   ],
   "source": [
    "def print_distance(speed, duration):\n",
    "    distance = speed * duration\n",
    "    print(f'{distance} miles')\n",
    "\n",
    "print_distance(5, 2.5)"
   ]
  },
  {
   "cell_type": "code",
   "execution_count": 2,
   "metadata": {},
   "outputs": [],
   "source": [
    "CONVERSIONS = {\n",
    "    'mph': 1.60934 / 3600 * 1000,   # m/s\n",
    "    'hours': 3600,                  # seconds\n",
    "    'miles': 1.60934 * 1000,        # m\n",
    "    'meters': 1,                    # m\n",
    "    'm/s': 1,                       # m\n",
    "    'seconds': 1,                   # s\n",
    "}\n",
    "\n",
    "def convert(value, units):\n",
    "    rate = CONVERSIONS[units]\n",
    "    return rate * value\n",
    "\n",
    "def localize(value, units):\n",
    "    rate = CONVERSIONS[units]\n",
    "    return value / rate\n",
    "\n",
    "def print_distance(speed, duration, *,\n",
    "                   speed_units='mph',\n",
    "                   time_units='hours',\n",
    "                   distance_units='miles'):\n",
    "    norm_speed = convert(speed, speed_units)\n",
    "    norm_duration = convert(duration, time_units)\n",
    "    norm_distance = norm_speed * norm_duration\n",
    "    distance = localize(norm_distance, distance_units)\n",
    "    print(f'{distance} {distance_units}')"
   ]
  },
  {
   "cell_type": "code",
   "execution_count": 3,
   "metadata": {},
   "outputs": [
    {
     "name": "stdout",
     "output_type": "stream",
     "text": [
      "1.8641182099494205 miles\n"
     ]
    }
   ],
   "source": [
    "print_distance(1000, 3,\n",
    "               speed_units='meters',\n",
    "               time_units='seconds')"
   ]
  },
  {
   "cell_type": "code",
   "execution_count": 4,
   "metadata": {},
   "outputs": [],
   "source": [
    "import warnings"
   ]
  },
  {
   "cell_type": "code",
   "execution_count": 5,
   "metadata": {},
   "outputs": [],
   "source": [
    "def print_distance(speed, duration, *,\n",
    "                   speed_units=None,\n",
    "                   time_units=None,\n",
    "                   distance_units=None):\n",
    "    if speed_units is None:\n",
    "        warnings.warn('speed_units required', DeprecationWarning)\n",
    "        speed_units = 'mph'\n",
    "\n",
    "    if time_units is None:\n",
    "        warnings.warn('time_units required', DeprecationWarning)\n",
    "        time_units = 'hours'\n",
    "\n",
    "    if distance_units is None:\n",
    "        warnings.warn('distance_units required', DeprecationWarning)\n",
    "        distance_units = 'miles'\n",
    "\n",
    "    norm_speed = convert(speed, speed_units)\n",
    "    norm_duration = convert(duration, time_units)\n",
    "    norm_distance = norm_speed * norm_duration\n",
    "    distance = localize(norm_distance, distance_units)\n",
    "    print(f'{distance} {distance_units}')"
   ]
  },
  {
   "cell_type": "code",
   "execution_count": 6,
   "metadata": {},
   "outputs": [
    {
     "name": "stdout",
     "output_type": "stream",
     "text": [
      "1.8641182099494205 miles\n",
      "<ipython-input-5-e1e3da18c016>:14: DeprecationWarning: distance_units required\n",
      "  warnings.warn('distance_units required', DeprecationWarning)\n",
      "\n"
     ]
    }
   ],
   "source": [
    "import contextlib\n",
    "import io\n",
    "\n",
    "fake_stderr = io.StringIO()\n",
    "with contextlib.redirect_stderr(fake_stderr):\n",
    "    print_distance(1000, 3,\n",
    "                   speed_units='meters',\n",
    "                   time_units='seconds')\n",
    "\n",
    "print(fake_stderr.getvalue())"
   ]
  },
  {
   "cell_type": "code",
   "execution_count": 7,
   "metadata": {},
   "outputs": [],
   "source": [
    "def require(name, value, default):\n",
    "    if value is not None:\n",
    "        return value\n",
    "    warnings.warn(\n",
    "        f'{name} will be required soon, update your code',\n",
    "        DeprecationWarning,\n",
    "        stacklevel=3)\n",
    "    return default\n",
    "\n",
    "def print_distance(speed, duration, *,\n",
    "                   speed_units=None,\n",
    "                   time_units=None,\n",
    "                   distance_units=None):\n",
    "    speed_units = require('speed_units', speed_units, 'mph')\n",
    "    time_units = require('time_units', time_units, 'hours')\n",
    "    distance_units = require('distance_units', distance_units, 'miles')\n",
    "\n",
    "    norm_speed = convert(speed, speed_units)\n",
    "    norm_duration = convert(duration, time_units)\n",
    "    norm_distance = norm_speed * norm_duration\n",
    "    distance = localize(norm_distance, distance_units)\n",
    "    print(f'{distance} {distance_units}')"
   ]
  },
  {
   "cell_type": "code",
   "execution_count": 8,
   "metadata": {},
   "outputs": [
    {
     "name": "stdout",
     "output_type": "stream",
     "text": [
      "1.8641182099494205 miles\n",
      "<ipython-input-8-5969e2a95f81>:6: DeprecationWarning: distance_units will be required soon, update your code\n",
      "  print_distance(1000, 3,\n",
      "\n"
     ]
    }
   ],
   "source": [
    "import contextlib\n",
    "import io\n",
    "\n",
    "fake_stderr = io.StringIO()\n",
    "with contextlib.redirect_stderr(fake_stderr):\n",
    "    print_distance(1000, 3,\n",
    "                   speed_units='meters',\n",
    "                   time_units='seconds')\n",
    "\n",
    "print(fake_stderr.getvalue())"
   ]
  },
  {
   "cell_type": "code",
   "execution_count": 9,
   "metadata": {},
   "outputs": [
    {
     "name": "stdout",
     "output_type": "stream",
     "text": [
      "DeprecationWarning caught\n"
     ]
    }
   ],
   "source": [
    "warnings.resetwarnings()\n",
    "\n",
    "warnings.simplefilter('error')\n",
    "try:\n",
    "    warnings.warn('This usage is deprecated', DeprecationWarning)\n",
    "except DeprecationWarning:\n",
    "    print('DeprecationWarning caught')\n",
    "    pass  # Expected\n",
    "else:\n",
    "    assert False\n",
    "\n",
    "warnings.resetwarnings()"
   ]
  },
  {
   "cell_type": "markdown",
   "metadata": {},
   "source": [
    "```python\n",
    "# ex09.py\n",
    "\n",
    "import warnings\n",
    "\n",
    "try:\n",
    "    warnings.warn('This usage is deprecated', DeprecationWarning)\n",
    "except DeprecationWarning:\n",
    "    print('DeprecationWarning caught')\n",
    "```"
   ]
  },
  {
   "cell_type": "markdown",
   "metadata": {},
   "source": [
    "```shell\n",
    "$ python item_89_ex_09.py\n",
    "item_89_ex_09.py:8: DeprecationWarning: This usage is deprecated\n",
    "  warnings.warn('This usage is deprecated', DeprecationWarning)\n",
    "\n",
    "$ python -W error item_89_ex_09.py\n",
    "DeprecationWarning caught\n",
    "\n",
    "$ PYTHONWARNINGS=error python item_89_ex_09.py\n",
    "DeprecationWarning caught\n",
    "```"
   ]
  },
  {
   "cell_type": "code",
   "execution_count": 13,
   "metadata": {},
   "outputs": [],
   "source": [
    "warnings.resetwarnings()\n",
    "\n",
    "warnings.simplefilter('ignore')\n",
    "warnings.warn('This will not be printed to stderr')\n",
    "\n",
    "warnings.resetwarnings()"
   ]
  },
  {
   "cell_type": "markdown",
   "metadata": {},
   "source": [
    "```shell\n",
    "$ python\n",
    ">>> import warnings\n",
    ">>> warnings.warn('This usage is deprecated', DeprecationWarning)\n",
    "<stdin>:1: DeprecationWarning: This usage is deprecated\n",
    "\n",
    "$ python\n",
    ">>> import warnings\n",
    ">>> warnings.simplefilter('error')\n",
    ">>> try:\n",
    "...     warnings.warn('This usage is deprecated', DeprecationWarning)\n",
    "... except DeprecationWarning:\n",
    "...     print('DeprecationWarning caught')\n",
    "... \n",
    "DeprecationWarning caught\n",
    "\n",
    "$ python -W error\n",
    ">>> import warnings\n",
    ">>> warnings.warn('This usage is deprecated', DeprecationWarning)\n",
    "Traceback (most recent call last):\n",
    "  File \"<stdin>\", line 1, in <module>\n",
    "DeprecationWarning: This usage is deprecated\n",
    "\n",
    "$ PYTHONWARNINGS=error python\n",
    ">>> import warnings\n",
    ">>> try:\n",
    "...     warnings.warn('This usage is deprecated', DeprecationWarning)\n",
    "... except DeprecationWarning:\n",
    "...     print('DeprecationWarning caught')\n",
    "... \n",
    "DeprecationWarning caught\n",
    "\n",
    "$ python\n",
    ">>> import warnings\n",
    ">>> warnings.simplefilter('ignore')\n",
    ">>> warnings.warn('This usage is deprecated', DeprecationWarning)\n",
    "```"
   ]
  },
  {
   "cell_type": "code",
   "execution_count": 14,
   "metadata": {},
   "outputs": [
    {
     "name": "stdout",
     "output_type": "stream",
     "text": [
      "2021-05-08 19:39:58,940 WARNING] <ipython-input-14-a9e1ee1007ba>:15: UserWarning: This will go to the logs output\n",
      "  warnings.warn('This will go to the logs output')\n",
      "\n",
      "\n"
     ]
    }
   ],
   "source": [
    "import logging\n",
    "\n",
    "fake_stderr = io.StringIO()\n",
    "handler = logging.StreamHandler(fake_stderr)\n",
    "formatter = logging.Formatter('%(asctime)-15s WARNING] %(message)s')\n",
    "handler.setFormatter(formatter)\n",
    "\n",
    "logging.captureWarnings(True)\n",
    "logger = logging.getLogger('py.warnings')\n",
    "logger.addHandler(handler)\n",
    "logger.setLevel(logging.DEBUG)\n",
    "\n",
    "warnings.resetwarnings()\n",
    "warnings.simplefilter('default')\n",
    "warnings.warn('This will go to the logs output')\n",
    "\n",
    "print(fake_stderr.getvalue())\n",
    "\n",
    "warnings.resetwarnings()"
   ]
  },
  {
   "cell_type": "code",
   "execution_count": 15,
   "metadata": {},
   "outputs": [],
   "source": [
    "with warnings.catch_warnings(record=True) as found_warnings:\n",
    "    found = require('my_arg', None, 'fake units')\n",
    "    expected = 'fake units'\n",
    "    assert found == expected"
   ]
  },
  {
   "cell_type": "code",
   "execution_count": 16,
   "metadata": {},
   "outputs": [],
   "source": [
    "assert len(found_warnings) == 1\n",
    "single_warning = found_warnings[0]\n",
    "assert str(single_warning.message) == (\n",
    "    'my_arg will be required soon, update your code')\n",
    "assert single_warning.category == DeprecationWarning"
   ]
  },
  {
   "cell_type": "markdown",
   "metadata": {},
   "source": [
    "> - `warnings` 모듈을 사용하면 여러분의 API를 호출하는 사용자들에게 앞으로 사용 금지될 사용법에 대해 알려줄 수 있다. 경고 메시지는 API 사용자들이 (API 변경으로 인해) 자신의 코드가 깨지기 전에 코드를 변경하도록 권장한다.\n",
    "> - `-w error` 명령줄 인자를 파이썬 인터프리터에게 넘기면 경고를 오류로 높일 수 있다. 의존 관계에서 잠재적인 회귀 오류가 있는지 잡나내고 싶은 자동화 테스트에서 이런 기능이 특히 유용하다.\n",
    ">   - `PYTHONWARNINGS` 환경 변수\n",
    "> - 프로덕션 환경에서는 경고를 `logging` 모듈로 복제해 실행 시점에 기존 오류 보고 시스템이 경고를 잡아내게 할 수 있다.\n",
    "> - 다운스트림 의존 관계에서 알맞은 때 경고가 발동되도록 코드가 생성하는 경고에 대해 데스트를 작성하면 유용하다."
   ]
  }
 ],
 "metadata": {
  "kernelspec": {
   "display_name": "Python 3",
   "language": "python",
   "name": "python3"
  },
  "language_info": {
   "codemirror_mode": {
    "name": "ipython",
    "version": 3
   },
   "file_extension": ".py",
   "mimetype": "text/x-python",
   "name": "python",
   "nbconvert_exporter": "python",
   "pygments_lexer": "ipython3",
   "version": "3.8.7"
  }
 },
 "nbformat": 4,
 "nbformat_minor": 4
}
