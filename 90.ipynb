{
 "cells": [
  {
   "cell_type": "markdown",
   "metadata": {},
   "source": [
    "## 10. Collaboration"
   ]
  },
  {
   "cell_type": "markdown",
   "metadata": {},
   "source": [
    "### 90 Consider Static Analysis via `typing` to Obviate Bugs"
   ]
  },
  {
   "cell_type": "code",
   "execution_count": 1,
   "metadata": {},
   "outputs": [],
   "source": [
    "import logging"
   ]
  },
  {
   "cell_type": "code",
   "execution_count": 2,
   "metadata": {},
   "outputs": [
    {
     "name": "stderr",
     "output_type": "stream",
     "text": [
      "ERROR:root:Expected\n",
      "Traceback (most recent call last):\n",
      "  File \"<ipython-input-2-88bc7dade399>\", line 5, in <module>\n",
      "    subtract(10, '5')\n",
      "  File \"<ipython-input-2-88bc7dade399>\", line 3, in subtract\n",
      "    return a - b\n",
      "TypeError: unsupported operand type(s) for -: 'int' and 'str'\n"
     ]
    }
   ],
   "source": [
    "try:\n",
    "    def subtract(a, b):\n",
    "        return a - b\n",
    "    \n",
    "    subtract(10, '5')\n",
    "except:\n",
    "    logging.exception('Expected')\n",
    "else:\n",
    "    assert False"
   ]
  },
  {
   "cell_type": "markdown",
   "metadata": {},
   "source": [
    "```python\n",
    "# ex02.py\n",
    "\n",
    "def subtract(a: int, b: int) -> int:\n",
    "    return a - b\n",
    "\n",
    "subtract(10, '5')  # Oops: passed string value\n",
    "```"
   ]
  },
  {
   "cell_type": "markdown",
   "metadata": {},
   "source": [
    "```shell\n",
    "$ python -m mypy --strict item_90_example_02.py\n",
    "item_90_example_02.py:25: error: Argument 2 to \"subtract\" has incompatible type \"str\"; expected \"int\"\n",
    "Found 1 error in 1 file (checked 1 source file)\n",
    "```"
   ]
  },
  {
   "cell_type": "code",
   "execution_count": 3,
   "metadata": {},
   "outputs": [
    {
     "name": "stderr",
     "output_type": "stream",
     "text": [
      "ERROR:root:Expected\n",
      "Traceback (most recent call last):\n",
      "  File \"<ipython-input-3-a103692a641f>\", line 5, in <module>\n",
      "    concat('first', b'second')\n",
      "  File \"<ipython-input-3-a103692a641f>\", line 3, in concat\n",
      "    return a + b\n",
      "TypeError: can only concatenate str (not \"bytes\") to str\n"
     ]
    }
   ],
   "source": [
    "try:\n",
    "    def concat(a, b):\n",
    "        return a + b\n",
    "    \n",
    "    concat('first', b'second')\n",
    "except:\n",
    "    logging.exception('Expected')\n",
    "else:\n",
    "    assert False"
   ]
  },
  {
   "cell_type": "markdown",
   "metadata": {},
   "source": [
    "```python\n",
    "# ex04.py\n",
    "\n",
    "def concat(a: str, b: str) -> str:\n",
    "    return a + b\n",
    "\n",
    "concat('first', b'second')  # Oops: passed bytes value\n",
    "```"
   ]
  },
  {
   "cell_type": "markdown",
   "metadata": {},
   "source": [
    "```shell\n",
    "$ python -m mypy --strict item_90_example_04.py\n",
    "item_90_example_04.py:25: error: Argument 2 to \"concat\" has incompatible type \"bytes\"; expected \"str\"\n",
    "Found 1 error in 1 file (checked 1 source file)\n",
    "```"
   ]
  },
  {
   "cell_type": "code",
   "execution_count": 4,
   "metadata": {},
   "outputs": [],
   "source": [
    "class Counter:\n",
    "    def __init__(self):\n",
    "        self.value = 0\n",
    "\n",
    "    def add(self, offset):\n",
    "        value += offset\n",
    "\n",
    "    def get(self) -> int:\n",
    "        self.value"
   ]
  },
  {
   "cell_type": "code",
   "execution_count": 5,
   "metadata": {},
   "outputs": [
    {
     "name": "stderr",
     "output_type": "stream",
     "text": [
      "ERROR:root:Expected\n",
      "Traceback (most recent call last):\n",
      "  File \"<ipython-input-5-8066bc7fddec>\", line 3, in <module>\n",
      "    counter.add(5)\n",
      "  File \"<ipython-input-4-39042fef683e>\", line 6, in add\n",
      "    value += offset\n",
      "UnboundLocalError: local variable 'value' referenced before assignment\n"
     ]
    }
   ],
   "source": [
    "try:\n",
    "    counter = Counter()\n",
    "    counter.add(5)\n",
    "except:\n",
    "    logging.exception('Expected')\n",
    "else:\n",
    "    assert False"
   ]
  },
  {
   "cell_type": "code",
   "execution_count": 6,
   "metadata": {},
   "outputs": [
    {
     "name": "stderr",
     "output_type": "stream",
     "text": [
      "ERROR:root:Expected\n",
      "Traceback (most recent call last):\n",
      "  File \"<ipython-input-6-43078c99d68d>\", line 4, in <module>\n",
      "    assert found == 0, found\n",
      "AssertionError: None\n"
     ]
    }
   ],
   "source": [
    "try:\n",
    "    counter = Counter()\n",
    "    found = counter.get()\n",
    "    assert found == 0, found\n",
    "except:\n",
    "    logging.exception('Expected')\n",
    "else:\n",
    "    assert False"
   ]
  },
  {
   "cell_type": "markdown",
   "metadata": {},
   "source": [
    "```python\n",
    "# ex08.py\n",
    "\n",
    "class Counter:\n",
    "    def __init__(self) -> None:\n",
    "        self.value: int = 0  # Field / variable annotation\n",
    "\n",
    "    def add(self, offset: int) -> None:\n",
    "        value += offset      # Oops: forgot \"self.\"\n",
    "\n",
    "    def get(self) -> int:\n",
    "        self.value           # Oops: forgot \"return\"\n",
    "\n",
    "counter = Counter()\n",
    "counter.add(5)\n",
    "counter.add(3)\n",
    "assert counter.get() == 8\n",
    "```"
   ]
  },
  {
   "cell_type": "markdown",
   "metadata": {},
   "source": [
    "```shell\n",
    "$ python -m mypy --strict item_90_example_08.py\n",
    "item_90_example_08.py:27: error: Name 'value' is not defined\n",
    "item_90_example_08.py:29: error: Missing return statement\n",
    "Found 2 errors in 1 file (checked 1 source file)\n",
    "```"
   ]
  },
  {
   "cell_type": "code",
   "execution_count": 7,
   "metadata": {},
   "outputs": [
    {
     "name": "stderr",
     "output_type": "stream",
     "text": [
      "ERROR:root:Expected\n",
      "Traceback (most recent call last):\n",
      "  File \"<ipython-input-7-d644350be35a>\", line 16, in <module>\n",
      "    assert result == 10, result  # Fails\n",
      "AssertionError: (6+4j)\n"
     ]
    }
   ],
   "source": [
    "def combine(func, values):\n",
    "    assert len(values) > 0\n",
    "    \n",
    "    result = values[0]\n",
    "    for next_value in values[1:]:\n",
    "        result = func(result, next_value)\n",
    "    \n",
    "    return result\n",
    "\n",
    "def add(x, y):\n",
    "    return x + y\n",
    "\n",
    "try:\n",
    "    inputs = [1, 2, 3, 4j]\n",
    "    result = combine(add, inputs)\n",
    "    assert result == 10, result  # Fails\n",
    "except:\n",
    "    logging.exception('Expected')\n",
    "else:\n",
    "    assert False"
   ]
  },
  {
   "cell_type": "markdown",
   "metadata": {},
   "source": [
    "```python\n",
    "# ex10.py\n",
    "\n",
    "from typing import Callable, List, TypeVar\n",
    "\n",
    "Value = TypeVar('Value')\n",
    "Func = Callable[[Value, Value], Value]\n",
    "\n",
    "def combine(func: Func[Value], values: List[Value]) -> Value:\n",
    "    assert len(values) > 0\n",
    "\n",
    "    result = values[0]\n",
    "    for next_value in values[1:]:\n",
    "        result = func(result, next_value)\n",
    "\n",
    "    return result\n",
    "\n",
    "Real = TypeVar('Real', int, float)\n",
    "\n",
    "def add(x: Real, y: Real) -> Real:\n",
    "    return x + y\n",
    "\n",
    "inputs = [1, 2, 3, 4j]  # Oops: included a complex number\n",
    "result = combine(add, inputs)\n",
    "assert result == 10\n",
    "```"
   ]
  },
  {
   "cell_type": "markdown",
   "metadata": {},
   "source": [
    "```shell\n",
    "$ python -m mypy --strict item_90_example_10.py\n",
    "item_90_example_10.py:42: error: Argument 1 to \"combine\" has incompatible type \"Callable[[Real, Real], Real]\"; expected \"Callable[[complex, complex], complex]\"\n",
    "Found 1 error in 1 file (checked 1 source file)\n",
    "```"
   ]
  },
  {
   "cell_type": "code",
   "execution_count": 8,
   "metadata": {},
   "outputs": [
    {
     "name": "stderr",
     "output_type": "stream",
     "text": [
      "ERROR:root:Expected\n",
      "Traceback (most recent call last):\n",
      "  File \"<ipython-input-8-c54465e3f8ce>\", line 11, in <module>\n",
      "    assert found == 5, found  # Fails\n",
      "AssertionError: None\n"
     ]
    }
   ],
   "source": [
    "def get_or_default(value, default): \n",
    "    if value is not None:\n",
    "        return value\n",
    "    return value\n",
    "\n",
    "try:\n",
    "    found = get_or_default(3, 5)\n",
    "    assert found == 3\n",
    "    \n",
    "    found = get_or_default(None, 5)\n",
    "    assert found == 5, found  # Fails\n",
    "except:\n",
    "    logging.exception('Expected')\n",
    "else:\n",
    "    assert False"
   ]
  },
  {
   "cell_type": "markdown",
   "metadata": {},
   "source": [
    "```python\n",
    "# ex12.py\n",
    "\n",
    "from typing import Optional\n",
    "\n",
    "def get_or_default(value: Optional[int],\n",
    "                   default: int) -> int: \n",
    "    if value is not None:\n",
    "        return value\n",
    "    return value  # Oops: should have returned \"default\"\n",
    "```"
   ]
  },
  {
   "cell_type": "markdown",
   "metadata": {},
   "source": [
    "```shell\n",
    "$ python -m mypy --strict item_90_example_12.py\n",
    "item_90_example_12.py:28: error: Incompatible return value type (got \"None\", expected \"int\")\n",
    "Found 1 error in 1 file (checked 1 source file)\n",
    "```"
   ]
  },
  {
   "cell_type": "markdown",
   "metadata": {},
   "source": [
    "> 파이썬 `typing` 모듈은 예외를 인터페이스 정의의 일부분으로 간주하지 않는다."
   ]
  },
  {
   "cell_type": "code",
   "execution_count": 9,
   "metadata": {},
   "outputs": [],
   "source": [
    "class FirstClass:\n",
    "    def __init__(self, value):\n",
    "        self.value = value\n",
    "\n",
    "class SecondClass:\n",
    "    def __init__(self, value):\n",
    "        self.value = value\n",
    "\n",
    "second = SecondClass(5)\n",
    "first = FirstClass(second)\n",
    "\n",
    "del FirstClass\n",
    "del SecondClass"
   ]
  },
  {
   "cell_type": "markdown",
   "metadata": {},
   "source": [
    "```python\n",
    "# ex14.py\n",
    "\n",
    "class FirstClass:\n",
    "    def __init__(self, value: SecondClass) -> None:\n",
    "        self.value = value\n",
    "\n",
    "class SecondClass:\n",
    "    def __init__(self, value: int) -> None:\n",
    "        self.value = value\n",
    "\n",
    "second = SecondClass(5)\n",
    "first = FirstClass(second)\n",
    "```"
   ]
  },
  {
   "cell_type": "markdown",
   "metadata": {},
   "source": [
    "```shell\n",
    "$ python -m mypy --strict item_90_example_14.py\n",
    "Success: no issues found in 1 source file\n",
    "```"
   ]
  },
  {
   "cell_type": "code",
   "execution_count": 10,
   "metadata": {},
   "outputs": [
    {
     "name": "stderr",
     "output_type": "stream",
     "text": [
      "ERROR:root:Expected\n",
      "Traceback (most recent call last):\n",
      "  File \"<ipython-input-10-db8e75e8fc35>\", line 2, in <module>\n",
      "    class FirstClass:\n",
      "  File \"<ipython-input-10-db8e75e8fc35>\", line 3, in FirstClass\n",
      "    def __init__(self, value: SecondClass) -> None:  # Breaks\n",
      "NameError: name 'SecondClass' is not defined\n"
     ]
    }
   ],
   "source": [
    "try:\n",
    "    class FirstClass:\n",
    "        def __init__(self, value: SecondClass) -> None:  # Breaks\n",
    "            self.value = value\n",
    "    \n",
    "    class SecondClass:\n",
    "        def __init__(self, value: int) -> None:\n",
    "            self.value = value\n",
    "    \n",
    "    second = SecondClass(5)\n",
    "    first = FirstClass(second)\n",
    "except:\n",
    "    logging.exception('Expected')\n",
    "else:\n",
    "    assert False"
   ]
  },
  {
   "cell_type": "code",
   "execution_count": 11,
   "metadata": {},
   "outputs": [],
   "source": [
    "class FirstClass:\n",
    "    def __init__(self, value: 'SecondClass') -> None:  # OK\n",
    "        self.value = value\n",
    "\n",
    "class SecondClass:\n",
    "    def __init__(self, value: int) -> None:\n",
    "        self.value = value\n",
    "\n",
    "second = SecondClass(5)\n",
    "first = FirstClass(second)"
   ]
  },
  {
   "cell_type": "markdown",
   "metadata": {},
   "source": [
    "```python\n",
    "# ex17.py\n",
    "\n",
    "from __future__ import annotations\n",
    "\n",
    "class FirstClass:\n",
    "    def __init__(self, value: SecondClass) -> None:  # OK\n",
    "        self.value = value\n",
    "\n",
    "class SecondClass:\n",
    "    def __init__(self, value: int) -> None:\n",
    "        self.value = value\n",
    "\n",
    "second = SecondClass(5)\n",
    "first = FirstClass(second)\n",
    "```"
   ]
  },
  {
   "cell_type": "markdown",
   "metadata": {},
   "source": [
    "```shell\n",
    "$ python -m mypy --strict item_90_example_17.py\n",
    "Success: no issues found in 1 source file\n",
    "\n",
    "$ python item_90_example_17.py\n",
    "```"
   ]
  },
  {
   "cell_type": "markdown",
   "metadata": {},
   "source": [
    "> - 파이썬은 변수, 필드, 함수, 메서드에 타입 정보를 추가할 수 있게 특별한 구문과 `typing` 내장 모듈을 제공한다.\n",
    "> - 정적인 타입 검사기를 사용하면 타입 정보를 활용해 런타임에 발생할 수 있는 다양한 일반적인 오류를 방지할 수 있다.\n",
    "> - 타입을 프로그램에 도입하고, API에 타입을 적용하고, 타입 정보를 추가해도 생산성이 떨어지지 않도록 해주는 다양한 모범 사례가 있다.\n",
    "\n",
    "> - 일반적인 전략은 타입 애너테이션 없이 코드 작성을 시작하고, 테스트를 작성한 다음, 타입 정보가 유용하게 쓰일 곳에 타입 정보를 추가하는 것이다.\n",
    "> - 타입 힌트는 API와 같이 코드베이스의 경계에서 가장 중요하다.\n",
    "> - API의 일부분이 아니지만 코드베이스에서 가장 복잡하고 오류가 발생하기 쉬운 부분에 타입 힌트를 적용해도 유용할 수 있다. 하지만 타입 힌트를 코드의 모든 부분에 100% 적용하는 것은 바람직하지 않다.\n",
    "> - 자동 빌드와 테스트 시스템의 일부분으로 정적 분석을 포함시켜서 코드베이스에 커밋할 때마다 오류가 없는지 검사해야 한다. 추가로 타입 검사에 사용할 설정을 저장소에 유지해서 협업하는 모든 사람이 똑같은 규칙을 사용하게 해야 한다.\n",
    "> - 타입을 추가하면서 타입 검사기를 실행하는 일이 중요하다.\n",
    "> - 마지막으로 타입 애너테이션이 필요한 경우가 그리 많지 않을 것이라는 사실을 알아두자."
   ]
  }
 ],
 "metadata": {
  "kernelspec": {
   "display_name": "Python 3",
   "language": "python",
   "name": "python3"
  },
  "language_info": {
   "codemirror_mode": {
    "name": "ipython",
    "version": 3
   },
   "file_extension": ".py",
   "mimetype": "text/x-python",
   "name": "python",
   "nbconvert_exporter": "python",
   "pygments_lexer": "ipython3",
   "version": "3.8.7"
  }
 },
 "nbformat": 4,
 "nbformat_minor": 4
}
