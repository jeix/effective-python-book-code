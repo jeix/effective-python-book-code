{
 "cells": [
  {
   "cell_type": "markdown",
   "metadata": {},
   "source": [
    "## 10. Collaboration"
   ]
  },
  {
   "cell_type": "markdown",
   "metadata": {},
   "source": [
    "### 83 Use Virtual Environments for Isolated and Reproducible Dependencies"
   ]
  },
  {
   "cell_type": "markdown",
   "metadata": {},
   "source": [
    "```shell\n",
    "$ which python3\n",
    "/usr/bin/python3\n",
    "\n",
    "$ python3 -V\n",
    "Python 3.8.7\n",
    "```"
   ]
  },
  {
   "cell_type": "markdown",
   "metadata": {},
   "source": [
    "```shell\n",
    "$ python3 -m venv myproject\n",
    "\n",
    "$ source myproject/bin/activate\n",
    "\n",
    "(myproject) $ which python\n",
    "/home/jay/_doc/spike/python/effective/venv38/bin/python\n",
    "\n",
    "(myproject) $ python -V\n",
    "Python 3.8.7\n",
    "\n",
    "(myproject) $ deactivate\n",
    "```"
   ]
  },
  {
   "cell_type": "markdown",
   "metadata": {},
   "source": [
    "```shell\n",
    "$ python3 -m pip freeze > requirements.txt\n",
    "```"
   ]
  },
  {
   "cell_type": "markdown",
   "metadata": {},
   "source": [
    "```shell\n",
    "(myproject) $ python3 -m pip install -r requirements.txt\n",
    "\n",
    "(myproject) $ python3 -m pip list\n",
    "```"
   ]
  },
  {
   "cell_type": "markdown",
   "metadata": {},
   "source": [
    "> - 가상 환경을 사용하면 한 컴퓨터 안에서 `pip`를 사용해 패키지의 여러 버전을 충돌 없이 설치할 수 있다.\n",
    "> - `python3 -m venv <somewhere>` 명령으로 가상 환경을 만들고 `source bin/activate`로 가상 환경을 활성화하며, `deactivate`로 비활성화한다.\n",
    "> - `python3 -m pip freeze`를 사용해 어떤 환경 안의 모든 의존 관계를 덤프할 수 있다. `python3 -m pip install -r requirements.txt`를 사용해 환경을 다시 만들어낼 수 있다."
   ]
  }
 ],
 "metadata": {
  "kernelspec": {
   "display_name": "Python 3",
   "language": "python",
   "name": "python3"
  },
  "language_info": {
   "codemirror_mode": {
    "name": "ipython",
    "version": 3
   },
   "file_extension": ".py",
   "mimetype": "text/x-python",
   "name": "python",
   "nbconvert_exporter": "python",
   "pygments_lexer": "ipython3",
   "version": "3.8.7"
  }
 },
 "nbformat": 4,
 "nbformat_minor": 4
}
