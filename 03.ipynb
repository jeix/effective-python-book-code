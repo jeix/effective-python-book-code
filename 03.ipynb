{
 "cells": [
  {
   "cell_type": "markdown",
   "metadata": {},
   "source": [
    "## 1. Pythonic Thinking"
   ]
  },
  {
   "cell_type": "markdown",
   "metadata": {},
   "source": [
    "### 03 Know the Differences Between `bytes` and `str`"
   ]
  },
  {
   "cell_type": "code",
   "execution_count": 1,
   "metadata": {},
   "outputs": [],
   "source": [
    "import logging"
   ]
  },
  {
   "cell_type": "code",
   "execution_count": 2,
   "metadata": {},
   "outputs": [
    {
     "name": "stdout",
     "output_type": "stream",
     "text": [
      "[104, 101, 108, 108, 111]\n",
      "b'hello'\n"
     ]
    }
   ],
   "source": [
    "a = b'h\\x65llo'\n",
    "print(list(a))\n",
    "print(a)"
   ]
  },
  {
   "cell_type": "code",
   "execution_count": 3,
   "metadata": {},
   "outputs": [
    {
     "name": "stdout",
     "output_type": "stream",
     "text": [
      "['a', '̀', ' ', 'p', 'r', 'o', 'p', 'o', 's']\n",
      "à propos\n"
     ]
    }
   ],
   "source": [
    "a = 'a\\u0300 propos'\n",
    "print(list(a))\n",
    "print(a)"
   ]
  },
  {
   "cell_type": "code",
   "execution_count": 4,
   "metadata": {},
   "outputs": [
    {
     "name": "stdout",
     "output_type": "stream",
     "text": [
      "'foo'\n",
      "'bar'\n",
      "'한글'\n"
     ]
    }
   ],
   "source": [
    "def to_str(bytes_or_str):\n",
    "    if isinstance(bytes_or_str, bytes):\n",
    "        value = bytes_or_str.decode('utf-8')\n",
    "    else:\n",
    "        value = bytes_or_str\n",
    "    return value  # Instance of str\n",
    "\n",
    "print(repr(to_str(b'foo')))\n",
    "print(repr(to_str('bar')))\n",
    "print(repr(to_str(b'\\xed\\x95\\x9c\\xea\\xb8\\x80')))"
   ]
  },
  {
   "cell_type": "code",
   "execution_count": 5,
   "metadata": {},
   "outputs": [
    {
     "name": "stdout",
     "output_type": "stream",
     "text": [
      "b'foo'\n",
      "b'bar'\n",
      "b'\\xed\\x95\\x9c\\xea\\xb8\\x80'\n"
     ]
    }
   ],
   "source": [
    "def to_bytes(bytes_or_str):\n",
    "    if isinstance(bytes_or_str, str):\n",
    "        value = bytes_or_str.encode('utf-8')\n",
    "    else:\n",
    "        value = bytes_or_str\n",
    "    return value  # Instance of bytes\n",
    "\n",
    "print(repr(to_bytes(b'foo')))\n",
    "print(repr(to_bytes('bar')))\n",
    "print(repr(to_bytes('한글')))"
   ]
  },
  {
   "cell_type": "code",
   "execution_count": 6,
   "metadata": {},
   "outputs": [
    {
     "name": "stdout",
     "output_type": "stream",
     "text": [
      "b'onetwo'\n",
      "onetwo\n"
     ]
    }
   ],
   "source": [
    "print(b'one' + b'two')\n",
    "print('one' + 'two')"
   ]
  },
  {
   "cell_type": "code",
   "execution_count": 7,
   "metadata": {},
   "outputs": [
    {
     "name": "stderr",
     "output_type": "stream",
     "text": [
      "ERROR:root:Expected\n",
      "Traceback (most recent call last):\n",
      "  File \"<ipython-input-7-ab17154e36ca>\", line 2, in <module>\n",
      "    b'one' + 'two'\n",
      "TypeError: can't concat str to bytes\n"
     ]
    }
   ],
   "source": [
    "try:\n",
    "    b'one' + 'two'\n",
    "except:\n",
    "    logging.exception('Expected')\n",
    "else:\n",
    "    assert False"
   ]
  },
  {
   "cell_type": "code",
   "execution_count": 8,
   "metadata": {},
   "outputs": [
    {
     "name": "stderr",
     "output_type": "stream",
     "text": [
      "ERROR:root:Expected\n",
      "Traceback (most recent call last):\n",
      "  File \"<ipython-input-8-c75c54f97817>\", line 2, in <module>\n",
      "    'one' + b'two'\n",
      "TypeError: can only concatenate str (not \"bytes\") to str\n"
     ]
    }
   ],
   "source": [
    "try:\n",
    "    'one' + b'two'\n",
    "except:\n",
    "    logging.exception('Expected')\n",
    "else:\n",
    "    assert False"
   ]
  },
  {
   "cell_type": "code",
   "execution_count": 9,
   "metadata": {},
   "outputs": [],
   "source": [
    "assert b'red' > b'blue'\n",
    "assert 'red' > 'blue'"
   ]
  },
  {
   "cell_type": "code",
   "execution_count": 10,
   "metadata": {},
   "outputs": [
    {
     "name": "stderr",
     "output_type": "stream",
     "text": [
      "ERROR:root:Expected\n",
      "Traceback (most recent call last):\n",
      "  File \"<ipython-input-10-bd080907f0d1>\", line 2, in <module>\n",
      "    assert 'red' > b'blue'\n",
      "TypeError: '>' not supported between instances of 'str' and 'bytes'\n"
     ]
    }
   ],
   "source": [
    "try:\n",
    "    assert 'red' > b'blue'\n",
    "except:\n",
    "    logging.exception('Expected')\n",
    "else:\n",
    "    assert False"
   ]
  },
  {
   "cell_type": "code",
   "execution_count": 11,
   "metadata": {},
   "outputs": [
    {
     "name": "stderr",
     "output_type": "stream",
     "text": [
      "ERROR:root:Expected\n",
      "Traceback (most recent call last):\n",
      "  File \"<ipython-input-11-1944c3059cc6>\", line 2, in <module>\n",
      "    assert b'blue' < 'red'\n",
      "TypeError: '<' not supported between instances of 'bytes' and 'str'\n"
     ]
    }
   ],
   "source": [
    "try:\n",
    "    assert b'blue' < 'red'\n",
    "except:\n",
    "    logging.exception('Expected')\n",
    "else:\n",
    "    assert False"
   ]
  },
  {
   "cell_type": "code",
   "execution_count": 12,
   "metadata": {},
   "outputs": [
    {
     "name": "stdout",
     "output_type": "stream",
     "text": [
      "False\n"
     ]
    }
   ],
   "source": [
    "print(b'foo' == 'foo')"
   ]
  },
  {
   "cell_type": "code",
   "execution_count": 13,
   "metadata": {},
   "outputs": [
    {
     "name": "stdout",
     "output_type": "stream",
     "text": [
      "b'red blue'\n",
      "red blue\n"
     ]
    }
   ],
   "source": [
    "print(b'red %s' % b'blue')\n",
    "print('red %s' % 'blue')"
   ]
  },
  {
   "cell_type": "code",
   "execution_count": 14,
   "metadata": {},
   "outputs": [
    {
     "name": "stderr",
     "output_type": "stream",
     "text": [
      "ERROR:root:Expected\n",
      "Traceback (most recent call last):\n",
      "  File \"<ipython-input-14-6635a8d5c366>\", line 2, in <module>\n",
      "    print(b'red %s' % 'blue')\n",
      "TypeError: %b requires a bytes-like object, or an object that implements __bytes__, not 'str'\n"
     ]
    }
   ],
   "source": [
    "try:\n",
    "    print(b'red %s' % 'blue')\n",
    "except:\n",
    "    logging.exception('Expected')\n",
    "else:\n",
    "    assert False\n"
   ]
  },
  {
   "cell_type": "code",
   "execution_count": 15,
   "metadata": {},
   "outputs": [
    {
     "name": "stdout",
     "output_type": "stream",
     "text": [
      "red b'blue'\n"
     ]
    }
   ],
   "source": [
    "print('red %s' % b'blue')"
   ]
  },
  {
   "cell_type": "code",
   "execution_count": 16,
   "metadata": {},
   "outputs": [
    {
     "name": "stderr",
     "output_type": "stream",
     "text": [
      "ERROR:root:Expected\n",
      "Traceback (most recent call last):\n",
      "  File \"<ipython-input-16-78254cecedd5>\", line 3, in <module>\n",
      "    f.write(b'\\xf1\\xf2\\xf3\\xf4\\xf5')\n",
      "TypeError: write() argument must be str, not bytes\n"
     ]
    }
   ],
   "source": [
    "try:\n",
    "    with open('data.bin', 'w') as f:\n",
    "        f.write(b'\\xf1\\xf2\\xf3\\xf4\\xf5')\n",
    "except:\n",
    "    logging.exception('Expected')\n",
    "else:\n",
    "    assert False"
   ]
  },
  {
   "cell_type": "code",
   "execution_count": 17,
   "metadata": {},
   "outputs": [],
   "source": [
    "with open('data.bin', 'wb') as f:\n",
    "    f.write(b'\\xf1\\xf2\\xf3\\xf4\\xf5')"
   ]
  },
  {
   "cell_type": "code",
   "execution_count": 18,
   "metadata": {},
   "outputs": [
    {
     "name": "stderr",
     "output_type": "stream",
     "text": [
      "ERROR:root:Expected\n",
      "Traceback (most recent call last):\n",
      "  File \"<ipython-input-18-4db810e6b6dd>\", line 10, in <module>\n",
      "    data = f.read()\n",
      "  File \"/usr/lib/python3.7/codecs.py\", line 322, in decode\n",
      "    (result, consumed) = self._buffer_decode(data, self.errors, final)\n",
      "UnicodeDecodeError: 'utf-8' codec can't decode byte 0xf1 in position 0: invalid continuation byte\n"
     ]
    }
   ],
   "source": [
    "try:\n",
    "    # Silently force UTF-8 here to make sure this test fails on\n",
    "    # all platforms. cp1252 considers these bytes valid on Windows.\n",
    "    real_open = open\n",
    "    def open(*args, **kwargs):\n",
    "        kwargs['encoding'] = 'utf-8'\n",
    "        return real_open(*args, **kwargs)\n",
    "    \n",
    "    with open('data.bin', 'r') as f:\n",
    "        data = f.read()\n",
    "except:\n",
    "    logging.exception('Expected')\n",
    "    \n",
    "    open = real_open\n",
    "else:\n",
    "    assert False"
   ]
  },
  {
   "cell_type": "code",
   "execution_count": 19,
   "metadata": {},
   "outputs": [],
   "source": [
    "with open('data.bin', 'rb') as f:\n",
    "    data = f.read()\n",
    "\n",
    "assert data == b'\\xf1\\xf2\\xf3\\xf4\\xf5'"
   ]
  },
  {
   "cell_type": "code",
   "execution_count": 20,
   "metadata": {},
   "outputs": [],
   "source": [
    "with open('data.bin', 'r', encoding='cp1252') as f:\n",
    "    data = f.read()\n",
    "\n",
    "assert data == 'ñòóôõ'"
   ]
  },
  {
   "cell_type": "markdown",
   "metadata": {},
   "source": [
    "> - `bytes`에는 8비트 값의 시퀀스가 들어 있고, `str`에는 유니코드 코드 포인트의 시퀀스가 들어 있다.\n",
    "> - 처리할 입력이 원하는 문자 시퀀스(8비트 값, UTF-8로 인코딩된 문자열, 유니코드 코드 포인ㅌ들)인지 확실히 하려면 헬퍼 함수를 사용하라.\n",
    "> - `bytes`와 `str` 인스턴스를 (`>`, `==`, `+`, `%`와 같은) 연산자에 섞어서 사용할 수 없다.\n",
    "> - 이진 데이터를 파일에서 읽거나 파일에 쓰고 싶으면 항상 이진 모드(`'rb'`나 `'wb'`)로 파일을 열어라.\n",
    "> - 유니코드 데이터를 파일에서 읽거나 파일에 쓰고 싶을 때는 시스템 디폴트 인코딩에 주의하라. 인코딩 차이로 놀라고 싶지 않으면 `open`에 `encoding` 파라미터를 명시적으로 전달하라."
   ]
  },
  {
   "cell_type": "code",
   "execution_count": null,
   "metadata": {},
   "outputs": [],
   "source": []
  }
 ],
 "metadata": {
  "kernelspec": {
   "display_name": "Python 3",
   "language": "python",
   "name": "python3"
  },
  "language_info": {
   "codemirror_mode": {
    "name": "ipython",
    "version": 3
   },
   "file_extension": ".py",
   "mimetype": "text/x-python",
   "name": "python",
   "nbconvert_exporter": "python",
   "pygments_lexer": "ipython3",
   "version": "3.8.7"
  }
 },
 "nbformat": 4,
 "nbformat_minor": 4
}
