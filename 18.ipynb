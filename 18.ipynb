{
 "cells": [
  {
   "cell_type": "markdown",
   "metadata": {},
   "source": [
    "## 2. Lists and Dictionaries"
   ]
  },
  {
   "cell_type": "markdown",
   "metadata": {},
   "source": [
    "### 18 Know How to Construct Key-Dependent Default Values with `__missing__`"
   ]
  },
  {
   "cell_type": "code",
   "execution_count": 1,
   "metadata": {},
   "outputs": [],
   "source": [
    "import logging"
   ]
  },
  {
   "cell_type": "code",
   "execution_count": 2,
   "metadata": {},
   "outputs": [
    {
     "name": "stdout",
     "output_type": "stream",
     "text": [
      "{'profile_1234.png': <_io.BufferedRandom name='profile_1234.png'>}\n",
      "b'image data here 1234'\n"
     ]
    }
   ],
   "source": [
    "pictures = {}\n",
    "path = 'profile_1234.png'\n",
    "\n",
    "with open(path, 'wb') as f:\n",
    "    f.write(b'image data here 1234')\n",
    "\n",
    "if (handle := pictures.get(path)) is None:\n",
    "    try:\n",
    "        handle = open(path, 'a+b')\n",
    "    except OSError:\n",
    "        print(f'Failed to open path {path}')\n",
    "        raise\n",
    "    else:\n",
    "        pictures[path] = handle\n",
    "\n",
    "handle.seek(0)\n",
    "image_data = handle.read()\n",
    "\n",
    "print(pictures)\n",
    "print(image_data)"
   ]
  },
  {
   "cell_type": "code",
   "execution_count": 3,
   "metadata": {},
   "outputs": [
    {
     "name": "stdout",
     "output_type": "stream",
     "text": [
      "{'profile_9991.png': <_io.BufferedRandom name='profile_9991.png'>}\n",
      "b'image data here 9991'\n"
     ]
    }
   ],
   "source": [
    "pictures = {}\n",
    "path = 'profile_9991.png'\n",
    "\n",
    "with open(path, 'wb') as f:\n",
    "    f.write(b'image data here 9991')\n",
    "\n",
    "if path in pictures:\n",
    "    handle = pictures[path]\n",
    "else:\n",
    "    try:\n",
    "        handle = open(path, 'a+b')\n",
    "    except OSError:\n",
    "        print(f'Failed to open path {path}')\n",
    "        raise\n",
    "    else:\n",
    "        pictures[path] = handle\n",
    "\n",
    "handle.seek(0)\n",
    "image_data = handle.read()\n",
    "\n",
    "print(pictures)\n",
    "print(image_data)"
   ]
  },
  {
   "cell_type": "code",
   "execution_count": 4,
   "metadata": {},
   "outputs": [
    {
     "name": "stdout",
     "output_type": "stream",
     "text": [
      "{'profile_9922.png': <_io.BufferedRandom name='profile_9922.png'>}\n",
      "b'image data here 9991'\n"
     ]
    }
   ],
   "source": [
    "pictures = {}\n",
    "path = 'profile_9922.png'\n",
    "\n",
    "with open(path, 'wb') as f:\n",
    "    f.write(b'image data here 9991')\n",
    "\n",
    "try:\n",
    "    handle = pictures[path]\n",
    "except KeyError:\n",
    "    try:\n",
    "        handle = open(path, 'a+b')\n",
    "    except OSError:\n",
    "        print(f'Failed to open path {path}')\n",
    "        raise\n",
    "    else:\n",
    "        pictures[path] = handle\n",
    "\n",
    "handle.seek(0)\n",
    "image_data = handle.read()\n",
    "\n",
    "print(pictures)\n",
    "print(image_data)"
   ]
  },
  {
   "cell_type": "code",
   "execution_count": 5,
   "metadata": {},
   "outputs": [
    {
     "name": "stdout",
     "output_type": "stream",
     "text": [
      "{'profile_9239.png': <_io.BufferedRandom name='profile_9239.png'>}\n",
      "b'image data here 9239'\n"
     ]
    }
   ],
   "source": [
    "pictures = {}\n",
    "path = 'profile_9239.png'\n",
    "\n",
    "with open(path, 'wb') as f:\n",
    "    f.write(b'image data here 9239')\n",
    "\n",
    "try:\n",
    "    handle = pictures.setdefault(path, open(path, 'a+b'))\n",
    "except OSError:\n",
    "    print(f'Failed to open path {path}')\n",
    "    raise\n",
    "else:\n",
    "    handle.seek(0)\n",
    "    image_data = handle.read()\n",
    "\n",
    "print(pictures)\n",
    "print(image_data)\n",
    "\n",
    "# 딕셔너리에 이미 path와 그 파일 핸들이 있어도\n",
    "# open()이 항상 호출된다\n",
    "# 따라서 이 경우에는 setdefault 를 쓰지 않는 게 좋겠다."
   ]
  },
  {
   "cell_type": "code",
   "execution_count": 6,
   "metadata": {},
   "outputs": [
    {
     "name": "stderr",
     "output_type": "stream",
     "text": [
      "ERROR:root:Expected\n",
      "Traceback (most recent call last):\n",
      "  File \"<ipython-input-6-732624fe9cba>\", line 17, in <module>\n",
      "    handle = pictures[path]\n",
      "TypeError: open_picture() missing 1 required positional argument: 'profile_path'\n"
     ]
    }
   ],
   "source": [
    "path = 'profile_4555.png'\n",
    "\n",
    "with open(path, 'wb') as f:\n",
    "    f.write(b'image data here 4555')\n",
    "\n",
    "def open_picture(profile_path):\n",
    "    try:\n",
    "        return open(profile_path, 'a+b')\n",
    "    except OSError:\n",
    "        print(f'Failed to open path {profile_path}')\n",
    "        raise\n",
    "\n",
    "try:\n",
    "    from collections import defaultdict\n",
    "    \n",
    "    pictures = defaultdict(open_picture)\n",
    "    handle = pictures[path]\n",
    "    handle.seek(0)\n",
    "    image_data = handle.read()\n",
    "except:\n",
    "    logging.exception('Expected')\n",
    "else:\n",
    "    assert False\n",
    "\n",
    "#print(pictures)\n",
    "#print(image_data)"
   ]
  },
  {
   "cell_type": "code",
   "execution_count": 7,
   "metadata": {},
   "outputs": [
    {
     "name": "stdout",
     "output_type": "stream",
     "text": [
      "{'profile_9090.png': <_io.BufferedRandom name='profile_9090.png'>}\n",
      "b'image data here 9090'\n"
     ]
    }
   ],
   "source": [
    "path = 'profile_9090.png'\n",
    "\n",
    "with open(path, 'wb') as f:\n",
    "    f.write(b'image data here 9090')\n",
    "\n",
    "def open_picture(profile_path):\n",
    "    try:\n",
    "        return open(profile_path, 'a+b')\n",
    "    except OSError:\n",
    "        print(f'Failed to open path {profile_path}')\n",
    "        raise\n",
    "\n",
    "class Pictures(dict):\n",
    "    def __missing__(self, key):\n",
    "        value = open_picture(key)\n",
    "        self[key] = value\n",
    "        return value\n",
    "\n",
    "pictures = Pictures()\n",
    "handle = pictures[path]\n",
    "handle.seek(0)\n",
    "image_data = handle.read()\n",
    "\n",
    "print(pictures)\n",
    "print(image_data)"
   ]
  },
  {
   "cell_type": "markdown",
   "metadata": {},
   "source": [
    "> - 디폴트 값을 만드는 계산 비용이 높거나 만드는 과정에서 예외가 발생할 수 있는 상황에서는 `dict`의 `setdefault` 메서드를 사용하지 말라.\n",
    "> - `defaultdict`에 전달되는 함수는 인자를 받지 않는다. 따라서 접근에 사용한 키 값에 맞는 디폴트 값을 생성하는 것은 불가능하다.\n",
    "> - 디폴트 키를 만들 때 어떤 키를 사용했는지 반드시 알아야 하는 상황이라면 직접 `dict`의 하위 클래스와 `__missing__` 메서드를 정의하면 된다."
   ]
  },
  {
   "cell_type": "code",
   "execution_count": null,
   "metadata": {},
   "outputs": [],
   "source": []
  }
 ],
 "metadata": {
  "kernelspec": {
   "display_name": "Python 3",
   "language": "python",
   "name": "python3"
  },
  "language_info": {
   "codemirror_mode": {
    "name": "ipython",
    "version": 3
   },
   "file_extension": ".py",
   "mimetype": "text/x-python",
   "name": "python",
   "nbconvert_exporter": "python",
   "pygments_lexer": "ipython3",
   "version": "3.8.7"
  }
 },
 "nbformat": 4,
 "nbformat_minor": 4
}
