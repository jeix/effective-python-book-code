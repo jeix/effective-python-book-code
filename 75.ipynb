{
 "cells": [
  {
   "cell_type": "markdown",
   "metadata": {},
   "source": [
    "## 9. Testing and Debugging"
   ]
  },
  {
   "cell_type": "markdown",
   "metadata": {},
   "source": [
    "### 75 Use `repr` Strings for Debugging Output"
   ]
  },
  {
   "cell_type": "code",
   "execution_count": 1,
   "metadata": {},
   "outputs": [
    {
     "name": "stdout",
     "output_type": "stream",
     "text": [
      "foo bar\n"
     ]
    }
   ],
   "source": [
    "print('foo bar')"
   ]
  },
  {
   "cell_type": "code",
   "execution_count": 2,
   "metadata": {},
   "outputs": [
    {
     "name": "stdout",
     "output_type": "stream",
     "text": [
      "foo bar\n",
      "foo bar\n",
      "foo bar\n",
      "foo bar\n",
      "foo bar\n",
      "foo bar\n"
     ]
    }
   ],
   "source": [
    "my_value = 'foo bar'\n",
    "print(str(my_value))\n",
    "print('%s' % my_value)\n",
    "print(f'{my_value}')\n",
    "print(format(my_value))\n",
    "print(my_value.__format__('s'))\n",
    "print(my_value.__str__())"
   ]
  },
  {
   "cell_type": "code",
   "execution_count": 3,
   "metadata": {},
   "outputs": [
    {
     "name": "stdout",
     "output_type": "stream",
     "text": [
      "5\n",
      "5\n",
      "5 == 5 ?\n"
     ]
    }
   ],
   "source": [
    "print(5)\n",
    "print('5')\n",
    "\n",
    "int_value = 5\n",
    "str_value = '5'\n",
    "print(f'{int_value} == {str_value} ?')"
   ]
  },
  {
   "cell_type": "code",
   "execution_count": 4,
   "metadata": {},
   "outputs": [
    {
     "name": "stdout",
     "output_type": "stream",
     "text": [
      "'\\x07'\n"
     ]
    }
   ],
   "source": [
    "a = '\\x07'\n",
    "print(repr(a))\n",
    "\n",
    "b = eval(repr(a))\n",
    "assert a == b"
   ]
  },
  {
   "cell_type": "code",
   "execution_count": 5,
   "metadata": {},
   "outputs": [
    {
     "name": "stdout",
     "output_type": "stream",
     "text": [
      "5\n",
      "'5'\n",
      "5\n",
      "'5'\n",
      "5 != '5'\n"
     ]
    }
   ],
   "source": [
    "print(repr(5))\n",
    "print(repr('5'))\n",
    "\n",
    "print('%r' % 5)\n",
    "print('%r' % '5')\n",
    "\n",
    "int_value = 5\n",
    "str_value = '5'\n",
    "print(f'{int_value!r} != {str_value!r}')"
   ]
  },
  {
   "cell_type": "code",
   "execution_count": 6,
   "metadata": {},
   "outputs": [
    {
     "name": "stdout",
     "output_type": "stream",
     "text": [
      "<__main__.OpaqueClass object at 0x7fc8a899d880>\n"
     ]
    }
   ],
   "source": [
    "class OpaqueClass:\n",
    "    def __init__(self, x, y):\n",
    "        self.x = x\n",
    "        self.y = y\n",
    "\n",
    "obj = OpaqueClass(1, 'foo')\n",
    "print(obj)"
   ]
  },
  {
   "cell_type": "code",
   "execution_count": 7,
   "metadata": {},
   "outputs": [
    {
     "name": "stdout",
     "output_type": "stream",
     "text": [
      "BetterClass(2, 'bar')\n"
     ]
    }
   ],
   "source": [
    "class BetterClass:\n",
    "    def __init__(self, x, y):\n",
    "        self.x = x\n",
    "        self.y = y\n",
    "\n",
    "    def __repr__(self):\n",
    "        return f'BetterClass({self.x!r}, {self.y!r})'\n",
    "\n",
    "obj = BetterClass(2, 'bar')\n",
    "print(obj)"
   ]
  },
  {
   "cell_type": "code",
   "execution_count": 8,
   "metadata": {},
   "outputs": [
    {
     "name": "stdout",
     "output_type": "stream",
     "text": [
      "{'x': 4, 'y': 'baz'}\n"
     ]
    }
   ],
   "source": [
    "obj = OpaqueClass(4, 'baz')\n",
    "print(obj.__dict__)"
   ]
  },
  {
   "cell_type": "markdown",
   "metadata": {},
   "source": [
    "> - 내장 파이썬 타입 값에 대해 `print`를 호출하면 해당 값을 사람이 읽을 수 있게 표현한 문자열을 얻는다. 얻은 문자열에서는 타입 정보가 감춰져 있다.\n",
    "> - `repr`을 내장 파이썬 타입 값에 대해 호출하면 해당 값을 표현하는 출력 가능한 문자열을 얻는다. `repr`로 얻은 문자열을 `eval` 내장 함수에 전달하면 원래 값을 돌려받을 수 있다.\n",
    "> - 형식화 문자열의 `%s`는 `str`과 마찬가지로 사람이 읽을 수 있는 문자열을 만들어낸다. `str.%r`은 `repr`와 마찬가지로 출력 가능한 문자열을 만들어낸다. f-문자열에서 `!r` 접미사를 붙이지 않고 텍스트 치환식을 사용하면 사람이 읽을 수 있는 형태의 문자열이 만들어진다.\n",
    "> - 직접 클래스의 `__repr__` 특별 메서드를 정의해서 인스턴스의 출력 가능한 표현을 원하는 대로 만들 수 있고, 이를 통해 디버깅할 때 더 자세한 정보를 표시할 수 있다."
   ]
  }
 ],
 "metadata": {
  "kernelspec": {
   "display_name": "Python 3",
   "language": "python",
   "name": "python3"
  },
  "language_info": {
   "codemirror_mode": {
    "name": "ipython",
    "version": 3
   },
   "file_extension": ".py",
   "mimetype": "text/x-python",
   "name": "python",
   "nbconvert_exporter": "python",
   "pygments_lexer": "ipython3",
   "version": "3.8.7"
  }
 },
 "nbformat": 4,
 "nbformat_minor": 4
}
