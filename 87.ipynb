{
 "cells": [
  {
   "cell_type": "markdown",
   "metadata": {},
   "source": [
    "## 10. Collaboration"
   ]
  },
  {
   "cell_type": "markdown",
   "metadata": {},
   "source": [
    "### 87 Define a Root `Exception` to Insulate Callers from APIs"
   ]
  },
  {
   "cell_type": "code",
   "execution_count": 1,
   "metadata": {},
   "outputs": [],
   "source": [
    "import logging"
   ]
  },
  {
   "cell_type": "code",
   "execution_count": 2,
   "metadata": {},
   "outputs": [],
   "source": [
    "# my_module.py\n",
    "\n",
    "def determine_weight(volume, density):\n",
    "    if density <= 0:\n",
    "        raise ValueError('Density must be positive')\n",
    "\n",
    "try:\n",
    "    determine_weight(1, 0)\n",
    "except ValueError:\n",
    "    pass\n",
    "else:\n",
    "    assert False"
   ]
  },
  {
   "cell_type": "code",
   "execution_count": 4,
   "metadata": {},
   "outputs": [],
   "source": [
    "# my_module.py\n",
    "\n",
    "class Error(Exception):\n",
    "    \"\"\"Base-class for all exceptions raised by this module.\"\"\"\n",
    "\n",
    "class InvalidDensityError(Error):\n",
    "    \"\"\"There was a problem with a provided density value.\"\"\"\n",
    "\n",
    "class InvalidVolumeError(Error):\n",
    "    \"\"\"There was a problem with the provided weight value.\"\"\"\n",
    "\n",
    "def determine_weight(volume, density):\n",
    "    if density < 0:\n",
    "        raise InvalidDensityError('Density must be positive')\n",
    "    if volume < 0:\n",
    "        raise InvalidVolumeError('Volume must be positive')\n",
    "    if volume == 0:\n",
    "        density / volume"
   ]
  },
  {
   "cell_type": "code",
   "execution_count": 5,
   "metadata": {},
   "outputs": [
    {
     "name": "stderr",
     "output_type": "stream",
     "text": [
      "ERROR:root:Unexpected error\n",
      "Traceback (most recent call last):\n",
      "  File \"<ipython-input-5-5f912faf51a8>\", line 16, in <module>\n",
      "    weight = my_module.determine_weight(1, -1)\n",
      "  File \"<ipython-input-5-5f912faf51a8>\", line 9, in determine_weight\n",
      "    raise InvalidDensityError('Density must be positive')\n",
      "InvalidDensityError: Density must be positive\n"
     ]
    }
   ],
   "source": [
    "# mimic module\n",
    "class my_module:\n",
    "    Error = Error\n",
    "    InvalidDensityError = InvalidDensityError\n",
    "\n",
    "    @staticmethod\n",
    "    def determine_weight(volume, density):\n",
    "        if density < 0:\n",
    "            raise InvalidDensityError('Density must be positive')\n",
    "        if volume < 0:\n",
    "            raise InvalidVolumeError('Volume must be positive')\n",
    "        if volume == 0:\n",
    "            density / volume\n",
    "\n",
    "try:\n",
    "    weight = my_module.determine_weight(1, -1)\n",
    "except my_module.Error:\n",
    "    logging.exception('Unexpected error')\n",
    "else:\n",
    "    assert False"
   ]
  },
  {
   "cell_type": "code",
   "execution_count": 6,
   "metadata": {},
   "outputs": [
    {
     "name": "stderr",
     "output_type": "stream",
     "text": [
      "ERROR:root:Bug in the calling code\n",
      "Traceback (most recent call last):\n",
      "  File \"<ipython-input-6-24d29c07a718>\", line 4, in <module>\n",
      "    weight = my_module.determine_weight(-1, 1)\n",
      "  File \"<ipython-input-5-5f912faf51a8>\", line 11, in determine_weight\n",
      "    raise InvalidVolumeError('Volume must be positive')\n",
      "InvalidVolumeError: Volume must be positive\n"
     ]
    }
   ],
   "source": [
    "SENTINEL = object()\n",
    "weight = SENTINEL\n",
    "try:\n",
    "    weight = my_module.determine_weight(-1, 1)\n",
    "except my_module.InvalidDensityError:\n",
    "    weight = 0\n",
    "except my_module.Error:\n",
    "    logging.exception('Bug in the calling code')\n",
    "else:\n",
    "    assert False\n",
    "\n",
    "assert weight is SENTINEL"
   ]
  },
  {
   "cell_type": "code",
   "execution_count": 7,
   "metadata": {},
   "outputs": [
    {
     "name": "stderr",
     "output_type": "stream",
     "text": [
      "ERROR:root:Bug in the API code!\n",
      "Traceback (most recent call last):\n",
      "  File \"<ipython-input-7-10a151fb0c7d>\", line 4, in <module>\n",
      "    weight = my_module.determine_weight(0, 1)\n",
      "  File \"<ipython-input-5-5f912faf51a8>\", line 13, in determine_weight\n",
      "    density / volume\n",
      "ZeroDivisionError: division by zero\n",
      "ERROR:root:Expected\n",
      "Traceback (most recent call last):\n",
      "  File \"<ipython-input-7-10a151fb0c7d>\", line 4, in <module>\n",
      "    weight = my_module.determine_weight(0, 1)\n",
      "  File \"<ipython-input-5-5f912faf51a8>\", line 13, in determine_weight\n",
      "    density / volume\n",
      "ZeroDivisionError: division by zero\n"
     ]
    }
   ],
   "source": [
    "try:\n",
    "    weight = SENTINEL\n",
    "    try:\n",
    "        weight = my_module.determine_weight(0, 1)\n",
    "    except my_module.InvalidDensityError:\n",
    "        weight = 0\n",
    "    except my_module.Error:\n",
    "        logging.exception('Bug in the calling code')\n",
    "    except Exception:\n",
    "        logging.exception('Bug in the API code!')\n",
    "        raise  # Re-raise exception to the caller\n",
    "    else:\n",
    "        assert False\n",
    "    \n",
    "    assert weight == 0\n",
    "except:\n",
    "    logging.exception('Expected')\n",
    "else:\n",
    "    assert False"
   ]
  },
  {
   "cell_type": "code",
   "execution_count": 8,
   "metadata": {},
   "outputs": [],
   "source": [
    "# my_module.py\n",
    "\n",
    "class NegativeDensityError(InvalidDensityError):\n",
    "    \"\"\"A provided density value was negative.\"\"\"\n",
    "\n",
    "def determine_weight(volume, density):\n",
    "    if density < 0:\n",
    "        raise NegativeDensityError('Density must be positive')"
   ]
  },
  {
   "cell_type": "code",
   "execution_count": 9,
   "metadata": {},
   "outputs": [
    {
     "name": "stderr",
     "output_type": "stream",
     "text": [
      "ERROR:root:Expected\n",
      "Traceback (most recent call last):\n",
      "  File \"<ipython-input-9-fc3450e1cddd>\", line 5, in <module>\n",
      "    weight = my_module.determine_weight(1, -1)\n",
      "  File \"<ipython-input-8-6bd870f51a07>\", line 8, in determine_weight\n",
      "    raise NegativeDensityError('Density must be positive')\n",
      "NegativeDensityError: Density must be positive\n",
      "\n",
      "During handling of the above exception, another exception occurred:\n",
      "\n",
      "Traceback (most recent call last):\n",
      "  File \"<ipython-input-9-fc3450e1cddd>\", line 7, in <module>\n",
      "    raise ValueError('Must supply non-negative density')\n",
      "ValueError: Must supply non-negative density\n"
     ]
    }
   ],
   "source": [
    "try:\n",
    "    my_module.NegativeDensityError = NegativeDensityError\n",
    "    my_module.determine_weight = determine_weight\n",
    "    try:\n",
    "        weight = my_module.determine_weight(1, -1)\n",
    "    except my_module.NegativeDensityError:\n",
    "        raise ValueError('Must supply non-negative density')\n",
    "    except my_module.InvalidDensityError:\n",
    "        weight = 0\n",
    "    except my_module.Error:\n",
    "        logging.exception('Bug in the calling code')\n",
    "    except Exception:\n",
    "        logging.exception('Bug in the API code!')\n",
    "        raise\n",
    "    else:\n",
    "        assert False\n",
    "except:\n",
    "    logging.exception('Expected')\n",
    "else:\n",
    "    assert False"
   ]
  },
  {
   "cell_type": "code",
   "execution_count": 10,
   "metadata": {},
   "outputs": [],
   "source": [
    "# my_module.py\n",
    "\n",
    "class Error(Exception):\n",
    "    \"\"\"Base-class for all exceptions raised by this module.\"\"\"\n",
    "\n",
    "class WeightError(Error):\n",
    "    \"\"\"Base-class for weight calculation errors.\"\"\"\n",
    "\n",
    "class VolumeError(Error):\n",
    "    \"\"\"Base-class for volume calculation errors.\"\"\"\n",
    "\n",
    "class DensityError(Error):\n",
    "    \"\"\"Base-class for density calculation errors.\"\"\""
   ]
  },
  {
   "cell_type": "markdown",
   "metadata": {},
   "source": [
    "> - 모듈에서 사용할 최상위 예외를 정의하면 API 사용자들이 자신을 API로부터 보호할 수 있다.\n",
    "> - 최상위 예외를 잡아내면 API를 소비하는 코드의 버그를 쉽게 찾을 수 있다.\n",
    "> - 파이썬 `Exception` 기반 클래스를 잡아내면 API 구현의 버그를 쉽게 찾을 수 있다.\n",
    "> - 중간 단계의 최상위 예외를 사용하면, 미래에 새로운 타입의 예외를 API에 추가할 때 API를 사용하는 코드가 깨지는 일을 방지할 수 있다."
   ]
  }
 ],
 "metadata": {
  "kernelspec": {
   "display_name": "Python 3",
   "language": "python",
   "name": "python3"
  },
  "language_info": {
   "codemirror_mode": {
    "name": "ipython",
    "version": 3
   },
   "file_extension": ".py",
   "mimetype": "text/x-python",
   "name": "python",
   "nbconvert_exporter": "python",
   "pygments_lexer": "ipython3",
   "version": "3.8.7"
  }
 },
 "nbformat": 4,
 "nbformat_minor": 4
}
