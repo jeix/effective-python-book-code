{
 "cells": [
  {
   "cell_type": "markdown",
   "metadata": {},
   "source": [
    "## 7. Concurrency and Parallelism"
   ]
  },
  {
   "cell_type": "markdown",
   "metadata": {},
   "source": [
    "### 58 Understand How Using `Queue` for Concurrency Requires Refactoring"
   ]
  },
  {
   "cell_type": "code",
   "execution_count": 1,
   "metadata": {},
   "outputs": [],
   "source": [
    "import logging"
   ]
  },
  {
   "cell_type": "code",
   "execution_count": 2,
   "metadata": {},
   "outputs": [],
   "source": [
    "from queue import Queue\n",
    "\n",
    "# from 55\n",
    "\n",
    "class ClosableQueue(Queue):\n",
    "    SENTINEL = object()\n",
    "\n",
    "    def close(self):\n",
    "        self.put(self.SENTINEL)\n",
    "\n",
    "    def __iter__(self):\n",
    "        while True:\n",
    "            item = self.get()\n",
    "            try:\n",
    "                if item is self.SENTINEL:\n",
    "                    return  # Cause the thread to exit\n",
    "                yield item\n",
    "            finally:\n",
    "                self.task_done()"
   ]
  },
  {
   "cell_type": "code",
   "execution_count": 3,
   "metadata": {},
   "outputs": [],
   "source": [
    "from threading import Thread\n",
    "\n",
    "# from 55 (slightly different)\n",
    "\n",
    "class StoppableWorker(Thread):\n",
    "    def __init__(self, func, in_queue, out_queue, **kwargs):\n",
    "        super().__init__(**kwargs)\n",
    "        self.func = func\n",
    "        self.in_queue = in_queue\n",
    "        self.out_queue = out_queue\n",
    "\n",
    "    def run(self):\n",
    "        for item in self.in_queue:\n",
    "            result = self.func(item)\n",
    "            self.out_queue.put(result)"
   ]
  },
  {
   "cell_type": "code",
   "execution_count": 4,
   "metadata": {},
   "outputs": [],
   "source": [
    "def game_logic(state, neighbors):\n",
    "    # Do some blocking input/output in here:\n",
    "    data = my_socket.recv(100)\n",
    "\n",
    "# from 56\n",
    "\n",
    "def game_logic(state, neighbors):\n",
    "    if state == ALIVE:\n",
    "        if neighbors < 2:\n",
    "            return EMPTY     # Die: Too few\n",
    "        elif neighbors > 3:\n",
    "            return EMPTY     # Die: Too many\n",
    "    else:\n",
    "        if neighbors == 3:\n",
    "            return ALIVE     # Regenerate\n",
    "    return state\n",
    "\n",
    "def game_logic_thread(item):\n",
    "    y, x, state, neighbors = item\n",
    "    try:\n",
    "        next_state = game_logic(state, neighbors)\n",
    "    except Exception as e:\n",
    "        next_state = e\n",
    "    return (y, x, next_state)"
   ]
  },
  {
   "cell_type": "code",
   "execution_count": 5,
   "metadata": {},
   "outputs": [],
   "source": [
    "in_queue = ClosableQueue()\n",
    "out_queue = ClosableQueue()\n",
    "\n",
    "# Start the threads upfront\n",
    "threads = []\n",
    "for _ in range(5):\n",
    "    thread = StoppableWorker(\n",
    "        game_logic_thread, in_queue, out_queue)\n",
    "    thread.start()\n",
    "    threads.append(thread)"
   ]
  },
  {
   "cell_type": "code",
   "execution_count": 6,
   "metadata": {},
   "outputs": [],
   "source": [
    "# from 56\n",
    "\n",
    "ALIVE = '*'\n",
    "EMPTY = '-'"
   ]
  },
  {
   "cell_type": "code",
   "execution_count": 7,
   "metadata": {},
   "outputs": [],
   "source": [
    "class SimulationError(Exception):\n",
    "    pass"
   ]
  },
  {
   "cell_type": "code",
   "execution_count": 8,
   "metadata": {},
   "outputs": [],
   "source": [
    "# from 56\n",
    "\n",
    "class Grid:\n",
    "    def __init__(self, height, width):\n",
    "        self.height = height\n",
    "        self.width = width\n",
    "        self.rows = []\n",
    "        for _ in range(self.height):\n",
    "            self.rows.append([EMPTY] * self.width)\n",
    "\n",
    "    def get(self, y, x):\n",
    "        return self.rows[y % self.height][x % self.width]\n",
    "\n",
    "    def set(self, y, x, state):\n",
    "        self.rows[y % self.height][x % self.width] = state\n",
    "\n",
    "    def __str__(self):\n",
    "        output = ''\n",
    "        for row in self.rows:\n",
    "            for cell in row:\n",
    "                output += cell\n",
    "            output += '\\n'\n",
    "        return output"
   ]
  },
  {
   "cell_type": "code",
   "execution_count": 9,
   "metadata": {},
   "outputs": [],
   "source": [
    "# from 56\n",
    "\n",
    "def count_neighbors(y, x, get):\n",
    "    n_ = get(y - 1, x + 0)  # North\n",
    "    ne = get(y - 1, x + 1)  # Northeast\n",
    "    e_ = get(y + 0, x + 1)  # East\n",
    "    se = get(y + 1, x + 1)  # Southeast\n",
    "    s_ = get(y + 1, x + 0)  # South\n",
    "    sw = get(y + 1, x - 1)  # Southwest\n",
    "    w_ = get(y + 0, x - 1)  # West\n",
    "    nw = get(y - 1, x - 1)  # Northwest\n",
    "    neighbor_states = [n_, ne, e_, se, s_, sw, w_, nw]\n",
    "    count = 0\n",
    "    for state in neighbor_states:\n",
    "        if state == ALIVE:\n",
    "            count += 1\n",
    "    return count"
   ]
  },
  {
   "cell_type": "code",
   "execution_count": 10,
   "metadata": {},
   "outputs": [],
   "source": [
    "def simulate_pipeline(grid, in_queue, out_queue):\n",
    "    for y in range(grid.height):\n",
    "        for x in range(grid.width):\n",
    "            state = grid.get(y, x)\n",
    "            neighbors = count_neighbors(y, x, grid.get)\n",
    "            in_queue.put((y, x, state, neighbors))  # Fan out\n",
    "\n",
    "    in_queue.join()\n",
    "    out_queue.close()\n",
    "\n",
    "    next_grid = Grid(grid.height, grid.width)\n",
    "    for item in out_queue:                          # Fan in\n",
    "        y, x, next_state = item\n",
    "        if isinstance(next_state, Exception):\n",
    "            raise SimulationError(y, x) from next_state\n",
    "        next_grid.set(y, x, next_state)\n",
    "\n",
    "    return next_grid"
   ]
  },
  {
   "cell_type": "code",
   "execution_count": 11,
   "metadata": {},
   "outputs": [
    {
     "name": "stderr",
     "output_type": "stream",
     "text": [
      "ERROR:root:Expected\n",
      "Traceback (most recent call last):\n",
      "  File \"<ipython-input-4-858d4ea7f48d>\", line 21, in game_logic_thread\n",
      "    next_state = game_logic(state, neighbors)\n",
      "  File \"<ipython-input-11-2a502d9d79fd>\", line 3, in game_logic\n",
      "    raise OSError('Problem with I/O in game_logic')\n",
      "OSError: Problem with I/O in game_logic\n",
      "\n",
      "The above exception was the direct cause of the following exception:\n",
      "\n",
      "Traceback (most recent call last):\n",
      "  File \"<ipython-input-11-2a502d9d79fd>\", line 5, in <module>\n",
      "    simulate_pipeline(Grid(1, 1), in_queue, out_queue)\n",
      "  File \"<ipython-input-10-f651445d2337>\", line 15, in simulate_pipeline\n",
      "    raise SimulationError(y, x) from next_state\n",
      "SimulationError: (0, 0)\n"
     ]
    }
   ],
   "source": [
    "try:\n",
    "    def game_logic(state, neighbors):\n",
    "        raise OSError('Problem with I/O in game_logic')\n",
    "    \n",
    "    simulate_pipeline(Grid(1, 1), in_queue, out_queue)\n",
    "except:\n",
    "    logging.exception('Expected')\n",
    "else:\n",
    "    assert False"
   ]
  },
  {
   "cell_type": "code",
   "execution_count": 12,
   "metadata": {},
   "outputs": [],
   "source": [
    "# Clear the sentinel object from the out queue\n",
    "for _ in out_queue:\n",
    "    pass"
   ]
  },
  {
   "cell_type": "code",
   "execution_count": 13,
   "metadata": {},
   "outputs": [],
   "source": [
    "# Restore the working version of this function\n",
    "def game_logic(state, neighbors):\n",
    "    if state == ALIVE:\n",
    "        if neighbors < 2:\n",
    "            return EMPTY     # Die: Too few\n",
    "        elif neighbors > 3:\n",
    "            return EMPTY     # Die: Too many\n",
    "    else:\n",
    "        if neighbors == 3:\n",
    "            return ALIVE     # Regenerate\n",
    "    return state"
   ]
  },
  {
   "cell_type": "code",
   "execution_count": 14,
   "metadata": {},
   "outputs": [],
   "source": [
    "# from 56\n",
    "\n",
    "class ColumnPrinter:\n",
    "    def __init__(self):\n",
    "        self.columns = []\n",
    "\n",
    "    def append(self, data):\n",
    "        self.columns.append(data)\n",
    "\n",
    "    def __str__(self):\n",
    "        row_count = 1\n",
    "        for data in self.columns:\n",
    "            row_count = max(\n",
    "                row_count, len(data.splitlines()) + 1)\n",
    "\n",
    "        rows = [''] * row_count\n",
    "        for j in range(row_count):\n",
    "            for i, data in enumerate(self.columns):\n",
    "                line = data.splitlines()[max(0, j - 1)]\n",
    "                if j == 0:\n",
    "                    padding = ' ' * (len(line) // 2)\n",
    "                    rows[j] += padding + str(i) + padding\n",
    "                else:\n",
    "                    rows[j] += line\n",
    "\n",
    "                if (i + 1) < len(self.columns):\n",
    "                    rows[j] += ' | '\n",
    "\n",
    "        return '\\n'.join(rows)"
   ]
  },
  {
   "cell_type": "code",
   "execution_count": 15,
   "metadata": {},
   "outputs": [
    {
     "name": "stdout",
     "output_type": "stream",
     "text": [
      "    0     |     1     |     2     |     3     |     4    \n",
      "---*----- | --------- | --------- | --------- | ---------\n",
      "----*---- | --*-*---- | ----*---- | ---*----- | ----*----\n",
      "--***---- | ---**---- | --*-*---- | ----**--- | -----*---\n",
      "--------- | ---*----- | ---**---- | ---**---- | ---***---\n",
      "--------- | --------- | --------- | --------- | ---------\n"
     ]
    }
   ],
   "source": [
    "grid = Grid(5, 9)\n",
    "grid.set(0, 3, ALIVE)\n",
    "grid.set(1, 4, ALIVE)\n",
    "grid.set(2, 2, ALIVE)\n",
    "grid.set(2, 3, ALIVE)\n",
    "grid.set(2, 4, ALIVE)\n",
    "\n",
    "columns = ColumnPrinter()\n",
    "for i in range(5):\n",
    "    columns.append(str(grid))\n",
    "    grid = simulate_pipeline(grid, in_queue, out_queue)\n",
    "\n",
    "print(columns)\n",
    "\n",
    "for thread in threads:\n",
    "    in_queue.close()\n",
    "for thread in threads:\n",
    "    thread.join()"
   ]
  },
  {
   "cell_type": "code",
   "execution_count": 16,
   "metadata": {},
   "outputs": [],
   "source": [
    "def count_neighbors(y, x, get):\n",
    "    # Do some blocking input/output in here:\n",
    "    data = my_socket.recv(100)\n",
    "\n",
    "# from 56\n",
    "\n",
    "def count_neighbors(y, x, get):\n",
    "    n_ = get(y - 1, x + 0)  # North\n",
    "    ne = get(y - 1, x + 1)  # Northeast\n",
    "    e_ = get(y + 0, x + 1)  # East\n",
    "    se = get(y + 1, x + 1)  # Southeast\n",
    "    s_ = get(y + 1, x + 0)  # South\n",
    "    sw = get(y + 1, x - 1)  # Southwest\n",
    "    w_ = get(y + 0, x - 1)  # West\n",
    "    nw = get(y - 1, x - 1)  # Northwest\n",
    "    neighbor_states = [n_, ne, e_, se, s_, sw, w_, nw]\n",
    "    count = 0\n",
    "    for state in neighbor_states:\n",
    "        if state == ALIVE:\n",
    "            count += 1\n",
    "    return count\n",
    "\n",
    "def count_neighbors_thread(item):\n",
    "    y, x, state, get = item\n",
    "    try:\n",
    "        neighbors = count_neighbors(y, x, get)\n",
    "    except Exception as e:\n",
    "        neighbors = e\n",
    "    return (y, x, state, neighbors)"
   ]
  },
  {
   "cell_type": "code",
   "execution_count": 17,
   "metadata": {},
   "outputs": [],
   "source": [
    "def game_logic_thread(item):\n",
    "    y, x, state, neighbors = item\n",
    "    if isinstance(neighbors, Exception):\n",
    "        next_state = neighbors\n",
    "    else:\n",
    "        try:\n",
    "            next_state = game_logic(state, neighbors)\n",
    "        except Exception as e:\n",
    "            next_state = e\n",
    "    return (y, x, next_state)"
   ]
  },
  {
   "cell_type": "code",
   "execution_count": 18,
   "metadata": {},
   "outputs": [],
   "source": [
    "from threading import Lock\n",
    "\n",
    "# from 57\n",
    "\n",
    "class LockingGrid(Grid):\n",
    "    def __init__(self, height, width):\n",
    "        super().__init__(height, width)\n",
    "        self.lock = Lock()\n",
    "\n",
    "    def __str__(self):\n",
    "        with self.lock:\n",
    "            return super().__str__()\n",
    "\n",
    "    def get(self, y, x):\n",
    "        with self.lock:\n",
    "            return super().get(y, x)\n",
    "\n",
    "    def set(self, y, x, state):\n",
    "        with self.lock:\n",
    "            return super().set(y, x, state)"
   ]
  },
  {
   "cell_type": "code",
   "execution_count": 19,
   "metadata": {},
   "outputs": [],
   "source": [
    "in_queue = ClosableQueue()\n",
    "logic_queue = ClosableQueue()\n",
    "out_queue = ClosableQueue()\n",
    "\n",
    "threads = []\n",
    "\n",
    "for _ in range(5):\n",
    "    thread = StoppableWorker(\n",
    "        count_neighbors_thread, in_queue, logic_queue)\n",
    "    thread.start()\n",
    "    threads.append(thread)\n",
    "\n",
    "for _ in range(5):\n",
    "    thread = StoppableWorker(\n",
    "        game_logic_thread, logic_queue, out_queue)\n",
    "    thread.start()\n",
    "    threads.append(thread)"
   ]
  },
  {
   "cell_type": "code",
   "execution_count": 20,
   "metadata": {},
   "outputs": [],
   "source": [
    "def simulate_phased_pipeline(\n",
    "        grid, in_queue, logic_queue, out_queue):\n",
    "    for y in range(grid.height):\n",
    "        for x in range(grid.width):\n",
    "            state = grid.get(y, x)\n",
    "            item = (y, x, state, grid.get)\n",
    "            in_queue.put(item)          # Fan out\n",
    "\n",
    "    in_queue.join()\n",
    "    logic_queue.join()                  # Pipeline sequencing\n",
    "    out_queue.close()\n",
    "\n",
    "    next_grid = LockingGrid(grid.height, grid.width)\n",
    "    for item in out_queue:              # Fan in\n",
    "        y, x, next_state = item\n",
    "        if isinstance(next_state, Exception):\n",
    "            raise SimulationError(y, x) from next_state\n",
    "        next_grid.set(y, x, next_state)\n",
    "\n",
    "    return next_grid"
   ]
  },
  {
   "cell_type": "code",
   "execution_count": 21,
   "metadata": {},
   "outputs": [
    {
     "name": "stdout",
     "output_type": "stream",
     "text": [
      "    0     |     1     |     2     |     3     |     4    \n",
      "---*----- | --------- | --------- | --------- | ---------\n",
      "----*---- | --*-*---- | ----*---- | ---*----- | ----*----\n",
      "--***---- | ---**---- | --*-*---- | ----**--- | -----*---\n",
      "--------- | ---*----- | ---**---- | ---**---- | ---***---\n",
      "--------- | --------- | --------- | --------- | ---------\n"
     ]
    }
   ],
   "source": [
    "grid = LockingGrid(5, 9)\n",
    "grid.set(0, 3, ALIVE)\n",
    "grid.set(1, 4, ALIVE)\n",
    "grid.set(2, 2, ALIVE)\n",
    "grid.set(2, 3, ALIVE)\n",
    "grid.set(2, 4, ALIVE)\n",
    "\n",
    "columns = ColumnPrinter()\n",
    "for i in range(5):\n",
    "    columns.append(str(grid))\n",
    "    grid = simulate_phased_pipeline(\n",
    "        grid, in_queue, logic_queue, out_queue)\n",
    "\n",
    "print(columns)\n",
    "\n",
    "for thread in threads:\n",
    "    in_queue.close()\n",
    "for thread in threads:\n",
    "    logic_queue.close()\n",
    "for thread in threads:\n",
    "    thread.join()"
   ]
  },
  {
   "cell_type": "code",
   "execution_count": 22,
   "metadata": {},
   "outputs": [],
   "source": [
    "# Make sure exception propagation works as expected\n",
    "\n",
    "def count_neighbors(*args):\n",
    "    raise OSError('Problem with I/O in count_neighbors')\n",
    "\n",
    "in_queue = ClosableQueue()\n",
    "logic_queue = ClosableQueue()\n",
    "out_queue = ClosableQueue()\n",
    "\n",
    "threads = [\n",
    "    StoppableWorker(\n",
    "        count_neighbors_thread, in_queue, logic_queue,\n",
    "        daemon=True),\n",
    "    StoppableWorker(\n",
    "        game_logic_thread, logic_queue, out_queue,\n",
    "        daemon=True),\n",
    "]\n",
    "\n",
    "for thread in threads:\n",
    "    thread.start()\n",
    "\n",
    "try:\n",
    "    simulate_phased_pipeline(grid, in_queue, logic_queue, out_queue)\n",
    "except SimulationError:\n",
    "    pass  # Expected\n",
    "else:\n",
    "    assert False"
   ]
  },
  {
   "cell_type": "markdown",
   "metadata": {},
   "source": [
    "> - 작업자 스레드 수를 고정하고 `Queue`와 함께 사용하면 스레드를 사용할 때 팬인과 팬아웃의 규모 확장성을 개선할 수 있다.\n",
    "> - `Queue`를 사용하도록 기존 코드를 리팩터링하려면 상당히 많은 작업이 필요하다. 특히 다단계로 이뤄진 파이프라인이 필요하면 작업량이 더 늘어난다.\n",
    "> - 다른 파이썬 내장 기능이나 모듈이 제공하는 병렬 I/O를 가능하게 해주는 다른 기능과 비교하면, `Queue`는 프로그램이 활용할 수 있는 전체 I/O 병렬성의 정도를 제한한다는 단점이 있다."
   ]
  },
  {
   "cell_type": "code",
   "execution_count": null,
   "metadata": {},
   "outputs": [],
   "source": []
  }
 ],
 "metadata": {
  "kernelspec": {
   "display_name": "Python 3",
   "language": "python",
   "name": "python3"
  },
  "language_info": {
   "codemirror_mode": {
    "name": "ipython",
    "version": 3
   },
   "file_extension": ".py",
   "mimetype": "text/x-python",
   "name": "python",
   "nbconvert_exporter": "python",
   "pygments_lexer": "ipython3",
   "version": "3.8.7"
  }
 },
 "nbformat": 4,
 "nbformat_minor": 4
}
