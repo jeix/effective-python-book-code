{
 "cells": [
  {
   "cell_type": "markdown",
   "metadata": {},
   "source": [
    "## 8. Robustness and Performance"
   ]
  },
  {
   "cell_type": "markdown",
   "metadata": {},
   "source": [
    "### 67 Use `datetime` Instead of `time` for Local Clocks"
   ]
  },
  {
   "cell_type": "code",
   "execution_count": 1,
   "metadata": {},
   "outputs": [],
   "source": [
    "import logging"
   ]
  },
  {
   "cell_type": "code",
   "execution_count": 2,
   "metadata": {},
   "outputs": [],
   "source": [
    "import time"
   ]
  },
  {
   "cell_type": "code",
   "execution_count": 3,
   "metadata": {},
   "outputs": [],
   "source": [
    "time_format = '%Y-%m-%d %H:%M:%S'"
   ]
  },
  {
   "cell_type": "code",
   "execution_count": 4,
   "metadata": {},
   "outputs": [
    {
     "name": "stdout",
     "output_type": "stream",
     "text": [
      "2021-03-10 12:37:42\n",
      "1615347462.0\n"
     ]
    }
   ],
   "source": [
    "now = 1615347462\n",
    "local_tuple = time.localtime(now)\n",
    "time_str = time.strftime(time_format, local_tuple)\n",
    "print(time_str)\n",
    "\n",
    "time_tuple = time.strptime(time_str, time_format)\n",
    "utc_now = time.mktime(time_tuple)\n",
    "print(utc_now)"
   ]
  },
  {
   "cell_type": "code",
   "execution_count": 5,
   "metadata": {},
   "outputs": [
    {
     "name": "stdout",
     "output_type": "stream",
     "text": [
      "2021-03-10 12:37:42\n"
     ]
    }
   ],
   "source": [
    "import os\n",
    "\n",
    "if os.name == 'nt':\n",
    "    print(\"This example doesn't work on Windows\")\n",
    "else:\n",
    "    parse_format = '%Y-%m-%d %H:%M:%S %Z'\n",
    "    depart_icn = '2021-03-10 12:37:42 KST'\n",
    "    time_tuple = time.strptime(depart_icn, parse_format)\n",
    "    time_str = time.strftime(time_format, time_tuple)\n",
    "    print(time_str)"
   ]
  },
  {
   "cell_type": "code",
   "execution_count": 6,
   "metadata": {},
   "outputs": [
    {
     "name": "stderr",
     "output_type": "stream",
     "text": [
      "ERROR:root:Expected\n",
      "Traceback (most recent call last):\n",
      "  File \"<ipython-input-6-0e86ab40354f>\", line 3, in <module>\n",
      "    time_tuple = time.strptime(arrival_nyc, time_format)\n",
      "  File \"/usr/local/lib/python3.8/_strptime.py\", line 562, in _strptime_time\n",
      "    tt = _strptime(data_string, format)[0]\n",
      "  File \"/usr/local/lib/python3.8/_strptime.py\", line 352, in _strptime\n",
      "    raise ValueError(\"unconverted data remains: %s\" %\n",
      "ValueError: unconverted data remains:  EDT\n"
     ]
    }
   ],
   "source": [
    "try:\n",
    "    arrival_nyc = '2021-03-11 02:37:42 EDT'\n",
    "    time_tuple = time.strptime(arrival_nyc, time_format)\n",
    "except:\n",
    "    logging.exception('Expected')\n",
    "else:\n",
    "    assert False"
   ]
  },
  {
   "cell_type": "code",
   "execution_count": 7,
   "metadata": {},
   "outputs": [],
   "source": [
    "from datetime import datetime, timezone"
   ]
  },
  {
   "cell_type": "code",
   "execution_count": 8,
   "metadata": {},
   "outputs": [
    {
     "name": "stdout",
     "output_type": "stream",
     "text": [
      "2021-03-10 12:37:42+09:00\n"
     ]
    }
   ],
   "source": [
    "now = datetime(2021, 3, 10, 3, 37, 42)      # 시간대가 아니 설정된 시간\n",
    "now_utc = now.replace(tzinfo=timezone.utc)  # 시간대를 UTC로 강제 지정\n",
    "now_local = now_utc.astimezone()            # UTC 시간을 디폴트 시간대로 변환\n",
    "print(now_local)"
   ]
  },
  {
   "cell_type": "code",
   "execution_count": 9,
   "metadata": {},
   "outputs": [
    {
     "name": "stdout",
     "output_type": "stream",
     "text": [
      "1615347462.0\n"
     ]
    }
   ],
   "source": [
    "time_str = '2021-03-10 12:37:42'\n",
    "now = datetime.strptime(time_str, time_format)  # 시간대가 아니 설정된 시간 문자열에서\n",
    "time_tuple = now.timetuple()                    # 유닉스 시간 구조체로 변환\n",
    "utc_now = time.mktime(time_tuple)               # 유닉스 타임스탬프 생성\n",
    "print(utc_now)"
   ]
  },
  {
   "cell_type": "code",
   "execution_count": 10,
   "metadata": {},
   "outputs": [],
   "source": [
    "import pytz"
   ]
  },
  {
   "cell_type": "code",
   "execution_count": 11,
   "metadata": {},
   "outputs": [
    {
     "name": "stdout",
     "output_type": "stream",
     "text": [
      "2021-03-11 07:37:42+00:00\n"
     ]
    }
   ],
   "source": [
    "arrival_nyc = '2021-03-11 02:37:42'\n",
    "nyc_dt_naive = datetime.strptime(arrival_nyc, time_format)  # 시간대가 아니 설정된 시간\n",
    "eastern = pytz.timezone('US/Eastern')                       # 동부 시간대\n",
    "nyc_dt = eastern.localize(nyc_dt_naive)                     # 동부 시간대로 시간대를 변경\n",
    "utc_dt = pytz.utc.normalize(nyc_dt.astimezone(pytz.utc))    # UTC로 변경\n",
    "print(utc_dt)"
   ]
  },
  {
   "cell_type": "code",
   "execution_count": 12,
   "metadata": {},
   "outputs": [
    {
     "name": "stdout",
     "output_type": "stream",
     "text": [
      "2021-03-11 16:37:42+09:00\n"
     ]
    }
   ],
   "source": [
    "kr_tz = pytz.timezone('Asia/Seoul')                # 한국 시간대\n",
    "kr_dt = kr_tz.normalize(utc_dt.astimezone(kr_tz))  # 한국 시간대로 시간대를 변경\n",
    "print(kr_dt)"
   ]
  },
  {
   "cell_type": "code",
   "execution_count": 13,
   "metadata": {},
   "outputs": [
    {
     "name": "stdout",
     "output_type": "stream",
     "text": [
      "2021-03-11 13:22:42+05:45\n"
     ]
    }
   ],
   "source": [
    "nepal = pytz.timezone('Asia/Katmandu')\n",
    "nepal_dt = nepal.normalize(utc_dt.astimezone(nepal))\n",
    "print(nepal_dt)"
   ]
  },
  {
   "cell_type": "markdown",
   "metadata": {},
   "source": [
    "> - 여러 시간대를 변환할 때는 `time` 모듈을 쓰지 말라.\n",
    "> - 여러 다른 시간대를 신뢰할 수 있게 변환하고 싶으면 `datetime`과 `pytz` 모듈을 함께 사용하라.\n",
    "> - 항상 시간을 UTC로 표시하고, 최종적으로 표현하기 직전에 지역 시간으로 변환하라."
   ]
  },
  {
   "cell_type": "code",
   "execution_count": null,
   "metadata": {},
   "outputs": [],
   "source": []
  }
 ],
 "metadata": {
  "kernelspec": {
   "display_name": "Python 3",
   "language": "python",
   "name": "python3"
  },
  "language_info": {
   "codemirror_mode": {
    "name": "ipython",
    "version": 3
   },
   "file_extension": ".py",
   "mimetype": "text/x-python",
   "name": "python",
   "nbconvert_exporter": "python",
   "pygments_lexer": "ipython3",
   "version": "3.8.7"
  }
 },
 "nbformat": 4,
 "nbformat_minor": 5
}
