{
 "cells": [
  {
   "cell_type": "markdown",
   "metadata": {},
   "source": [
    "## 6. Metaclasses and Attributes"
   ]
  },
  {
   "cell_type": "markdown",
   "metadata": {},
   "source": [
    "### 47 Use `__getattr__`, `__getattribute__`, and `__setattr__` for Lazy Attributes"
   ]
  },
  {
   "cell_type": "code",
   "execution_count": 2,
   "metadata": {},
   "outputs": [],
   "source": [
    "import logging"
   ]
  },
  {
   "cell_type": "code",
   "execution_count": 3,
   "metadata": {},
   "outputs": [],
   "source": [
    "class LazyRecord:\n",
    "    def __init__(self):\n",
    "        self.exists = 5\n",
    "\n",
    "    def __getattr__(self, name):\n",
    "        value = f'Value for {name}'\n",
    "        setattr(self, name, value)\n",
    "        return value"
   ]
  },
  {
   "cell_type": "code",
   "execution_count": 4,
   "metadata": {},
   "outputs": [
    {
     "name": "stdout",
     "output_type": "stream",
     "text": [
      "Before: {'exists': 5}\n",
      "foo:    Value for foo\n",
      "After:  {'exists': 5, 'foo': 'Value for foo'}\n"
     ]
    }
   ],
   "source": [
    "data = LazyRecord()\n",
    "print('Before:', data.__dict__)\n",
    "print('foo:   ', data.foo)\n",
    "print('After: ', data.__dict__)"
   ]
  },
  {
   "cell_type": "code",
   "execution_count": 5,
   "metadata": {},
   "outputs": [],
   "source": [
    "class LoggingLazyRecord(LazyRecord):\n",
    "    def __getattr__(self, name):\n",
    "        print(f'* Called __getattr__({name!r}), '\n",
    "              f'populating instance dictionary')\n",
    "        result = super().__getattr__(name)\n",
    "        print(f'* Returning {result!r}')\n",
    "        return result"
   ]
  },
  {
   "cell_type": "code",
   "execution_count": 6,
   "metadata": {},
   "outputs": [
    {
     "name": "stdout",
     "output_type": "stream",
     "text": [
      "exists:      5\n",
      "* Called __getattr__('foo'), populating instance dictionary\n",
      "* Returning 'Value for foo'\n",
      "First foo:   Value for foo\n",
      "Second foo:  Value for foo\n"
     ]
    }
   ],
   "source": [
    "data = LoggingLazyRecord()\n",
    "print('exists:     ', data.exists)\n",
    "print('First foo:  ', data.foo)\n",
    "print('Second foo: ', data.foo)"
   ]
  },
  {
   "cell_type": "code",
   "execution_count": 7,
   "metadata": {},
   "outputs": [],
   "source": [
    "class ValidatingRecord:\n",
    "    def __init__(self):\n",
    "        self.exists = 5\n",
    "\n",
    "    def __getattribute__(self, name):\n",
    "        print(f'* Called __getattribute__({name!r})')\n",
    "        try:\n",
    "            value = super().__getattribute__(name)\n",
    "            print(f'* Found {name!r}, returning {value!r}')\n",
    "            return value\n",
    "        except AttributeError:\n",
    "            value = f'Value for {name}'\n",
    "            print(f'* Setting {name!r} to {value!r}')\n",
    "            setattr(self, name, value)\n",
    "            return value"
   ]
  },
  {
   "cell_type": "code",
   "execution_count": 8,
   "metadata": {},
   "outputs": [
    {
     "name": "stdout",
     "output_type": "stream",
     "text": [
      "* Called __getattribute__('exists')\n",
      "* Found 'exists', returning 5\n",
      "exists:      5\n",
      "* Called __getattribute__('foo')\n",
      "* Setting 'foo' to 'Value for foo'\n",
      "First foo:   Value for foo\n",
      "* Called __getattribute__('foo')\n",
      "* Found 'foo', returning 'Value for foo'\n",
      "Second foo:  Value for foo\n"
     ]
    }
   ],
   "source": [
    "data = ValidatingRecord()\n",
    "print('exists:     ', data.exists)\n",
    "print('First foo:  ', data.foo)\n",
    "print('Second foo: ', data.foo)"
   ]
  },
  {
   "cell_type": "code",
   "execution_count": 9,
   "metadata": {},
   "outputs": [
    {
     "name": "stderr",
     "output_type": "stream",
     "text": [
      "ERROR:root:Expected\n",
      "Traceback (most recent call last):\n",
      "  File \"<ipython-input-9-7aefe36601dc>\", line 12, in <module>\n",
      "    data.bad_name\n",
      "  File \"<ipython-input-9-7aefe36601dc>\", line 4, in __getattr__\n",
      "    raise AttributeError(f'{name} is missing')\n",
      "AttributeError: bad_name is missing\n"
     ]
    }
   ],
   "source": [
    "class MissingPropertyRecord:\n",
    "    def __getattr__(self, name):\n",
    "        if name == 'bad_name':\n",
    "            raise AttributeError(f'{name} is missing')\n",
    "        value = f'Value for {name}'\n",
    "        setattr(self, name, value)\n",
    "        return value\n",
    "\n",
    "try:\n",
    "    data = MissingPropertyRecord()\n",
    "    assert data.foo == 'Value for foo'  # Test this works\n",
    "    data.bad_name\n",
    "except:\n",
    "    logging.exception('Expected')\n",
    "else:\n",
    "    assert False"
   ]
  },
  {
   "cell_type": "code",
   "execution_count": 10,
   "metadata": {},
   "outputs": [
    {
     "name": "stdout",
     "output_type": "stream",
     "text": [
      "Before:          {'exists': 5}\n",
      "* Called __getattr__('foo'), populating instance dictionary\n",
      "* Returning 'Value for foo'\n",
      "Has first foo:   True\n",
      "After:           {'exists': 5, 'foo': 'Value for foo'}\n",
      "Has second foo:  True\n"
     ]
    }
   ],
   "source": [
    "data = LoggingLazyRecord()  # Implements __getattr__\n",
    "print('Before:         ', data.__dict__)\n",
    "print('Has first foo:  ', hasattr(data, 'foo'))\n",
    "print('After:          ', data.__dict__)\n",
    "print('Has second foo: ', hasattr(data, 'foo'))"
   ]
  },
  {
   "cell_type": "code",
   "execution_count": 11,
   "metadata": {},
   "outputs": [
    {
     "name": "stdout",
     "output_type": "stream",
     "text": [
      "* Called __getattribute__('foo')\n",
      "* Setting 'foo' to 'Value for foo'\n",
      "Has first foo:   True\n",
      "* Called __getattribute__('foo')\n",
      "* Found 'foo', returning 'Value for foo'\n",
      "Has second foo:  True\n"
     ]
    }
   ],
   "source": [
    "data = ValidatingRecord()  # Implements __getattribute__\n",
    "print('Has first foo:  ', hasattr(data, 'foo'))\n",
    "print('Has second foo: ', hasattr(data, 'foo'))"
   ]
  },
  {
   "cell_type": "code",
   "execution_count": 12,
   "metadata": {},
   "outputs": [],
   "source": [
    "class SavingRecord:\n",
    "    def __setattr__(self, name, value):\n",
    "        # Save some data for the record\n",
    "        pass\n",
    "        super().__setattr__(name, value)"
   ]
  },
  {
   "cell_type": "code",
   "execution_count": 13,
   "metadata": {},
   "outputs": [
    {
     "name": "stdout",
     "output_type": "stream",
     "text": [
      "Before:  {}\n",
      "* Called __setattr__('foo', 5)\n",
      "After:   {'foo': 5}\n",
      "* Called __setattr__('foo', 7)\n",
      "Finally: {'foo': 7}\n"
     ]
    }
   ],
   "source": [
    "class LoggingSavingRecord(SavingRecord):\n",
    "    def __setattr__(self, name, value):\n",
    "        print(f'* Called __setattr__({name!r}, {value!r})')\n",
    "        super().__setattr__(name, value)\n",
    "\n",
    "data = LoggingSavingRecord()\n",
    "print('Before: ', data.__dict__)\n",
    "data.foo = 5\n",
    "print('After:  ', data.__dict__)\n",
    "data.foo = 7\n",
    "print('Finally:', data.__dict__)"
   ]
  },
  {
   "cell_type": "markdown",
   "metadata": {},
   "source": [
    "```python\n",
    "# ex11.py\n",
    "\n",
    "class BrokenDictionaryRecord:\n",
    "    def __init__(self, data):\n",
    "        self._data = {}\n",
    "\n",
    "    def __getattribute__(self, name):\n",
    "        print(f'* Called __getattribute__({name!r})')\n",
    "        return self._data[name]\n",
    "\n",
    "data = BrokenDictionaryRecord({'foo': 3})\n",
    "data.foo\n",
    "```"
   ]
  },
  {
   "cell_type": "markdown",
   "metadata": {},
   "source": [
    "```shell\n",
    "$ python item_47_ex_11.py \n",
    "* Called __getattribute__('foo')\n",
    "* Called __getattribute__('_data')\n",
    "... (993)\n",
    "* Called __getattribute__('_data')\n",
    "Traceback (most recent call last):\n",
    "  File \"item_47_ex_11.py\", line 12, in <module>\n",
    "    data.foo\n",
    "  File \"item_47_ex_11.py\", line 9, in __getattribute__\n",
    "    return self._data[name]\n",
    "  File \"item_47_ex_11.py\", line 9, in __getattribute__\n",
    "    return self._data[name]\n",
    "  File \"item_47_ex_11.py\", line 9, in __getattribute__\n",
    "    return self._data[name]\n",
    "  [Previous line repeated 992 more times]\n",
    "  File \"item_47_ex_11.py\", line 8, in __getattribute__\n",
    "    print(f'* Called __getattribute__({name!r})')\n",
    "RecursionError: maximum recursion depth exceeded while calling a Python object\n",
    "```"
   ]
  },
  {
   "cell_type": "code",
   "execution_count": 16,
   "metadata": {},
   "outputs": [
    {
     "name": "stdout",
     "output_type": "stream",
     "text": [
      "* Called __getattribute__('foo')\n",
      "foo:  3\n"
     ]
    }
   ],
   "source": [
    "class DictionaryRecord:\n",
    "    def __init__(self, data):\n",
    "        self._data = data\n",
    "\n",
    "    def __getattribute__(self, name):\n",
    "        # Prevent weird interactions with isinstance() used\n",
    "        # by example code harness.\n",
    "        if name == '__class__':\n",
    "            return DictionaryRecord\n",
    "        print(f'* Called __getattribute__({name!r})')\n",
    "        data_dict = super().__getattribute__('_data')\n",
    "        return data_dict[name]\n",
    "\n",
    "data = DictionaryRecord({'foo': 3})\n",
    "print('foo: ', data.foo)"
   ]
  },
  {
   "cell_type": "markdown",
   "metadata": {},
   "source": [
    "> - `__getattr__`과 `__setattr__`을 사용해 객체의 애트리뷰트를 지연해 가져오거나 저장할 수 있다.\n",
    "> - `__getattr__`은 애트리뷰트가 존재하지 않을 때만 호출되지만, `__getattribute__`는 애트리뷰트를 읽을 때마다 항상 호출된다는 점을 이해하라.\n",
    "> - `__getattribute__`와 `__setattr__`에서 무한 재귀를 피하려면 `super()`에 있는(즉, `object` 클래스에 있는) 메서드를 사용해 인스턴스 애트리뷰트에 접근하라."
   ]
  },
  {
   "cell_type": "code",
   "execution_count": null,
   "metadata": {},
   "outputs": [],
   "source": []
  }
 ],
 "metadata": {
  "kernelspec": {
   "display_name": "Python 3",
   "language": "python",
   "name": "python3"
  },
  "language_info": {
   "codemirror_mode": {
    "name": "ipython",
    "version": 3
   },
   "file_extension": ".py",
   "mimetype": "text/x-python",
   "name": "python",
   "nbconvert_exporter": "python",
   "pygments_lexer": "ipython3",
   "version": "3.8.7"
  }
 },
 "nbformat": 4,
 "nbformat_minor": 4
}
