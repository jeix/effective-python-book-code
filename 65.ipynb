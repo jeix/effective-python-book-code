{
 "cells": [
  {
   "cell_type": "markdown",
   "metadata": {},
   "source": [
    "## 8. Robustness and Performance"
   ]
  },
  {
   "cell_type": "markdown",
   "metadata": {},
   "source": [
    "### 65 Take Advantage of Each Block in `try`/`except`/`else`/`finally`"
   ]
  },
  {
   "cell_type": "code",
   "execution_count": 1,
   "metadata": {},
   "outputs": [],
   "source": [
    "import logging"
   ]
  },
  {
   "cell_type": "code",
   "execution_count": 2,
   "metadata": {},
   "outputs": [],
   "source": [
    "def try_finally_example(filename):\n",
    "    print('* Opening file')\n",
    "    handle = open(filename, encoding='utf-8') # May raise OSError\n",
    "    try:\n",
    "        print('* Reading data')\n",
    "        return handle.read()  # May raise UnicodeDecodeError\n",
    "    finally:\n",
    "        print('* Calling close()')\n",
    "        handle.close()        # Always runs after try block"
   ]
  },
  {
   "cell_type": "code",
   "execution_count": 3,
   "metadata": {},
   "outputs": [
    {
     "name": "stderr",
     "output_type": "stream",
     "text": [
      "ERROR:root:Expected\n",
      "Traceback (most recent call last):\n",
      "  File \"<ipython-input-3-4e15b121efbf>\", line 7, in <module>\n",
      "    data = try_finally_example(filename)\n",
      "  File \"<ipython-input-2-c65eccd18c13>\", line 6, in try_finally_example\n",
      "    return handle.read()  # May raise UnicodeDecodeError\n",
      "  File \"/usr/local/lib/python3.8/codecs.py\", line 322, in decode\n",
      "    (result, consumed) = self._buffer_decode(data, self.errors, final)\n",
      "UnicodeDecodeError: 'utf-8' codec can't decode byte 0xf1 in position 0: invalid continuation byte\n"
     ]
    },
    {
     "name": "stdout",
     "output_type": "stream",
     "text": [
      "* Opening file\n",
      "* Reading data\n",
      "* Calling close()\n"
     ]
    }
   ],
   "source": [
    "filename = 'random_data.txt'\n",
    "\n",
    "with open(filename, 'wb') as f:\n",
    "    f.write(b'\\xf1\\xf2\\xf3\\xf4\\xf5')  # Invalid utf-8\n",
    "\n",
    "try:\n",
    "    data = try_finally_example(filename)\n",
    "    # This should not be reached.\n",
    "    import sys\n",
    "    sys.exit(1)\n",
    "except:\n",
    "    logging.exception('Expected')\n",
    "else:\n",
    "    assert False"
   ]
  },
  {
   "cell_type": "code",
   "execution_count": 4,
   "metadata": {},
   "outputs": [
    {
     "name": "stderr",
     "output_type": "stream",
     "text": [
      "ERROR:root:Expected\n",
      "Traceback (most recent call last):\n",
      "  File \"<ipython-input-4-68fef72a45b6>\", line 2, in <module>\n",
      "    try_finally_example('does_not_exist.txt')\n",
      "  File \"<ipython-input-2-c65eccd18c13>\", line 3, in try_finally_example\n",
      "    handle = open(filename, encoding='utf-8') # May raise OSError\n",
      "FileNotFoundError: [Errno 2] No such file or directory: 'does_not_exist.txt'\n"
     ]
    },
    {
     "name": "stdout",
     "output_type": "stream",
     "text": [
      "* Opening file\n"
     ]
    }
   ],
   "source": [
    "try:\n",
    "    try_finally_example('does_not_exist.txt')\n",
    "except:\n",
    "    logging.exception('Expected')\n",
    "else:\n",
    "    assert False"
   ]
  },
  {
   "cell_type": "code",
   "execution_count": 5,
   "metadata": {},
   "outputs": [],
   "source": [
    "import json"
   ]
  },
  {
   "cell_type": "code",
   "execution_count": 6,
   "metadata": {},
   "outputs": [],
   "source": [
    "def load_json_key(data, key):\n",
    "    try:\n",
    "        print('* Loading JSON data')\n",
    "        result_dict = json.loads(data)  # May raise ValueError\n",
    "    except ValueError as e:\n",
    "        print('* Handling ValueError')\n",
    "        raise KeyError(key) from e\n",
    "    else:\n",
    "        print('* Looking up key')\n",
    "        return result_dict[key]         # May raise KeyError"
   ]
  },
  {
   "cell_type": "code",
   "execution_count": 7,
   "metadata": {},
   "outputs": [
    {
     "name": "stdout",
     "output_type": "stream",
     "text": [
      "* Loading JSON data\n",
      "* Looking up key\n"
     ]
    }
   ],
   "source": [
    "assert load_json_key('{\"foo\": \"bar\"}', 'foo') == 'bar'"
   ]
  },
  {
   "cell_type": "code",
   "execution_count": 8,
   "metadata": {},
   "outputs": [
    {
     "name": "stderr",
     "output_type": "stream",
     "text": [
      "ERROR:root:Expected\n",
      "Traceback (most recent call last):\n",
      "  File \"<ipython-input-6-89f4737e3fac>\", line 4, in load_json_key\n",
      "    result_dict = json.loads(data)  # May raise ValueError\n",
      "  File \"/usr/local/lib/python3.8/json/__init__.py\", line 357, in loads\n",
      "    return _default_decoder.decode(s)\n",
      "  File \"/usr/local/lib/python3.8/json/decoder.py\", line 337, in decode\n",
      "    obj, end = self.raw_decode(s, idx=_w(s, 0).end())\n",
      "  File \"/usr/local/lib/python3.8/json/decoder.py\", line 355, in raw_decode\n",
      "    raise JSONDecodeError(\"Expecting value\", s, err.value) from None\n",
      "json.decoder.JSONDecodeError: Expecting value: line 1 column 9 (char 8)\n",
      "\n",
      "The above exception was the direct cause of the following exception:\n",
      "\n",
      "Traceback (most recent call last):\n",
      "  File \"<ipython-input-8-f3d18efb877c>\", line 2, in <module>\n",
      "    load_json_key('{\"foo\": bad payload', 'foo')\n",
      "  File \"<ipython-input-6-89f4737e3fac>\", line 7, in load_json_key\n",
      "    raise KeyError(key) from e\n",
      "KeyError: 'foo'\n"
     ]
    },
    {
     "name": "stdout",
     "output_type": "stream",
     "text": [
      "* Loading JSON data\n",
      "* Handling ValueError\n"
     ]
    }
   ],
   "source": [
    "try:\n",
    "    load_json_key('{\"foo\": bad payload', 'foo')\n",
    "except:\n",
    "    logging.exception('Expected')\n",
    "else:\n",
    "    assert False"
   ]
  },
  {
   "cell_type": "code",
   "execution_count": 9,
   "metadata": {},
   "outputs": [
    {
     "name": "stderr",
     "output_type": "stream",
     "text": [
      "ERROR:root:Expected\n",
      "Traceback (most recent call last):\n",
      "  File \"<ipython-input-9-69ce2b80d504>\", line 2, in <module>\n",
      "    load_json_key('{\"foo\": \"bar\"}', 'does not exist')\n",
      "  File \"<ipython-input-6-89f4737e3fac>\", line 10, in load_json_key\n",
      "    return result_dict[key]         # May raise KeyError\n",
      "KeyError: 'does not exist'\n"
     ]
    },
    {
     "name": "stdout",
     "output_type": "stream",
     "text": [
      "* Loading JSON data\n",
      "* Looking up key\n"
     ]
    }
   ],
   "source": [
    "try:\n",
    "    load_json_key('{\"foo\": \"bar\"}', 'does not exist')\n",
    "except:\n",
    "    logging.exception('Expected')\n",
    "else:\n",
    "    assert False"
   ]
  },
  {
   "cell_type": "code",
   "execution_count": 10,
   "metadata": {},
   "outputs": [],
   "source": [
    "UNDEFINED = object()\n",
    "DIE_IN_ELSE_BLOCK = False\n",
    "\n",
    "def divide_json(path):\n",
    "    print('* Opening file')\n",
    "    handle = open(path, 'r+')   # May raise OSError\n",
    "    try:\n",
    "        print('* Reading data')\n",
    "        data = handle.read()    # May raise UnicodeDecodeError\n",
    "        print('* Loading JSON data')\n",
    "        op = json.loads(data)   # May raise ValueError\n",
    "        print('* Performing calculation')\n",
    "        value = (\n",
    "            op['numerator'] /\n",
    "            op['denominator'])  # May raise ZeroDivisionError\n",
    "    except ZeroDivisionError as e:\n",
    "        print('* Handling ZeroDivisionError')\n",
    "        return UNDEFINED\n",
    "    else:\n",
    "        print('* Writing calculation')\n",
    "        op['result'] = value\n",
    "        result = json.dumps(op)\n",
    "        handle.seek(0)          # May raise OSError\n",
    "        if DIE_IN_ELSE_BLOCK:\n",
    "            import errno\n",
    "            import os\n",
    "            raise OSError(errno.ENOSPC, os.strerror(errno.ENOSPC))\n",
    "        handle.write(result)    # May raise OSError\n",
    "        return value\n",
    "    finally:\n",
    "        print('* Calling close()')\n",
    "        handle.close()          # Always runs"
   ]
  },
  {
   "cell_type": "code",
   "execution_count": 11,
   "metadata": {},
   "outputs": [],
   "source": [
    "temp_path = 'random_data.json'"
   ]
  },
  {
   "cell_type": "code",
   "execution_count": 12,
   "metadata": {},
   "outputs": [
    {
     "name": "stdout",
     "output_type": "stream",
     "text": [
      "* Opening file\n",
      "* Reading data\n",
      "* Loading JSON data\n",
      "* Performing calculation\n",
      "* Writing calculation\n",
      "* Calling close()\n"
     ]
    }
   ],
   "source": [
    "with open(temp_path, 'w') as f:\n",
    "    f.write('{\"numerator\": 1, \"denominator\": 10}')\n",
    "\n",
    "assert divide_json(temp_path) == 0.1"
   ]
  },
  {
   "cell_type": "code",
   "execution_count": 13,
   "metadata": {},
   "outputs": [
    {
     "name": "stdout",
     "output_type": "stream",
     "text": [
      "* Opening file\n",
      "* Reading data\n",
      "* Loading JSON data\n",
      "* Performing calculation\n",
      "* Handling ZeroDivisionError\n",
      "* Calling close()\n"
     ]
    }
   ],
   "source": [
    "with open(temp_path, 'w') as f:\n",
    "    f.write('{\"numerator\": 1, \"denominator\": 0}')\n",
    "\n",
    "assert divide_json(temp_path) is UNDEFINED"
   ]
  },
  {
   "cell_type": "code",
   "execution_count": 14,
   "metadata": {},
   "outputs": [
    {
     "name": "stderr",
     "output_type": "stream",
     "text": [
      "ERROR:root:Expected\n",
      "Traceback (most recent call last):\n",
      "  File \"<ipython-input-14-f703666c83e2>\", line 5, in <module>\n",
      "    divide_json(temp_path)\n",
      "  File \"<ipython-input-10-9711f152fafb>\", line 11, in divide_json\n",
      "    op = json.loads(data)   # May raise ValueError\n",
      "  File \"/usr/local/lib/python3.8/json/__init__.py\", line 357, in loads\n",
      "    return _default_decoder.decode(s)\n",
      "  File \"/usr/local/lib/python3.8/json/decoder.py\", line 337, in decode\n",
      "    obj, end = self.raw_decode(s, idx=_w(s, 0).end())\n",
      "  File \"/usr/local/lib/python3.8/json/decoder.py\", line 353, in raw_decode\n",
      "    obj, end = self.scan_once(s, idx)\n",
      "json.decoder.JSONDecodeError: Expecting ',' delimiter: line 1 column 17 (char 16)\n"
     ]
    },
    {
     "name": "stdout",
     "output_type": "stream",
     "text": [
      "* Opening file\n",
      "* Reading data\n",
      "* Loading JSON data\n",
      "* Calling close()\n"
     ]
    }
   ],
   "source": [
    "with open(temp_path, 'w') as f:\n",
    "    f.write('{\"numerator\": 1 bad data')\n",
    "\n",
    "try:\n",
    "    divide_json(temp_path)\n",
    "except:\n",
    "    logging.exception('Expected')\n",
    "else:\n",
    "    assert False"
   ]
  },
  {
   "cell_type": "code",
   "execution_count": 15,
   "metadata": {},
   "outputs": [
    {
     "name": "stderr",
     "output_type": "stream",
     "text": [
      "ERROR:root:Expected\n",
      "Traceback (most recent call last):\n",
      "  File \"<ipython-input-15-e5ecb888209e>\", line 7, in <module>\n",
      "    divide_json(temp_path)\n",
      "  File \"<ipython-input-10-9711f152fafb>\", line 27, in divide_json\n",
      "    raise OSError(errno.ENOSPC, os.strerror(errno.ENOSPC))\n",
      "OSError: [Errno 28] No space left on device\n"
     ]
    },
    {
     "name": "stdout",
     "output_type": "stream",
     "text": [
      "* Opening file\n",
      "* Reading data\n",
      "* Loading JSON data\n",
      "* Performing calculation\n",
      "* Writing calculation\n",
      "* Calling close()\n"
     ]
    }
   ],
   "source": [
    "DIE_IN_ELSE_BLOCK = True\n",
    "\n",
    "with open(temp_path, 'w') as f:\n",
    "    f.write('{\"numerator\": 1, \"denominator\": 10}')\n",
    "\n",
    "try:\n",
    "    divide_json(temp_path)\n",
    "except:\n",
    "    logging.exception('Expected')\n",
    "else:\n",
    "    assert False"
   ]
  },
  {
   "cell_type": "markdown",
   "metadata": {},
   "source": [
    "> - `try`/`finally` 복합문을 사용하면 `try` 블록이 실행되는 동안 예외가 발생하든 발생하지 않든 정리 코드를 실행할 수 있다.\n",
    "> - `else` 블록을 사용하면 `try` 블록 안에 넣을 코드를 최소화하고, `try`/`except` 블록과 성공적인 경우에 수행해야 할 코드를 시각적으로 구분할 수 있다.\n",
    "> - `try` 블록이 성공적으로 처리되고 `finally` 블록이 공통적인 정리 작업을 수행하기 전에 실행해야 하는 동작이 있는 경우 `else` 블록을 사용할 수 있다."
   ]
  },
  {
   "cell_type": "code",
   "execution_count": null,
   "metadata": {},
   "outputs": [],
   "source": []
  }
 ],
 "metadata": {
  "kernelspec": {
   "display_name": "Python 3",
   "language": "python",
   "name": "python3"
  },
  "language_info": {
   "codemirror_mode": {
    "name": "ipython",
    "version": 3
   },
   "file_extension": ".py",
   "mimetype": "text/x-python",
   "name": "python",
   "nbconvert_exporter": "python",
   "pygments_lexer": "ipython3",
   "version": "3.8.7"
  }
 },
 "nbformat": 4,
 "nbformat_minor": 5
}
