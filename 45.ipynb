{
 "cells": [
  {
   "cell_type": "markdown",
   "metadata": {},
   "source": [
    "## 6. Metaclasses and Attributes"
   ]
  },
  {
   "cell_type": "markdown",
   "metadata": {},
   "source": [
    "### 45 Consider `@property` Instead of Refactoring Attributes"
   ]
  },
  {
   "cell_type": "code",
   "execution_count": 1,
   "metadata": {},
   "outputs": [],
   "source": [
    "from datetime import datetime, timedelta"
   ]
  },
  {
   "cell_type": "code",
   "execution_count": 2,
   "metadata": {},
   "outputs": [],
   "source": [
    "class Bucket:\n",
    "    def __init__(self, period):\n",
    "        self.period_delta = timedelta(seconds=period)\n",
    "        self.reset_time = datetime.now()\n",
    "        self.quota = 0\n",
    "\n",
    "    def __repr__(self):\n",
    "        return f'Bucket(quota={self.quota})'"
   ]
  },
  {
   "cell_type": "code",
   "execution_count": 3,
   "metadata": {},
   "outputs": [],
   "source": [
    "def fill(bucket, amount):\n",
    "    now = datetime.now()\n",
    "    if (now - bucket.reset_time) > bucket.period_delta:\n",
    "        bucket.quota = 0\n",
    "        bucket.reset_time = now\n",
    "    bucket.quota += amount"
   ]
  },
  {
   "cell_type": "code",
   "execution_count": 4,
   "metadata": {},
   "outputs": [],
   "source": [
    "def deduct(bucket, amount):\n",
    "    now = datetime.now()\n",
    "    if (now - bucket.reset_time) > bucket.period_delta:\n",
    "        return False  # Bucket hasn't been filled this period\n",
    "    if bucket.quota - amount < 0:\n",
    "        return False  # Bucket was filled, but not enough\n",
    "    bucket.quota -= amount\n",
    "    return True       # Bucket had enough, quota consumed"
   ]
  },
  {
   "cell_type": "code",
   "execution_count": 5,
   "metadata": {},
   "outputs": [
    {
     "name": "stdout",
     "output_type": "stream",
     "text": [
      "Bucket(quota=100)\n"
     ]
    }
   ],
   "source": [
    "bucket = Bucket(60)\n",
    "fill(bucket, 100)\n",
    "print(bucket)"
   ]
  },
  {
   "cell_type": "code",
   "execution_count": 6,
   "metadata": {},
   "outputs": [
    {
     "name": "stdout",
     "output_type": "stream",
     "text": [
      "Had 99 quota\n",
      "Bucket(quota=1)\n"
     ]
    }
   ],
   "source": [
    "if deduct(bucket, 99):\n",
    "    print('Had 99 quota')\n",
    "else:\n",
    "    print('Not enough for 99 quota')\n",
    "print(bucket)"
   ]
  },
  {
   "cell_type": "code",
   "execution_count": 7,
   "metadata": {},
   "outputs": [
    {
     "name": "stdout",
     "output_type": "stream",
     "text": [
      "Not enough for 3 quota\n",
      "Bucket(quota=1)\n"
     ]
    }
   ],
   "source": [
    "if deduct(bucket, 3):\n",
    "    print('Had 3 quota')\n",
    "else:\n",
    "    print('Not enough for 3 quota')\n",
    "print(bucket)"
   ]
  },
  {
   "cell_type": "code",
   "execution_count": 8,
   "metadata": {},
   "outputs": [],
   "source": [
    "class NewBucket:\n",
    "    def __init__(self, period):\n",
    "        self.period_delta = timedelta(seconds=period)\n",
    "        self.reset_time = datetime.now()\n",
    "        self.max_quota = 0\n",
    "        self.quota_consumed = 0\n",
    "\n",
    "    def __repr__(self):\n",
    "        return (f'NewBucket(max_quota={self.max_quota}, '\n",
    "                f'quota_consumed={self.quota_consumed})')\n",
    "\n",
    "    @property\n",
    "    def quota(self):\n",
    "        return self.max_quota - self.quota_consumed\n",
    "\n",
    "    @quota.setter\n",
    "    def quota(self, amount):\n",
    "        delta = self.max_quota - amount\n",
    "        if amount == 0:\n",
    "            # Quota being reset for a new period\n",
    "            self.quota_consumed = 0\n",
    "            self.max_quota = 0\n",
    "        elif delta < 0:\n",
    "            # Quota being filled for the new period\n",
    "            assert self.quota_consumed == 0\n",
    "            self.max_quota = amount\n",
    "        else:\n",
    "            # Quota being consumed during the period\n",
    "            assert self.max_quota >= self.quota_consumed\n",
    "            self.quota_consumed += delta"
   ]
  },
  {
   "cell_type": "code",
   "execution_count": 9,
   "metadata": {},
   "outputs": [
    {
     "name": "stdout",
     "output_type": "stream",
     "text": [
      "Initial NewBucket(max_quota=0, quota_consumed=0)\n",
      "Filled NewBucket(max_quota=100, quota_consumed=0)\n",
      "Had 99 quota\n",
      "Now NewBucket(max_quota=100, quota_consumed=99)\n",
      "Not enough for 3 quota\n",
      "Still NewBucket(max_quota=100, quota_consumed=99)\n"
     ]
    }
   ],
   "source": [
    "bucket = NewBucket(60)\n",
    "print('Initial', bucket)\n",
    "fill(bucket, 100)\n",
    "print('Filled', bucket)\n",
    "\n",
    "if deduct(bucket, 99):\n",
    "    print('Had 99 quota')\n",
    "else:\n",
    "    print('Not enough for 99 quota')\n",
    "\n",
    "print('Now', bucket)\n",
    "\n",
    "if deduct(bucket, 3):\n",
    "    print('Had 3 quota')\n",
    "else:\n",
    "    print('Not enough for 3 quota')\n",
    "\n",
    "print('Still', bucket)"
   ]
  },
  {
   "cell_type": "markdown",
   "metadata": {},
   "source": [
    "> - `@property`를 사용해 기존 인스턴스 애트리뷰트에 새로운 기능을 제공할 수 있다.\n",
    "> - `@property`를 사용해 데이터 모델을 점진적으로 개선하라.\n",
    "> - `@property` 메서드를 너무 과하게 쓰고 있다면, 클래스와 클래스를 사용하는 모든 코드를 리팩터링하는 것을 고려하라."
   ]
  },
  {
   "cell_type": "code",
   "execution_count": null,
   "metadata": {},
   "outputs": [],
   "source": []
  }
 ],
 "metadata": {
  "kernelspec": {
   "display_name": "Python 3",
   "language": "python",
   "name": "python3"
  },
  "language_info": {
   "codemirror_mode": {
    "name": "ipython",
    "version": 3
   },
   "file_extension": ".py",
   "mimetype": "text/x-python",
   "name": "python",
   "nbconvert_exporter": "python",
   "pygments_lexer": "ipython3",
   "version": "3.8.7"
  }
 },
 "nbformat": 4,
 "nbformat_minor": 5
}
