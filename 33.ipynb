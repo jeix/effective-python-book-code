{
 "cells": [
  {
   "cell_type": "markdown",
   "metadata": {},
   "source": [
    "## 4. Comprehensions and Generators"
   ]
  },
  {
   "cell_type": "markdown",
   "metadata": {},
   "source": [
    "### 33 Compose Multiple Generators with `yield from`"
   ]
  },
  {
   "cell_type": "code",
   "execution_count": 1,
   "metadata": {},
   "outputs": [],
   "source": [
    "def move(period, speed):\n",
    "    for _ in range(period):\n",
    "        yield speed\n",
    "\n",
    "def pause(delay):\n",
    "    for _ in range(delay):\n",
    "        yield 0"
   ]
  },
  {
   "cell_type": "code",
   "execution_count": 2,
   "metadata": {},
   "outputs": [],
   "source": [
    "def animate():\n",
    "    for delta in move(4, 5.0):\n",
    "        yield delta\n",
    "    for delta in pause(3):\n",
    "        yield delta\n",
    "    for delta in move(2, 3.0):\n",
    "        yield delta"
   ]
  },
  {
   "cell_type": "code",
   "execution_count": 3,
   "metadata": {},
   "outputs": [],
   "source": [
    "def render(delta):\n",
    "    print(f'Delta: {delta:.1f}')\n",
    "    # Move the images onscreen\n",
    "\n",
    "def run(func):\n",
    "    for delta in func():\n",
    "        render(delta)"
   ]
  },
  {
   "cell_type": "code",
   "execution_count": 4,
   "metadata": {},
   "outputs": [
    {
     "name": "stdout",
     "output_type": "stream",
     "text": [
      "Delta: 5.0\n",
      "Delta: 5.0\n",
      "Delta: 5.0\n",
      "Delta: 5.0\n",
      "Delta: 0.0\n",
      "Delta: 0.0\n",
      "Delta: 0.0\n",
      "Delta: 3.0\n",
      "Delta: 3.0\n"
     ]
    }
   ],
   "source": [
    "run(animate)"
   ]
  },
  {
   "cell_type": "code",
   "execution_count": 5,
   "metadata": {},
   "outputs": [],
   "source": [
    "def animate_composed():\n",
    "    yield from move(4, 5.0)\n",
    "    yield from pause(3)\n",
    "    yield from move(2, 3.0)"
   ]
  },
  {
   "cell_type": "code",
   "execution_count": 6,
   "metadata": {},
   "outputs": [
    {
     "name": "stdout",
     "output_type": "stream",
     "text": [
      "Delta: 5.0\n",
      "Delta: 5.0\n",
      "Delta: 5.0\n",
      "Delta: 5.0\n",
      "Delta: 0.0\n",
      "Delta: 0.0\n",
      "Delta: 0.0\n",
      "Delta: 3.0\n",
      "Delta: 3.0\n"
     ]
    }
   ],
   "source": [
    "run(animate_composed)"
   ]
  },
  {
   "cell_type": "code",
   "execution_count": 7,
   "metadata": {},
   "outputs": [],
   "source": [
    "import timeit"
   ]
  },
  {
   "cell_type": "code",
   "execution_count": 8,
   "metadata": {},
   "outputs": [],
   "source": [
    "def child():\n",
    "    for i in range(1_000_000):\n",
    "        yield i\n",
    "\n",
    "def slow():\n",
    "    for i in child():\n",
    "        yield i\n",
    "\n",
    "def fast():\n",
    "    yield from child()"
   ]
  },
  {
   "cell_type": "code",
   "execution_count": 9,
   "metadata": {},
   "outputs": [
    {
     "name": "stdout",
     "output_type": "stream",
     "text": [
      "Manual nesting 5.33s\n"
     ]
    }
   ],
   "source": [
    "baseline = timeit.timeit(\n",
    "    stmt='for _ in slow(): pass',\n",
    "    globals=globals(),\n",
    "    number=50)\n",
    "print(f'Manual nesting {baseline:.2f}s')"
   ]
  },
  {
   "cell_type": "code",
   "execution_count": 10,
   "metadata": {},
   "outputs": [
    {
     "name": "stdout",
     "output_type": "stream",
     "text": [
      "Composed nesting 3.97s\n"
     ]
    }
   ],
   "source": [
    "comparison = timeit.timeit(\n",
    "    stmt='for _ in fast(): pass',\n",
    "    globals=globals(),\n",
    "    number=50)\n",
    "print(f'Composed nesting {comparison:.2f}s')"
   ]
  },
  {
   "cell_type": "code",
   "execution_count": 11,
   "metadata": {},
   "outputs": [
    {
     "name": "stdout",
     "output_type": "stream",
     "text": [
      "25.5% less time\n"
     ]
    }
   ],
   "source": [
    "reduction = -(comparison - baseline) / baseline\n",
    "print(f'{reduction:.1%} less time')"
   ]
  },
  {
   "cell_type": "markdown",
   "metadata": {},
   "source": [
    "> - `yield from` 식을 사용하면 여러 내장 제너레이터를 모아서 제너레이터 하나로 합성할 수 있다.\n",
    "> - 직접 내포된 제너레이터를 이터레이션하면서 각 제너레이터의 출력을 내보내는 걳보다 `yield from`을 사용하는 것이 성능 면에서 더 좋다."
   ]
  },
  {
   "cell_type": "code",
   "execution_count": null,
   "metadata": {},
   "outputs": [],
   "source": []
  }
 ],
 "metadata": {
  "kernelspec": {
   "display_name": "Python 3",
   "language": "python",
   "name": "python3"
  },
  "language_info": {
   "codemirror_mode": {
    "name": "ipython",
    "version": 3
   },
   "file_extension": ".py",
   "mimetype": "text/x-python",
   "name": "python",
   "nbconvert_exporter": "python",
   "pygments_lexer": "ipython3",
   "version": "3.8.7"
  }
 },
 "nbformat": 4,
 "nbformat_minor": 5
}
