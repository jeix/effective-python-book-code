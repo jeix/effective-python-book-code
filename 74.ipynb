{
 "cells": [
  {
   "cell_type": "markdown",
   "metadata": {},
   "source": [
    "## 8. Robustness and Performance"
   ]
  },
  {
   "cell_type": "markdown",
   "metadata": {},
   "source": [
    "### 74 Consider `memoryview` and `bytearray` for Zero-Copy Interactions with bytes"
   ]
  },
  {
   "cell_type": "code",
   "execution_count": 1,
   "metadata": {},
   "outputs": [],
   "source": [
    "import logging"
   ]
  },
  {
   "cell_type": "code",
   "execution_count": 2,
   "metadata": {},
   "outputs": [],
   "source": [
    "def timecode_to_index(video_id, timecode):\n",
    "    return 1234\n",
    "    # Returns the byte offset in the video data\n",
    "\n",
    "def request_chunk(video_id, byte_offset, size):\n",
    "    pass\n",
    "    # Returns size bytes of video_id's data from the offset"
   ]
  },
  {
   "cell_type": "code",
   "execution_count": 3,
   "metadata": {},
   "outputs": [],
   "source": [
    "video_id = ...\n",
    "timecode = '01:09:14:28'\n",
    "byte_offset = timecode_to_index(video_id, timecode)\n",
    "size = 20 * 1024 * 1024\n",
    "video_data = request_chunk(video_id, byte_offset, size)"
   ]
  },
  {
   "cell_type": "code",
   "execution_count": 4,
   "metadata": {},
   "outputs": [],
   "source": [
    "class NullSocket:\n",
    "    def __init__(self):\n",
    "        self.handle = open(os.devnull, 'wb')\n",
    "\n",
    "    def send(self, data):\n",
    "        self.handle.write(data)"
   ]
  },
  {
   "cell_type": "code",
   "execution_count": 5,
   "metadata": {},
   "outputs": [],
   "source": [
    "socket = ...             # socket connection to client\n",
    "video_data = ...         # bytes containing data for video_id\n",
    "byte_offset = ...        # Requested starting position\n",
    "size = 20 * 1024 * 1024  # Requested chunk size\n",
    "import os\n",
    "\n",
    "socket = NullSocket()\n",
    "video_data = 100 * os.urandom(1024 * 1024)\n",
    "byte_offset = 1234\n",
    "\n",
    "chunk = video_data[byte_offset:byte_offset + size]\n",
    "socket.send(chunk)"
   ]
  },
  {
   "cell_type": "code",
   "execution_count": 6,
   "metadata": {},
   "outputs": [],
   "source": [
    "import timeit"
   ]
  },
  {
   "cell_type": "code",
   "execution_count": 7,
   "metadata": {},
   "outputs": [
    {
     "name": "stdout",
     "output_type": "stream",
     "text": [
      "0.002842635 seconds\n"
     ]
    }
   ],
   "source": [
    "def run_test():\n",
    "    chunk = video_data[byte_offset:byte_offset + size]\n",
    "    # Call socket.send(chunk), but ignoring for benchmark\n",
    "\n",
    "result = timeit.timeit(\n",
    "    stmt='run_test()',\n",
    "    globals=globals(),\n",
    "    number=100) / 100\n",
    "\n",
    "print(f'{result:0.9f} seconds')"
   ]
  },
  {
   "cell_type": "code",
   "execution_count": 8,
   "metadata": {},
   "outputs": [
    {
     "name": "stdout",
     "output_type": "stream",
     "text": [
      "<memory at 0x7f2ad18ca880>\n",
      "Size:            7\n",
      "Data in view:    b'haircut'\n",
      "Underlying data: b'shave and a haircut, two bits'\n"
     ]
    }
   ],
   "source": [
    "data = b'shave and a haircut, two bits'\n",
    "view = memoryview(data)\n",
    "chunk = view[12:19]\n",
    "print(chunk)\n",
    "print('Size:           ', chunk.nbytes)\n",
    "print('Data in view:   ', chunk.tobytes())\n",
    "print('Underlying data:', chunk.obj)"
   ]
  },
  {
   "cell_type": "code",
   "execution_count": 9,
   "metadata": {},
   "outputs": [],
   "source": [
    "video_view = memoryview(video_data)"
   ]
  },
  {
   "cell_type": "code",
   "execution_count": 10,
   "metadata": {},
   "outputs": [
    {
     "name": "stdout",
     "output_type": "stream",
     "text": [
      "0.000000435 seconds\n"
     ]
    }
   ],
   "source": [
    "def run_test():\n",
    "    chunk = video_view[byte_offset:byte_offset + size]\n",
    "    # Call socket.send(chunk), but ignoring for benchmark\n",
    "\n",
    "result = timeit.timeit(\n",
    "    stmt='run_test()',\n",
    "    globals=globals(),\n",
    "    number=100) / 100\n",
    "\n",
    "print(f'{result:0.9f} seconds')"
   ]
  },
  {
   "cell_type": "code",
   "execution_count": 11,
   "metadata": {},
   "outputs": [],
   "source": [
    "class FakeSocket:\n",
    "\n",
    "    def recv(self, size):\n",
    "        return video_view[byte_offset:byte_offset+size]\n",
    "\n",
    "    def recv_into(self, buffer):\n",
    "        source_data = video_view[byte_offset:byte_offset+size]\n",
    "        buffer[:] = source_data"
   ]
  },
  {
   "cell_type": "code",
   "execution_count": 12,
   "metadata": {},
   "outputs": [],
   "source": [
    "socket = ...        # socket connection to the client\n",
    "video_cache = ...   # Cache of incoming video stream\n",
    "byte_offset = ...   # Incoming buffer position\n",
    "size = 1024 * 1024  # Incoming chunk size\n",
    "socket = FakeSocket()\n",
    "video_cache = video_data[:]\n",
    "byte_offset = 1234\n",
    "\n",
    "chunk = socket.recv(size)\n",
    "video_view = memoryview(video_cache)\n",
    "before = video_view[:byte_offset]\n",
    "after = video_view[byte_offset + size:]\n",
    "new_cache = b''.join([before, chunk, after])"
   ]
  },
  {
   "cell_type": "code",
   "execution_count": 13,
   "metadata": {},
   "outputs": [
    {
     "name": "stdout",
     "output_type": "stream",
     "text": [
      "0.018530717 seconds\n"
     ]
    }
   ],
   "source": [
    "def run_test():\n",
    "    chunk = socket.recv(size)\n",
    "    before = video_view[:byte_offset]\n",
    "    after = video_view[byte_offset + size:]\n",
    "    new_cache = b''.join([before, chunk, after])\n",
    "\n",
    "result = timeit.timeit(\n",
    "    stmt='run_test()',\n",
    "    globals=globals(),\n",
    "    number=100) / 100\n",
    "\n",
    "print(f'{result:0.9f} seconds')"
   ]
  },
  {
   "cell_type": "code",
   "execution_count": 14,
   "metadata": {},
   "outputs": [
    {
     "name": "stderr",
     "output_type": "stream",
     "text": [
      "ERROR:root:Expected\n",
      "Traceback (most recent call last):\n",
      "  File \"<ipython-input-14-0d564a76e18d>\", line 3, in <module>\n",
      "    my_bytes[0] = b'\\x79'\n",
      "TypeError: 'bytes' object does not support item assignment\n"
     ]
    }
   ],
   "source": [
    "try:\n",
    "    my_bytes = b'hello'\n",
    "    my_bytes[0] = b'\\x79'\n",
    "except:\n",
    "    logging.exception('Expected')\n",
    "else:\n",
    "    assert False"
   ]
  },
  {
   "cell_type": "code",
   "execution_count": 15,
   "metadata": {},
   "outputs": [
    {
     "name": "stdout",
     "output_type": "stream",
     "text": [
      "bytearray(b'yello \\xec\\x95\\x88\\xeb\\x85\\x95')\n"
     ]
    }
   ],
   "source": [
    "my_array = bytearray(b'hello')\n",
    "my_array = bytearray('hello 안녕'.encode(\"utf8\"))\n",
    "my_array[0] = 0x79\n",
    "print(my_array)"
   ]
  },
  {
   "cell_type": "code",
   "execution_count": 16,
   "metadata": {},
   "outputs": [
    {
     "name": "stdout",
     "output_type": "stream",
     "text": [
      "bytearray(b'row-10 bytes- your \\xeb\\xb3\\xb4\\xed\\x8a\\xb8')\n"
     ]
    }
   ],
   "source": [
    "my_array = bytearray(b'row, row, row your boat')\n",
    "my_array = bytearray('row, row, row your 보트'.encode(\"utf8\"))\n",
    "my_view = memoryview(my_array)\n",
    "write_view = my_view[3:13]\n",
    "write_view[:] = b'-10 bytes-'\n",
    "print(my_array)"
   ]
  },
  {
   "cell_type": "code",
   "execution_count": 17,
   "metadata": {},
   "outputs": [],
   "source": [
    "video_array = bytearray(video_cache)\n",
    "write_view = memoryview(video_array)\n",
    "chunk = write_view[byte_offset:byte_offset + size]\n",
    "socket.recv_into(chunk)"
   ]
  },
  {
   "cell_type": "code",
   "execution_count": 18,
   "metadata": {},
   "outputs": [
    {
     "name": "stdout",
     "output_type": "stream",
     "text": [
      "0.000100957 seconds\n"
     ]
    }
   ],
   "source": [
    "def run_test():\n",
    "    chunk = write_view[byte_offset:byte_offset + size]\n",
    "    socket.recv_into(chunk)\n",
    "\n",
    "result = timeit.timeit(\n",
    "    stmt='run_test()',\n",
    "    globals=globals(),\n",
    "    number=100) / 100\n",
    "\n",
    "print(f'{result:0.9f} seconds')"
   ]
  },
  {
   "cell_type": "markdown",
   "metadata": {},
   "source": [
    "> - `memoryview` 내장 타입은 객체의 스라이스에 대해 파이썬 고성능 버퍼 프로토콜로 읽고 쓰기를 지원하는, 복사가 없는 인터페이스를 제공한다.\n",
    "> - `bytearray` 내장 타입은 복사가 없는 읽기 함수(`socket.recv_from`과 같은)에 사용할 수 있는 `bytes`와 비슷한 변경 가능한 타입을 제공한다.\n",
    "> - `memoryview`로 `bytearray`를 감싸면 복사에 따른 비용을 추가 부담하지 않고도 수신받은 데이터를 버퍼에서 원하는 위치에 스플라이스할 수 있다."
   ]
  },
  {
   "cell_type": "code",
   "execution_count": null,
   "metadata": {},
   "outputs": [],
   "source": []
  }
 ],
 "metadata": {
  "kernelspec": {
   "display_name": "Python 3",
   "language": "python",
   "name": "python3"
  },
  "language_info": {
   "codemirror_mode": {
    "name": "ipython",
    "version": 3
   },
   "file_extension": ".py",
   "mimetype": "text/x-python",
   "name": "python",
   "nbconvert_exporter": "python",
   "pygments_lexer": "ipython3",
   "version": "3.8.7"
  }
 },
 "nbformat": 4,
 "nbformat_minor": 5
}
