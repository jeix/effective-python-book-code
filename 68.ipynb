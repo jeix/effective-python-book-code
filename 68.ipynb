{
 "cells": [
  {
   "cell_type": "markdown",
   "metadata": {},
   "source": [
    "## 8. Robustness and Performance"
   ]
  },
  {
   "cell_type": "markdown",
   "metadata": {},
   "source": [
    "### 68 Make `pickle` Reliable with `copyreg`"
   ]
  },
  {
   "cell_type": "code",
   "execution_count": 1,
   "metadata": {},
   "outputs": [],
   "source": [
    "import logging"
   ]
  },
  {
   "cell_type": "code",
   "execution_count": 2,
   "metadata": {},
   "outputs": [],
   "source": [
    "class GameState:\n",
    "    def __init__(self):\n",
    "        self.level = 0\n",
    "        self.lives = 4"
   ]
  },
  {
   "cell_type": "code",
   "execution_count": 3,
   "metadata": {},
   "outputs": [
    {
     "name": "stdout",
     "output_type": "stream",
     "text": [
      "{'level': 1, 'lives': 3}\n"
     ]
    }
   ],
   "source": [
    "state = GameState()\n",
    "state.level += 1  # Player beat a level\n",
    "state.lives -= 1  # Player had to try again\n",
    "\n",
    "print(state.__dict__)"
   ]
  },
  {
   "cell_type": "code",
   "execution_count": 4,
   "metadata": {},
   "outputs": [],
   "source": [
    "import pickle"
   ]
  },
  {
   "cell_type": "code",
   "execution_count": 5,
   "metadata": {},
   "outputs": [],
   "source": [
    "state_path = 'game_state.bin'\n",
    "with open(state_path, 'wb') as f:\n",
    "    pickle.dump(state, f)"
   ]
  },
  {
   "cell_type": "code",
   "execution_count": 6,
   "metadata": {},
   "outputs": [
    {
     "name": "stdout",
     "output_type": "stream",
     "text": [
      "{'level': 1, 'lives': 3}\n"
     ]
    }
   ],
   "source": [
    "with open(state_path, 'rb') as f:\n",
    "    state_after = pickle.load(f)\n",
    "\n",
    "print(state_after.__dict__)"
   ]
  },
  {
   "cell_type": "code",
   "execution_count": 7,
   "metadata": {},
   "outputs": [],
   "source": [
    "class GameState:\n",
    "    def __init__(self):\n",
    "        self.level = 0\n",
    "        self.lives = 4\n",
    "        self.points = 0  # New field"
   ]
  },
  {
   "cell_type": "code",
   "execution_count": 8,
   "metadata": {},
   "outputs": [
    {
     "name": "stdout",
     "output_type": "stream",
     "text": [
      "{'level': 0, 'lives': 4, 'points': 0}\n"
     ]
    }
   ],
   "source": [
    "state = GameState()\n",
    "serialized = pickle.dumps(state)\n",
    "state_after = pickle.loads(serialized)\n",
    "\n",
    "print(state_after.__dict__)"
   ]
  },
  {
   "cell_type": "code",
   "execution_count": 9,
   "metadata": {},
   "outputs": [
    {
     "name": "stdout",
     "output_type": "stream",
     "text": [
      "{'level': 1, 'lives': 3}\n"
     ]
    }
   ],
   "source": [
    "with open(state_path, 'rb') as f:\n",
    "    state_after = pickle.load(f)\n",
    "\n",
    "print(state_after.__dict__)"
   ]
  },
  {
   "cell_type": "code",
   "execution_count": 10,
   "metadata": {},
   "outputs": [],
   "source": [
    "assert isinstance(state_after, GameState)"
   ]
  },
  {
   "cell_type": "code",
   "execution_count": 11,
   "metadata": {},
   "outputs": [],
   "source": [
    "class GameState:\n",
    "    def __init__(self, level=0, lives=4, points=0):\n",
    "        self.level = level\n",
    "        self.lives = lives\n",
    "        self.points = points"
   ]
  },
  {
   "cell_type": "code",
   "execution_count": 12,
   "metadata": {},
   "outputs": [],
   "source": [
    "def pickle_game_state(game_state):\n",
    "    kwargs = game_state.__dict__\n",
    "    return unpickle_game_state, (kwargs,)"
   ]
  },
  {
   "cell_type": "code",
   "execution_count": 13,
   "metadata": {},
   "outputs": [],
   "source": [
    "def unpickle_game_state(kwargs):\n",
    "    return GameState(**kwargs)"
   ]
  },
  {
   "cell_type": "code",
   "execution_count": 14,
   "metadata": {},
   "outputs": [],
   "source": [
    "import copyreg\n",
    "\n",
    "copyreg.pickle(GameState, pickle_game_state)"
   ]
  },
  {
   "cell_type": "code",
   "execution_count": 15,
   "metadata": {},
   "outputs": [
    {
     "name": "stdout",
     "output_type": "stream",
     "text": [
      "{'level': 0, 'lives': 4, 'points': 1000}\n"
     ]
    }
   ],
   "source": [
    "state = GameState()\n",
    "state.points += 1000\n",
    "serialized = pickle.dumps(state)\n",
    "state_after = pickle.loads(serialized)\n",
    "\n",
    "print(state_after.__dict__)"
   ]
  },
  {
   "cell_type": "code",
   "execution_count": 16,
   "metadata": {},
   "outputs": [],
   "source": [
    "class GameState:\n",
    "    def __init__(self, level=0, lives=4, points=0, magic=5):\n",
    "        self.level = level\n",
    "        self.lives = lives\n",
    "        self.points = points\n",
    "        self.magic = magic  # New field"
   ]
  },
  {
   "cell_type": "code",
   "execution_count": 17,
   "metadata": {},
   "outputs": [
    {
     "name": "stdout",
     "output_type": "stream",
     "text": [
      "Before: {'level': 0, 'lives': 4, 'points': 1000}\n",
      "After:  {'level': 0, 'lives': 4, 'points': 1000, 'magic': 5}\n"
     ]
    }
   ],
   "source": [
    "print('Before:', state.__dict__)\n",
    "state_after = pickle.loads(serialized)\n",
    "print('After: ', state_after.__dict__)"
   ]
  },
  {
   "cell_type": "code",
   "execution_count": 18,
   "metadata": {},
   "outputs": [],
   "source": [
    "class GameState:\n",
    "    def __init__(self, level=0, points=0, magic=5):\n",
    "        self.level = level\n",
    "        self.points = points\n",
    "        self.magic = magic"
   ]
  },
  {
   "cell_type": "code",
   "execution_count": 19,
   "metadata": {},
   "outputs": [
    {
     "name": "stderr",
     "output_type": "stream",
     "text": [
      "ERROR:root:Expected\n",
      "Traceback (most recent call last):\n",
      "  File \"<ipython-input-19-c5ccc301c321>\", line 2, in <module>\n",
      "    pickle.loads(serialized)\n",
      "  File \"<ipython-input-13-844b36f90418>\", line 2, in unpickle_game_state\n",
      "    return GameState(**kwargs)\n",
      "TypeError: __init__() got an unexpected keyword argument 'lives'\n"
     ]
    }
   ],
   "source": [
    "try:\n",
    "    pickle.loads(serialized)\n",
    "except:\n",
    "    logging.exception('Expected')\n",
    "else:\n",
    "    assert False"
   ]
  },
  {
   "cell_type": "code",
   "execution_count": 20,
   "metadata": {},
   "outputs": [],
   "source": [
    "def pickle_game_state(game_state):\n",
    "    kwargs = game_state.__dict__\n",
    "    kwargs['version'] = 2\n",
    "    return unpickle_game_state, (kwargs,)"
   ]
  },
  {
   "cell_type": "code",
   "execution_count": 21,
   "metadata": {},
   "outputs": [],
   "source": [
    "def unpickle_game_state(kwargs):\n",
    "    version = kwargs.pop('version', 1)\n",
    "    if version == 1:\n",
    "        del kwargs['lives']\n",
    "    return GameState(**kwargs)"
   ]
  },
  {
   "cell_type": "code",
   "execution_count": 22,
   "metadata": {},
   "outputs": [
    {
     "name": "stdout",
     "output_type": "stream",
     "text": [
      "Before: {'level': 0, 'lives': 4, 'points': 1000}\n",
      "After:  {'level': 0, 'points': 1000, 'magic': 5}\n"
     ]
    }
   ],
   "source": [
    "copyreg.pickle(GameState, pickle_game_state)\n",
    "print('Before:', state.__dict__)\n",
    "state_after = pickle.loads(serialized)\n",
    "\n",
    "print('After: ', state_after.__dict__)"
   ]
  },
  {
   "cell_type": "code",
   "execution_count": 23,
   "metadata": {},
   "outputs": [],
   "source": [
    "copyreg.dispatch_table.clear()"
   ]
  },
  {
   "cell_type": "code",
   "execution_count": 24,
   "metadata": {},
   "outputs": [],
   "source": [
    "state = GameState()\n",
    "serialized = pickle.dumps(state)"
   ]
  },
  {
   "cell_type": "code",
   "execution_count": 25,
   "metadata": {},
   "outputs": [],
   "source": [
    "del GameState\n",
    "\n",
    "class BetterGameState:\n",
    "    def __init__(self, level=0, points=0, magic=5):\n",
    "        self.level = level\n",
    "        self.points = points\n",
    "        self.magic = magic"
   ]
  },
  {
   "cell_type": "code",
   "execution_count": 26,
   "metadata": {},
   "outputs": [
    {
     "name": "stderr",
     "output_type": "stream",
     "text": [
      "ERROR:root:Expected\n",
      "Traceback (most recent call last):\n",
      "  File \"<ipython-input-26-c5ccc301c321>\", line 2, in <module>\n",
      "    pickle.loads(serialized)\n",
      "AttributeError: Can't get attribute 'GameState' on <module '__main__'>\n"
     ]
    }
   ],
   "source": [
    "try:\n",
    "    pickle.loads(serialized)\n",
    "except:\n",
    "    logging.exception('Expected')\n",
    "else:\n",
    "    assert False"
   ]
  },
  {
   "cell_type": "code",
   "execution_count": 27,
   "metadata": {},
   "outputs": [
    {
     "name": "stdout",
     "output_type": "stream",
     "text": [
      "b'\\x80\\x04\\x95A\\x00\\x00\\x00\\x00\\x00\\x00\\x00\\x8c\\x08__main__\\x94\\x8c\\tGameState\\x94\\x93\\x94)\\x81\\x94}\\x94(\\x8c\\x05level\\x94K\\x00\\x8c\\x06points\\x94K\\x00\\x8c\\x05magic\\x94K\\x05ub.'\n"
     ]
    }
   ],
   "source": [
    "print(serialized)"
   ]
  },
  {
   "cell_type": "code",
   "execution_count": 28,
   "metadata": {},
   "outputs": [],
   "source": [
    "copyreg.pickle(BetterGameState, pickle_game_state)"
   ]
  },
  {
   "cell_type": "code",
   "execution_count": 29,
   "metadata": {},
   "outputs": [
    {
     "name": "stdout",
     "output_type": "stream",
     "text": [
      "b'\\x80\\x04\\x95W\\x00\\x00\\x00\\x00\\x00\\x00\\x00\\x8c\\x08__main__\\x94\\x8c\\x13unpickle_game_state\\x94\\x93\\x94}\\x94(\\x8c\\x05level\\x94K\\x00\\x8c\\x06points\\x94K\\x00\\x8c\\x05magic\\x94K\\x05\\x8c\\x07version\\x94K\\x02u\\x85\\x94R\\x94.'\n"
     ]
    }
   ],
   "source": [
    "state = BetterGameState()\n",
    "serialized = pickle.dumps(state)\n",
    "print(serialized)"
   ]
  },
  {
   "cell_type": "markdown",
   "metadata": {},
   "source": [
    "> - 신뢰할 수 있는 프로그램 사이에 객체를 직렬화하고 역직렬화할 때는 `pickle` 내장 모듈이 유용하다.\n",
    "> - 시간이 지남에 따라 클래스가 바뀔(애트리뷰트의 추가나 삭제 등) 수 있으므로 이전에 피크한 객체를 역직렬화하면 문제가 생길 수 있다.\n",
    "> - 직렬화한 객체의 하위 호환성을 보장하고자 `copyreg` 내장 모듈과 `pickle`을 함께 사용하라."
   ]
  },
  {
   "cell_type": "code",
   "execution_count": null,
   "metadata": {},
   "outputs": [],
   "source": []
  }
 ],
 "metadata": {
  "kernelspec": {
   "display_name": "Python 3",
   "language": "python",
   "name": "python3"
  },
  "language_info": {
   "codemirror_mode": {
    "name": "ipython",
    "version": 3
   },
   "file_extension": ".py",
   "mimetype": "text/x-python",
   "name": "python",
   "nbconvert_exporter": "python",
   "pygments_lexer": "ipython3",
   "version": "3.8.7"
  }
 },
 "nbformat": 4,
 "nbformat_minor": 4
}
