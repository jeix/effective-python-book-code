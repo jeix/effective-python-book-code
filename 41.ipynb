{
 "cells": [
  {
   "cell_type": "markdown",
   "metadata": {},
   "source": [
    "## 5. Classes and Interfaces"
   ]
  },
  {
   "cell_type": "markdown",
   "metadata": {},
   "source": [
    "### 41 Consider Composing Functionality with Mix-in Classes"
   ]
  },
  {
   "cell_type": "code",
   "execution_count": 1,
   "metadata": {},
   "outputs": [],
   "source": [
    "from pprint import pprint"
   ]
  },
  {
   "cell_type": "code",
   "execution_count": 2,
   "metadata": {},
   "outputs": [],
   "source": [
    "class ToDictMixin:\n",
    "    def to_dict(self):\n",
    "        return self._traverse_dict(self.__dict__)\n",
    "\n",
    "    def _traverse_dict(self, instance_dict):\n",
    "        output = {}\n",
    "        for key, value in instance_dict.items():\n",
    "            output[key] = self._traverse(key, value)\n",
    "        return output\n",
    "\n",
    "    def _traverse(self, key, value):\n",
    "        if isinstance(value, ToDictMixin):\n",
    "            return value.to_dict()\n",
    "        elif isinstance(value, dict):\n",
    "            return self._traverse_dict(value)\n",
    "        elif isinstance(value, list):\n",
    "            return [self._traverse(key, i) for i in value]\n",
    "        elif hasattr(value, '__dict__'):\n",
    "            return self._traverse_dict(value.__dict__)\n",
    "        else:\n",
    "            return value"
   ]
  },
  {
   "cell_type": "code",
   "execution_count": 3,
   "metadata": {},
   "outputs": [],
   "source": [
    "class BinaryTree(ToDictMixin):\n",
    "    def __init__(self, value, left=None, right=None):\n",
    "        self.value = value\n",
    "        self.left = left\n",
    "        self.right = right"
   ]
  },
  {
   "cell_type": "code",
   "execution_count": 4,
   "metadata": {},
   "outputs": [
    {
     "name": "stdout",
     "output_type": "stream",
     "text": [
      "{'left': {'left': None,\n",
      "          'right': {'left': None, 'right': None, 'value': 9},\n",
      "          'value': 7},\n",
      " 'right': {'left': {'left': None, 'right': None, 'value': 11},\n",
      "           'right': None,\n",
      "           'value': 13},\n",
      " 'value': 10}\n"
     ]
    }
   ],
   "source": [
    "tree = BinaryTree(10,\n",
    "                  left=BinaryTree(7, right=BinaryTree(9)),\n",
    "                  right=BinaryTree(13, left=BinaryTree(11)))\n",
    "orig_print = print\n",
    "print = pprint\n",
    "pprint(tree.to_dict())\n",
    "print = orig_print"
   ]
  },
  {
   "cell_type": "code",
   "execution_count": 5,
   "metadata": {},
   "outputs": [],
   "source": [
    "class BinaryTreeWithParent(BinaryTree):\n",
    "    def __init__(self, value, left=None,\n",
    "                 right=None, parent=None):\n",
    "        super().__init__(value, left=left, right=right)\n",
    "        self.parent = parent\n",
    "\n",
    "    def _traverse(self, key, value):\n",
    "        if (isinstance(value, BinaryTreeWithParent) and\n",
    "                key == 'parent'):\n",
    "            return value.value  # Prevent cycles\n",
    "        else:\n",
    "            return super()._traverse(key, value)"
   ]
  },
  {
   "cell_type": "code",
   "execution_count": 6,
   "metadata": {},
   "outputs": [
    {
     "name": "stdout",
     "output_type": "stream",
     "text": [
      "{'left': {'left': None,\n",
      "          'parent': 10,\n",
      "          'right': {'left': None, 'parent': 7, 'right': None, 'value': 9},\n",
      "          'value': 7},\n",
      " 'parent': None,\n",
      " 'right': None,\n",
      " 'value': 10}\n"
     ]
    }
   ],
   "source": [
    "root = BinaryTreeWithParent(10)\n",
    "root.left = BinaryTreeWithParent(7, parent=root)\n",
    "root.left.right = BinaryTreeWithParent(9, parent=root.left)\n",
    "orig_print = print\n",
    "print = pprint\n",
    "pprint(root.to_dict())\n",
    "print = orig_print"
   ]
  },
  {
   "cell_type": "code",
   "execution_count": 7,
   "metadata": {},
   "outputs": [
    {
     "name": "stdout",
     "output_type": "stream",
     "text": [
      "{'name': 'foobar',\n",
      " 'tree_with_parent': {'left': None, 'parent': 7, 'right': None, 'value': 9}}\n"
     ]
    }
   ],
   "source": [
    "class NamedSubTree(ToDictMixin):\n",
    "    def __init__(self, name, tree_with_parent):\n",
    "        self.name = name\n",
    "        self.tree_with_parent = tree_with_parent\n",
    "\n",
    "my_tree = NamedSubTree('foobar', root.left.right)\n",
    "orig_print = print\n",
    "print = pprint\n",
    "pprint(my_tree.to_dict())  # No infinite loop\n",
    "print = orig_print"
   ]
  },
  {
   "cell_type": "code",
   "execution_count": 8,
   "metadata": {},
   "outputs": [],
   "source": [
    "import json\n",
    "\n",
    "class JsonMixin:\n",
    "    @classmethod\n",
    "    def from_json(cls, data):\n",
    "        kwargs = json.loads(data)\n",
    "        return cls(**kwargs)\n",
    "\n",
    "    def to_json(self):\n",
    "        return json.dumps(self.to_dict())"
   ]
  },
  {
   "cell_type": "code",
   "execution_count": 9,
   "metadata": {},
   "outputs": [],
   "source": [
    "class DatacenterRack(ToDictMixin, JsonMixin):\n",
    "    def __init__(self, switch=None, machines=None):\n",
    "        self.switch = Switch(**switch)\n",
    "        self.machines = [\n",
    "            Machine(**kwargs) for kwargs in machines]\n",
    "\n",
    "class Switch(ToDictMixin, JsonMixin):\n",
    "    def __init__(self, ports=None, speed=None):\n",
    "        self.ports = ports\n",
    "        self.speed = speed\n",
    "\n",
    "class Machine(ToDictMixin, JsonMixin):\n",
    "    def __init__(self, cores=None, ram=None, disk=None):\n",
    "        self.cores = cores\n",
    "        self.ram = ram\n",
    "        self.disk = disk"
   ]
  },
  {
   "cell_type": "code",
   "execution_count": 10,
   "metadata": {},
   "outputs": [],
   "source": [
    "serialized = \"\"\"{\n",
    "    \"switch\": {\"ports\": 5, \"speed\": 1e9},\n",
    "    \"machines\": [\n",
    "        {\"cores\": 8, \"ram\": 32e9, \"disk\": 5e12},\n",
    "        {\"cores\": 4, \"ram\": 16e9, \"disk\": 1e12},\n",
    "        {\"cores\": 2, \"ram\": 4e9, \"disk\": 500e9}\n",
    "    ]\n",
    "}\"\"\"\n",
    "\n",
    "deserialized = DatacenterRack.from_json(serialized)\n",
    "roundtrip = deserialized.to_json()\n",
    "assert json.loads(serialized) == json.loads(roundtrip)"
   ]
  },
  {
   "cell_type": "markdown",
   "metadata": {},
   "source": [
    "> - 믹스인을 사용해 구현할 수 있는 기능을 인스턴스 애트리뷰트와 `__init__`을 사용하는 다중 상속을 통해 구현하지 말라.\n",
    "> - 믹스인 클래스가 클래스별로 특화된 기능을 필요로 한다면 인스턴스 수준에서 끼워 넣을 수 있는 기능(정해진 메서드를 통해 해당 기능을 인스턴스가 제공하게 만듦)을 활용하라.\n",
    "> - 믹스인에는 필요에 따라 인스턴스 메서드는 물론 클래스 메서드도 포함될 수 있다.\n",
    "> - 믹스인을 합성하면 단순한 동작으로부터 더 복잡한 기능을 만들어낼 수 있다."
   ]
  },
  {
   "cell_type": "code",
   "execution_count": null,
   "metadata": {},
   "outputs": [],
   "source": []
  }
 ],
 "metadata": {
  "kernelspec": {
   "display_name": "Python 3",
   "language": "python",
   "name": "python3"
  },
  "language_info": {
   "codemirror_mode": {
    "name": "ipython",
    "version": 3
   },
   "file_extension": ".py",
   "mimetype": "text/x-python",
   "name": "python",
   "nbconvert_exporter": "python",
   "pygments_lexer": "ipython3",
   "version": "3.8.7"
  }
 },
 "nbformat": 4,
 "nbformat_minor": 4
}
